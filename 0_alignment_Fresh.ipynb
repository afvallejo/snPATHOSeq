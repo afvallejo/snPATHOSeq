{
  "cells": [
    {
      "cell_type": "markdown",
      "metadata": {
        "id": "view-in-github",
        "colab_type": "text"
      },
      "source": [
        "<a href=\"https://colab.research.google.com/github/afvallejo/snPATHOSeq/blob/main/0_alignment_Fresh.ipynb\" target=\"_parent\"><img src=\"https://colab.research.google.com/assets/colab-badge.svg\" alt=\"Open In Colab\"/></a>"
      ]
    },
    {
      "cell_type": "markdown",
      "metadata": {
        "id": "2wyjYCVEx1tV"
      },
      "source": [
        "# Sample LnCAP Fresh\n",
        "\n",
        "\n",
        "\n",
        "*   Alingment using cellranger 7.0.1\n",
        "\n",
        "----\n",
        "\n",
        "\n",
        "Changelog\n",
        "\n",
        "\n",
        "\n",
        "*   Update cellranger to 7.0.1\n",
        "\n",
        "\n",
        "\n",
        "----\n",
        "\n",
        "Andres F. Vallejo\n",
        "\n",
        "University of Adelaide \n",
        "\n",
        "----"
      ]
    },
    {
      "cell_type": "markdown",
      "metadata": {
        "hidePrompt": true,
        "id": "66YqfpWBx1tX"
      },
      "source": [
        "# Preliminaries"
      ]
    },
    {
      "cell_type": "markdown",
      "metadata": {
        "id": "zW1fc25Px1tX"
      },
      "source": [
        "## Dependecy notebooks"
      ]
    },
    {
      "cell_type": "markdown",
      "metadata": {
        "id": "4Ot-jqvkx1tX"
      },
      "source": [
        "\n",
        "\n",
        "* \n",
        "\n",
        "\n"
      ]
    },
    {
      "cell_type": "markdown",
      "metadata": {
        "id": "mqridQFSnEQ5"
      },
      "source": [
        "# Setup"
      ]
    },
    {
      "cell_type": "markdown",
      "metadata": {
        "id": "eGnsCTBWnEQ6"
      },
      "source": [
        "## link Gdrive"
      ]
    },
    {
      "cell_type": "code",
      "execution_count": null,
      "metadata": {
        "colab": {
          "base_uri": "https://localhost:8080/"
        },
        "id": "DgYNtX2H5WEL",
        "outputId": "a7ed7220-45d1-4538-de6d-1ed6cf20b718"
      },
      "outputs": [
        {
          "name": "stdout",
          "output_type": "stream",
          "text": [
            "Mounted at /content/drive\n"
          ]
        }
      ],
      "source": [
        "from google.colab import drive\n",
        "drive.mount('/content/drive',force_remount=True)"
      ]
    },
    {
      "cell_type": "markdown",
      "metadata": {
        "id": "8Yi0JSumAJOA"
      },
      "source": [
        "#Install Cell Ranger 7"
      ]
    },
    {
      "cell_type": "code",
      "execution_count": null,
      "metadata": {
        "colab": {
          "base_uri": "https://localhost:8080/"
        },
        "id": "6E9zlTcp23OK",
        "outputId": "02e757a0-c352-450e-997e-f89b9b2186df"
      },
      "outputs": [
        {
          "name": "stdout",
          "output_type": "stream",
          "text": [
            "/content\n"
          ]
        }
      ],
      "source": [
        "%cd /content/"
      ]
    },
    {
      "cell_type": "markdown",
      "metadata": {
        "id": "icmbJYNcLxRT"
      },
      "source": [
        "the link for downlading cellranger is unique, and have to be retrieved every time by click in the link, and coping the wget code"
      ]
    },
    {
      "cell_type": "markdown",
      "metadata": {
        "id": "F2A1amDmAuqL"
      },
      "source": [
        "[Link to Cellranger ](https://support.10xgenomics.com/single-cell-gene-expression/software/downloads/latest)"
      ]
    },
    {
      "cell_type": "code",
      "execution_count": null,
      "metadata": {
        "colab": {
          "base_uri": "https://localhost:8080/"
        },
        "id": "BiE2QIkI5T2N",
        "outputId": "69ebb229-c9f1-4409-8ae3-6e12194f32e7"
      },
      "outputs": [
        {
          "output_type": "stream",
          "name": "stdout",
          "text": [
            "--2022-09-01 06:14:25--  https://cf.10xgenomics.com/releases/cell-exp/cellranger-7.0.1.tar.gz?Expires=1662055984&Policy=eyJTdGF0ZW1lbnQiOlt7IlJlc291cmNlIjoiaHR0cHM6Ly9jZi4xMHhnZW5vbWljcy5jb20vcmVsZWFzZXMvY2VsbC1leHAvY2VsbHJhbmdlci03LjAuMS50YXIuZ3oiLCJDb25kaXRpb24iOnsiRGF0ZUxlc3NUaGFuIjp7IkFXUzpFcG9jaFRpbWUiOjE2NjIwNTU5ODR9fX1dfQ__&Signature=TKAiFllnNHdiYLYcsJOTUtnJoGeLFAmdgMOUHlkqVCFiYZ27-7TFYXr10lVsAh91JRIHEQC-DEF62~8RrQr1TdNDhfcdjgHDCkvWvUq~ExvCMMUdyyPd~59Pb6-NZ4AKcXRx6eLm3zdKwF6aK4ZTMxuWt3jQFDKj0W~AJzwzI9l~G0du0V3TFsleGuKjyfKbKmC1XU7hHDEm7ruSD7j1r4QTnUxOK-n9pjlm3Xs5yVODngDq9NhqjtZwaHaq54WKOrUo1IU1125MfGOia0dbySmMdvq2g4z4N51EkJleuSInMdVC~G8zEFOJ8U4n5oUj0ipeIluzDkHHVZ5nj2Wztw__&Key-Pair-Id=APKAI7S6A5RYOXBWRPDA\n",
            "Resolving cf.10xgenomics.com (cf.10xgenomics.com)... 104.18.1.173, 104.18.0.173, 2606:4700::6812:1ad, ...\n",
            "Connecting to cf.10xgenomics.com (cf.10xgenomics.com)|104.18.1.173|:443... connected.\n",
            "HTTP request sent, awaiting response... 200 OK\n",
            "Length: 628495377 (599M) [application/x-tar]\n",
            "Saving to: ‘cellranger-7.0.1.tar.gz’\n",
            "\n",
            "cellranger-7.0.1.ta 100%[===================>] 599.38M   190MB/s    in 3.2s    \n",
            "\n",
            "2022-09-01 06:14:29 (186 MB/s) - ‘cellranger-7.0.1.tar.gz’ saved [628495377/628495377]\n",
            "\n"
          ]
        }
      ],
      "source": [
        "!wget -O cellranger-7.0.1.tar.gz \"https://cf.10xgenomics.com/releases/cell-exp/cellranger-7.0.1.tar.gz?Expires=1662055984&Policy=eyJTdGF0ZW1lbnQiOlt7IlJlc291cmNlIjoiaHR0cHM6Ly9jZi4xMHhnZW5vbWljcy5jb20vcmVsZWFzZXMvY2VsbC1leHAvY2VsbHJhbmdlci03LjAuMS50YXIuZ3oiLCJDb25kaXRpb24iOnsiRGF0ZUxlc3NUaGFuIjp7IkFXUzpFcG9jaFRpbWUiOjE2NjIwNTU5ODR9fX1dfQ__&Signature=TKAiFllnNHdiYLYcsJOTUtnJoGeLFAmdgMOUHlkqVCFiYZ27-7TFYXr10lVsAh91JRIHEQC-DEF62~8RrQr1TdNDhfcdjgHDCkvWvUq~ExvCMMUdyyPd~59Pb6-NZ4AKcXRx6eLm3zdKwF6aK4ZTMxuWt3jQFDKj0W~AJzwzI9l~G0du0V3TFsleGuKjyfKbKmC1XU7hHDEm7ruSD7j1r4QTnUxOK-n9pjlm3Xs5yVODngDq9NhqjtZwaHaq54WKOrUo1IU1125MfGOia0dbySmMdvq2g4z4N51EkJleuSInMdVC~G8zEFOJ8U4n5oUj0ipeIluzDkHHVZ5nj2Wztw__&Key-Pair-Id=APKAI7S6A5RYOXBWRPDA\""
      ]
    },
    {
      "cell_type": "code",
      "execution_count": null,
      "metadata": {
        "id": "wNxnbrtWZ5XA"
      },
      "outputs": [],
      "source": [
        "!tar -xzf cellranger-7.0.1.tar.gz"
      ]
    },
    {
      "cell_type": "code",
      "execution_count": null,
      "metadata": {
        "colab": {
          "base_uri": "https://localhost:8080/"
        },
        "id": "R1PHTqoxFDjA",
        "outputId": "5d13150d-8850-42a1-a155-12f39eeb5e12"
      },
      "outputs": [
        {
          "name": "stdout",
          "output_type": "stream",
          "text": [
            "/content/cellranger-7.0.0\n"
          ]
        }
      ],
      "source": [
        "%cd /content/cellranger-7.0.1\n",
        "#%cd /Users/andres/cellranger-6.0.2"
      ]
    },
    {
      "cell_type": "markdown",
      "metadata": {
        "id": "IQP9I8RoAUf9"
      },
      "source": [
        "# Download References"
      ]
    },
    {
      "cell_type": "code",
      "execution_count": null,
      "metadata": {
        "colab": {
          "base_uri": "https://localhost:8080/"
        },
        "id": "6MxrvV2uBAXg",
        "outputId": "67b42a99-5481-475c-a0fc-fe92be0a53af"
      },
      "outputs": [
        {
          "output_type": "stream",
          "name": "stdout",
          "text": [
            "/content\n"
          ]
        }
      ],
      "source": [
        "%cd /content/"
      ]
    },
    {
      "cell_type": "markdown",
      "metadata": {
        "id": "ikDhgrBnBH3M"
      },
      "source": [
        "##Human"
      ]
    },
    {
      "cell_type": "code",
      "execution_count": null,
      "metadata": {
        "colab": {
          "base_uri": "https://localhost:8080/"
        },
        "id": "yU1RuernAWyj",
        "outputId": "32c3b3e1-8b5c-4538-dfc2-7937ddbd5068"
      },
      "outputs": [
        {
          "output_type": "stream",
          "name": "stdout",
          "text": [
            "--2022-09-01 06:15:26--  http://wget/\n",
            "Resolving wget (wget)... failed: Name or service not known.\n",
            "wget: unable to resolve host address ‘wget’\n",
            "--2022-09-01 06:15:26--  https://cf.10xgenomics.com/supp/cell-exp/refdata-gex-GRCh38-2020-A.tar.gz\n",
            "Resolving cf.10xgenomics.com (cf.10xgenomics.com)... 104.18.0.173, 104.18.1.173, 2606:4700::6812:ad, ...\n",
            "Connecting to cf.10xgenomics.com (cf.10xgenomics.com)|104.18.0.173|:443... connected.\n",
            "HTTP request sent, awaiting response... 200 OK\n",
            "Length: 11448662640 (11G) [application/x-tar]\n",
            "Saving to: ‘refdata-gex-GRCh38-2020-A.tar.gz’\n",
            "\n",
            "refdata-gex-GRCh38- 100%[===================>]  10.66G   141MB/s    in 77s     \n",
            "\n",
            "2022-09-01 06:16:43 (142 MB/s) - ‘refdata-gex-GRCh38-2020-A.tar.gz’ saved [11448662640/11448662640]\n",
            "\n",
            "FINISHED --2022-09-01 06:16:43--\n",
            "Total wall clock time: 1m 17s\n",
            "Downloaded: 1 files, 11G in 1m 17s (142 MB/s)\n",
            "refdata-gex-GRCh38-2020-A/\n",
            "refdata-gex-GRCh38-2020-A/pickle/\n",
            "refdata-gex-GRCh38-2020-A/pickle/genes.pickle\n",
            "refdata-gex-GRCh38-2020-A/fasta/\n",
            "refdata-gex-GRCh38-2020-A/fasta/genome.fa.fai\n",
            "refdata-gex-GRCh38-2020-A/fasta/genome.fa\n",
            "refdata-gex-GRCh38-2020-A/star/\n",
            "refdata-gex-GRCh38-2020-A/star/transcriptInfo.tab\n",
            "refdata-gex-GRCh38-2020-A/star/chrNameLength.txt\n",
            "refdata-gex-GRCh38-2020-A/star/SAindex\n",
            "refdata-gex-GRCh38-2020-A/star/geneInfo.tab\n",
            "refdata-gex-GRCh38-2020-A/star/SA\n",
            "refdata-gex-GRCh38-2020-A/star/exonInfo.tab\n",
            "refdata-gex-GRCh38-2020-A/star/chrStart.txt\n",
            "refdata-gex-GRCh38-2020-A/star/chrName.txt\n",
            "refdata-gex-GRCh38-2020-A/star/sjdbList.fromGTF.out.tab\n",
            "refdata-gex-GRCh38-2020-A/star/chrLength.txt\n",
            "refdata-gex-GRCh38-2020-A/star/sjdbInfo.txt\n",
            "refdata-gex-GRCh38-2020-A/star/genomeParameters.txt\n",
            "refdata-gex-GRCh38-2020-A/star/exonGeTrInfo.tab\n",
            "refdata-gex-GRCh38-2020-A/star/Genome\n",
            "refdata-gex-GRCh38-2020-A/star/sjdbList.out.tab\n",
            "refdata-gex-GRCh38-2020-A/genes/\n",
            "refdata-gex-GRCh38-2020-A/genes/genes.gtf\n",
            "refdata-gex-GRCh38-2020-A/reference.json\n"
          ]
        }
      ],
      "source": [
        "!wget wget https://cf.10xgenomics.com/supp/cell-exp/refdata-gex-GRCh38-2020-A.tar.gz\n",
        "!tar -xzvf refdata-gex-GRCh38-2020-A.tar.gz"
      ]
    },
    {
      "cell_type": "markdown",
      "metadata": {
        "id": "6N0qmlo5uwUc"
      },
      "source": [
        "# Probeset for FRP"
      ]
    },
    {
      "cell_type": "code",
      "execution_count": null,
      "metadata": {
        "id": "xaufcgbBu1W3",
        "colab": {
          "base_uri": "https://localhost:8080/"
        },
        "outputId": "14ed20e6-b775-4381-f7c3-1ab6a5c418a1"
      },
      "outputs": [
        {
          "output_type": "stream",
          "name": "stdout",
          "text": [
            "--2022-09-01 06:19:41--  https://cf.10xgenomics.com/supp/cell-exp/probeset/Chromium_Human_Transcriptome_Probe_Set_v1.0_GRCh38-2020-A.csv\n",
            "Resolving cf.10xgenomics.com (cf.10xgenomics.com)... 104.18.1.173, 104.18.0.173, 2606:4700::6812:ad, ...\n",
            "Connecting to cf.10xgenomics.com (cf.10xgenomics.com)|104.18.1.173|:443... connected.\n",
            "HTTP request sent, awaiting response... 200 OK\n",
            "Length: 5605024 (5.3M) [text/csv]\n",
            "Saving to: ‘Chromium_Human_Transcriptome_Probe_Set_v1.0_GRCh38-2020-A.csv’\n",
            "\n",
            "Chromium_Human_Tran 100%[===================>]   5.34M  14.9MB/s    in 0.4s    \n",
            "\n",
            "2022-09-01 06:19:42 (14.9 MB/s) - ‘Chromium_Human_Transcriptome_Probe_Set_v1.0_GRCh38-2020-A.csv’ saved [5605024/5605024]\n",
            "\n"
          ]
        }
      ],
      "source": [
        "!wget https://cf.10xgenomics.com/supp/cell-exp/probeset/Chromium_Human_Transcriptome_Probe_Set_v1.0_GRCh38-2020-A.csv"
      ]
    },
    {
      "cell_type": "markdown",
      "metadata": {
        "id": "5mzqYLZcfnty"
      },
      "source": [
        "## Fresh"
      ]
    },
    {
      "cell_type": "code",
      "execution_count": null,
      "metadata": {
        "colab": {
          "base_uri": "https://localhost:8080/"
        },
        "id": "TsDwNzVIwckl",
        "outputId": "a3235aee-da67-44e3-a42a-3ffd37451c14"
      },
      "outputs": [
        {
          "name": "stdout",
          "output_type": "stream",
          "text": [
            "/content\n"
          ]
        }
      ],
      "source": [
        "%cd /content/"
      ]
    },
    {
      "cell_type": "code",
      "execution_count": null,
      "metadata": {
        "colab": {
          "background_save": true,
          "base_uri": "https://localhost:8080/"
        },
        "id": "M46d6XVLV5qI",
        "outputId": "141fd4ff-91ae-495b-9bb3-643a8a3768da"
      },
      "outputs": [
        {
          "name": "stdout",
          "output_type": "stream",
          "text": [
            "Martian Runtime - v4.0.8\n",
            "Serving UI at http://40789118ee29:40631?auth=xpCNIfNG4nrsabLANv7htzsZWpXe3fgyO8VlcBQtRcA\n",
            "\n",
            "Running preflight checks (please wait)...\n",
            "Checking sample info...\n",
            "Checking FASTQ folder...\n",
            "Checking reference...\n",
            "Checking reference_path (/content/refdata-gex-GRCh38-2020-A) on 40789118ee29...\n",
            "Checking optional arguments...\n",
            "mro: v4.0.8\n",
            "mrp: v4.0.8\n",
            "Anaconda: Python 3.8.12\n",
            "numpy: 1.21.2\n",
            "scipy: 1.7.3\n",
            "pysam: 0.16.0.1\n",
            "h5py: 3.6.0\n",
            "pandas: 1.3.5\n",
            "STAR: 2.7.2a\n",
            "samtools: samtools 1.12\n",
            "2022-08-31 00:45:07 [runtime] (ready)           ID.4399GEX.SC_RNA_COUNTER_CS.SC_MULTI_CORE.MAKE_FULL_CONFIG._MAKE_VDJ_CONFIG\n",
            "2022-08-31 00:45:07 [runtime] (run:local)       ID.4399GEX.SC_RNA_COUNTER_CS.SC_MULTI_CORE.MAKE_FULL_CONFIG._MAKE_VDJ_CONFIG.fork0.chnk0.main\n",
            "2022-08-31 00:45:07 [runtime] (ready)           ID.4399GEX.SC_RNA_COUNTER_CS.FULL_COUNT_INPUTS.WRITE_GENE_INDEX\n",
            "2022-08-31 00:45:07 [runtime] (run:local)       ID.4399GEX.SC_RNA_COUNTER_CS.FULL_COUNT_INPUTS.WRITE_GENE_INDEX.fork0.chnk0.main\n",
            "2022-08-31 00:45:07 [runtime] (ready)           ID.4399GEX.SC_RNA_COUNTER_CS.WRITE_GENE_INDEX\n",
            "2022-08-31 00:45:07 [runtime] (run:local)       ID.4399GEX.SC_RNA_COUNTER_CS.WRITE_GENE_INDEX.fork0.chnk0.main\n",
            "2022-08-31 00:45:07 [runtime] (ready)           ID.4399GEX.SC_RNA_COUNTER_CS.SC_MULTI_CORE.MULTI_CHEMISTRY_DETECTOR._GEM_WELL_CHEMISTRY_DETECTOR.DETECT_COUNT_CHEMISTRY\n",
            "2022-08-31 00:45:07 [runtime] (run:local)       ID.4399GEX.SC_RNA_COUNTER_CS.SC_MULTI_CORE.MULTI_CHEMISTRY_DETECTOR._GEM_WELL_CHEMISTRY_DETECTOR.DETECT_COUNT_CHEMISTRY.fork0.chnk0.main\n",
            "2022-08-31 00:45:07 [runtime] (ready)           ID.4399GEX.SC_RNA_COUNTER_CS.SC_MULTI_CORE.SANITIZE_MAP_CALLS\n",
            "2022-08-31 00:45:07 [runtime] (chunks_complete) ID.4399GEX.SC_RNA_COUNTER_CS.SC_MULTI_CORE.MAKE_FULL_CONFIG._MAKE_VDJ_CONFIG\n",
            "2022-08-31 00:45:07 [runtime] (ready)           ID.4399GEX.SC_RNA_COUNTER_CS.SC_MULTI_CORE.MULTI_GEM_WELL_PROCESSOR.VDJ_B_GEM_WELL_PROCESSOR.MULTI_SETUP_CHUNKS\n",
            "2022-08-31 00:45:07 [runtime] (ready)           ID.4399GEX.SC_RNA_COUNTER_CS.SC_MULTI_CORE.MULTI_GEM_WELL_PROCESSOR.VDJ_B_GEM_WELL_PROCESSOR.SC_VDJ_CONTIG_ASSEMBLER.MAKE_SHARD\n",
            "2022-08-31 00:45:07 [runtime] (ready)           ID.4399GEX.SC_RNA_COUNTER_CS.SC_MULTI_CORE.MULTI_GEM_WELL_PROCESSOR.VDJ_T_GEM_WELL_PROCESSOR.MULTI_SETUP_CHUNKS\n",
            "2022-08-31 00:45:07 [runtime] (ready)           ID.4399GEX.SC_RNA_COUNTER_CS.SC_MULTI_CORE.MULTI_GEM_WELL_PROCESSOR.VDJ_T_GD_GEM_WELL_PROCESSOR.MULTI_SETUP_CHUNKS\n",
            "2022-08-31 00:45:07 [runtime] (ready)           ID.4399GEX.SC_RNA_COUNTER_CS.SC_MULTI_CORE.MULTI_GEM_WELL_PROCESSOR.VDJ_T_GEM_WELL_PROCESSOR.SC_VDJ_CONTIG_ASSEMBLER.MAKE_SHARD\n",
            "2022-08-31 00:45:07 [runtime] (ready)           ID.4399GEX.SC_RNA_COUNTER_CS.SC_MULTI_CORE.MULTI_GEM_WELL_PROCESSOR.VDJ_B_GEM_WELL_PROCESSOR.SC_VDJ_CONTIG_ASSEMBLER.BARCODE_CORRECTION\n",
            "2022-08-31 00:45:07 [runtime] (ready)           ID.4399GEX.SC_RNA_COUNTER_CS.SC_MULTI_CORE.MULTI_GEM_WELL_PROCESSOR.VDJ_T_GD_GEM_WELL_PROCESSOR.SC_VDJ_CONTIG_ASSEMBLER.MAKE_SHARD\n",
            "2022-08-31 00:45:07 [runtime] (ready)           ID.4399GEX.SC_RNA_COUNTER_CS.SC_MULTI_CORE.MULTI_GEM_WELL_PROCESSOR.VDJ_T_GD_GEM_WELL_PROCESSOR.SC_VDJ_CONTIG_ASSEMBLER.BARCODE_CORRECTION\n",
            "2022-08-31 00:45:07 [runtime] (ready)           ID.4399GEX.SC_RNA_COUNTER_CS.SC_MULTI_CORE.MULTI_GEM_WELL_PROCESSOR.VDJ_T_GEM_WELL_PROCESSOR.SC_VDJ_CONTIG_ASSEMBLER.BARCODE_CORRECTION\n",
            "2022-08-31 00:45:07 [runtime] (ready)           ID.4399GEX.SC_RNA_COUNTER_CS.SC_MULTI_CORE.MULTI_GEM_WELL_PROCESSOR.VDJ_B_GEM_WELL_PROCESSOR.SC_VDJ_CONTIG_ASSEMBLER.RUST_BRIDGE\n",
            "2022-08-31 00:45:07 [runtime] (ready)           ID.4399GEX.SC_RNA_COUNTER_CS.SC_MULTI_CORE.MULTI_GEM_WELL_PROCESSOR.VDJ_T_GD_GEM_WELL_PROCESSOR.SC_VDJ_CONTIG_ASSEMBLER.RUST_BRIDGE\n",
            "2022-08-31 00:45:07 [runtime] (ready)           ID.4399GEX.SC_RNA_COUNTER_CS.SC_MULTI_CORE.MULTI_GEM_WELL_PROCESSOR.VDJ_T_GEM_WELL_PROCESSOR.SC_VDJ_CONTIG_ASSEMBLER.RUST_BRIDGE\n",
            "2022-08-31 00:45:07 [runtime] (ready)           ID.4399GEX.SC_RNA_COUNTER_CS.SC_MULTI_CORE.MULTI_GEM_WELL_PROCESSOR.VDJ_B_GEM_WELL_PROCESSOR.SC_VDJ_CONTIG_ASSEMBLER.ASSEMBLE_VDJ\n",
            "2022-08-31 00:45:07 [runtime] (ready)           ID.4399GEX.SC_RNA_COUNTER_CS.SC_MULTI_CORE.MULTI_GEM_WELL_PROCESSOR.VDJ_T_GD_GEM_WELL_PROCESSOR.SC_VDJ_CONTIG_ASSEMBLER.ASSEMBLE_VDJ\n",
            "2022-08-31 00:45:07 [runtime] (ready)           ID.4399GEX.SC_RNA_COUNTER_CS.SC_MULTI_CORE.MULTI_GEM_WELL_PROCESSOR.VDJ_T_GEM_WELL_PROCESSOR.SC_VDJ_CONTIG_ASSEMBLER.ASSEMBLE_VDJ\n",
            "2022-08-31 00:45:07 [runtime] (ready)           ID.4399GEX.SC_RNA_COUNTER_CS.SC_MULTI_CORE.MULTI_GEM_WELL_PROCESSOR.VDJ_B_GEM_WELL_PROCESSOR.SC_VDJ_CONTIG_ASSEMBLER.MERGE_METRICS\n",
            "2022-08-31 00:45:07 [runtime] (ready)           ID.4399GEX.SC_RNA_COUNTER_CS.SC_MULTI_CORE.MULTI_GEM_WELL_PROCESSOR.VDJ_T_GD_GEM_WELL_PROCESSOR.SC_VDJ_CONTIG_ASSEMBLER.MERGE_METRICS\n",
            "2022-08-31 00:45:07 [runtime] (ready)           ID.4399GEX.SC_RNA_COUNTER_CS.SC_MULTI_CORE.MULTI_GEM_WELL_PROCESSOR.VDJ_T_GEM_WELL_PROCESSOR.SC_VDJ_CONTIG_ASSEMBLER.MERGE_METRICS\n",
            "2022-08-31 00:45:47 [runtime] (chunks_complete) ID.4399GEX.SC_RNA_COUNTER_CS.FULL_COUNT_INPUTS.WRITE_GENE_INDEX\n",
            "2022-08-31 00:45:47 [runtime] (chunks_complete) ID.4399GEX.SC_RNA_COUNTER_CS.WRITE_GENE_INDEX\n",
            "2022-08-31 00:45:47 [runtime] (ready)           ID.4399GEX.SC_RNA_COUNTER_CS.SC_MULTI_CORE.MULTI_GEM_WELL_PROCESSOR.COUNT_GEM_WELL_PROCESSOR.PARSE_TARGET_FEATURES\n",
            "2022-08-31 00:45:47 [runtime] (run:local)       ID.4399GEX.SC_RNA_COUNTER_CS.SC_MULTI_CORE.MULTI_GEM_WELL_PROCESSOR.COUNT_GEM_WELL_PROCESSOR.PARSE_TARGET_FEATURES.fork0.chnk0.main\n",
            "2022-08-31 00:46:01 [runtime] (chunks_complete) ID.4399GEX.SC_RNA_COUNTER_CS.SC_MULTI_CORE.MULTI_CHEMISTRY_DETECTOR._GEM_WELL_CHEMISTRY_DETECTOR.DETECT_COUNT_CHEMISTRY\n",
            "2022-08-31 00:46:01 [runtime] (ready)           ID.4399GEX.SC_RNA_COUNTER_CS.SC_MULTI_CORE.MULTI_CHEMISTRY_DETECTOR._GEM_WELL_CHEMISTRY_DETECTOR.CHECK_BARCODES_COMPATIBILITY\n",
            "2022-08-31 00:46:01 [runtime] (run:local)       ID.4399GEX.SC_RNA_COUNTER_CS.SC_MULTI_CORE.MULTI_CHEMISTRY_DETECTOR._GEM_WELL_CHEMISTRY_DETECTOR.CHECK_BARCODES_COMPATIBILITY.fork0.chnk0.main\n",
            "2022-08-31 00:46:01 [runtime] (chunks_complete) ID.4399GEX.SC_RNA_COUNTER_CS.SC_MULTI_CORE.MULTI_CHEMISTRY_DETECTOR._GEM_WELL_CHEMISTRY_DETECTOR.CHECK_BARCODES_COMPATIBILITY\n",
            "2022-08-31 00:46:01 [runtime] (ready)           ID.4399GEX.SC_RNA_COUNTER_CS.SC_MULTI_CORE.MULTI_CHEMISTRY_DETECTOR.COMBINE_GEM_WELL_CHEMISTRIES\n",
            "2022-08-31 00:46:01 [runtime] (run:local)       ID.4399GEX.SC_RNA_COUNTER_CS.SC_MULTI_CORE.MULTI_CHEMISTRY_DETECTOR.COMBINE_GEM_WELL_CHEMISTRIES.fork0.chnk0.main\n",
            "2022-08-31 00:46:01 [runtime] (chunks_complete) ID.4399GEX.SC_RNA_COUNTER_CS.SC_MULTI_CORE.MULTI_CHEMISTRY_DETECTOR.COMBINE_GEM_WELL_CHEMISTRIES\n",
            "2022-08-31 00:46:01 [runtime] (ready)           ID.4399GEX.SC_RNA_COUNTER_CS.SC_MULTI_CORE.SPLIT_VDJ_INPUTS\n",
            "2022-08-31 00:46:01 [runtime] (ready)           ID.4399GEX.SC_RNA_COUNTER_CS.SC_MULTI_CORE.MULTI_GEM_WELL_PROCESSOR.COUNT_GEM_WELL_PROCESSOR.MULTI_SETUP_CHUNKS\n",
            "2022-08-31 00:46:01 [runtime] (run:local)       ID.4399GEX.SC_RNA_COUNTER_CS.SC_MULTI_CORE.MULTI_GEM_WELL_PROCESSOR.COUNT_GEM_WELL_PROCESSOR.MULTI_SETUP_CHUNKS.fork0.chnk0.main\n",
            "2022-08-31 00:46:01 [runtime] (chunks_complete) ID.4399GEX.SC_RNA_COUNTER_CS.SC_MULTI_CORE.MULTI_GEM_WELL_PROCESSOR.COUNT_GEM_WELL_PROCESSOR.MULTI_SETUP_CHUNKS\n",
            "2022-08-31 00:46:01 [runtime] (chunks_complete) ID.4399GEX.SC_RNA_COUNTER_CS.SC_MULTI_CORE.MULTI_GEM_WELL_PROCESSOR.COUNT_GEM_WELL_PROCESSOR.PARSE_TARGET_FEATURES\n",
            "2022-08-31 00:46:02 [runtime] (ready)           ID.4399GEX.SC_RNA_COUNTER_CS.SC_MULTI_CORE.MULTI_GEM_WELL_PROCESSOR.COUNT_GEM_WELL_PROCESSOR._BASIC_SC_RNA_COUNTER._MATRIX_COMPUTER.MAKE_SHARD\n",
            "2022-08-31 00:46:02 [runtime] (run:local)       ID.4399GEX.SC_RNA_COUNTER_CS.SC_MULTI_CORE.MULTI_GEM_WELL_PROCESSOR.COUNT_GEM_WELL_PROCESSOR._BASIC_SC_RNA_COUNTER._MATRIX_COMPUTER.MAKE_SHARD.fork0.split\n",
            "2022-08-31 00:46:09 [runtime] (split_complete)  ID.4399GEX.SC_RNA_COUNTER_CS.SC_MULTI_CORE.MULTI_GEM_WELL_PROCESSOR.COUNT_GEM_WELL_PROCESSOR._BASIC_SC_RNA_COUNTER._MATRIX_COMPUTER.MAKE_SHARD\n",
            "2022-08-31 00:46:09 [runtime] (run:local)       ID.4399GEX.SC_RNA_COUNTER_CS.SC_MULTI_CORE.MULTI_GEM_WELL_PROCESSOR.COUNT_GEM_WELL_PROCESSOR._BASIC_SC_RNA_COUNTER._MATRIX_COMPUTER.MAKE_SHARD.fork0.chnk0.main\n",
            "2022-08-31 00:52:11 [runtime] (update)          ID.4399GEX.SC_RNA_COUNTER_CS.SC_MULTI_CORE.MULTI_GEM_WELL_PROCESSOR.COUNT_GEM_WELL_PROCESSOR._BASIC_SC_RNA_COUNTER._MATRIX_COMPUTER.MAKE_SHARD.fork0 chunks_running\n",
            "2022-08-31 00:58:12 [runtime] (update)          ID.4399GEX.SC_RNA_COUNTER_CS.SC_MULTI_CORE.MULTI_GEM_WELL_PROCESSOR.COUNT_GEM_WELL_PROCESSOR._BASIC_SC_RNA_COUNTER._MATRIX_COMPUTER.MAKE_SHARD.fork0 chunks_running\n",
            "2022-08-31 01:04:13 [runtime] (update)          ID.4399GEX.SC_RNA_COUNTER_CS.SC_MULTI_CORE.MULTI_GEM_WELL_PROCESSOR.COUNT_GEM_WELL_PROCESSOR._BASIC_SC_RNA_COUNTER._MATRIX_COMPUTER.MAKE_SHARD.fork0 chunks_running\n",
            "2022-08-31 01:10:11 [runtime] (update)          ID.4399GEX.SC_RNA_COUNTER_CS.SC_MULTI_CORE.MULTI_GEM_WELL_PROCESSOR.COUNT_GEM_WELL_PROCESSOR._BASIC_SC_RNA_COUNTER._MATRIX_COMPUTER.MAKE_SHARD.fork0 chunks_running\n",
            "2022-08-31 01:16:13 [runtime] (update)          ID.4399GEX.SC_RNA_COUNTER_CS.SC_MULTI_CORE.MULTI_GEM_WELL_PROCESSOR.COUNT_GEM_WELL_PROCESSOR._BASIC_SC_RNA_COUNTER._MATRIX_COMPUTER.MAKE_SHARD.fork0 chunks_running\n",
            "2022-08-31 01:22:14 [runtime] (update)          ID.4399GEX.SC_RNA_COUNTER_CS.SC_MULTI_CORE.MULTI_GEM_WELL_PROCESSOR.COUNT_GEM_WELL_PROCESSOR._BASIC_SC_RNA_COUNTER._MATRIX_COMPUTER.MAKE_SHARD.fork0 chunks_running\n",
            "2022-08-31 01:28:13 [runtime] (update)          ID.4399GEX.SC_RNA_COUNTER_CS.SC_MULTI_CORE.MULTI_GEM_WELL_PROCESSOR.COUNT_GEM_WELL_PROCESSOR._BASIC_SC_RNA_COUNTER._MATRIX_COMPUTER.MAKE_SHARD.fork0 chunks_running\n",
            "2022-08-31 01:34:14 [runtime] (update)          ID.4399GEX.SC_RNA_COUNTER_CS.SC_MULTI_CORE.MULTI_GEM_WELL_PROCESSOR.COUNT_GEM_WELL_PROCESSOR._BASIC_SC_RNA_COUNTER._MATRIX_COMPUTER.MAKE_SHARD.fork0 chunks_running\n",
            "2022-08-31 01:40:13 [runtime] (update)          ID.4399GEX.SC_RNA_COUNTER_CS.SC_MULTI_CORE.MULTI_GEM_WELL_PROCESSOR.COUNT_GEM_WELL_PROCESSOR._BASIC_SC_RNA_COUNTER._MATRIX_COMPUTER.MAKE_SHARD.fork0 chunks_running\n",
            "2022-08-31 01:41:27 [runtime] (chunks_complete) ID.4399GEX.SC_RNA_COUNTER_CS.SC_MULTI_CORE.MULTI_GEM_WELL_PROCESSOR.COUNT_GEM_WELL_PROCESSOR._BASIC_SC_RNA_COUNTER._MATRIX_COMPUTER.MAKE_SHARD\n",
            "2022-08-31 01:41:27 [runtime] (run:local)       ID.4399GEX.SC_RNA_COUNTER_CS.SC_MULTI_CORE.MULTI_GEM_WELL_PROCESSOR.COUNT_GEM_WELL_PROCESSOR._BASIC_SC_RNA_COUNTER._MATRIX_COMPUTER.MAKE_SHARD.fork0.join\n",
            "2022-08-31 01:41:30 [runtime] (join_complete)   ID.4399GEX.SC_RNA_COUNTER_CS.SC_MULTI_CORE.MULTI_GEM_WELL_PROCESSOR.COUNT_GEM_WELL_PROCESSOR._BASIC_SC_RNA_COUNTER._MATRIX_COMPUTER.MAKE_SHARD\n",
            "2022-08-31 01:41:30 [runtime] (ready)           ID.4399GEX.SC_RNA_COUNTER_CS.SC_MULTI_CORE.MULTI_GEM_WELL_PROCESSOR.COUNT_GEM_WELL_PROCESSOR._BASIC_SC_RNA_COUNTER._MATRIX_COMPUTER.BARCODE_CORRECTION\n",
            "2022-08-31 01:41:30 [runtime] (run:local)       ID.4399GEX.SC_RNA_COUNTER_CS.SC_MULTI_CORE.MULTI_GEM_WELL_PROCESSOR.COUNT_GEM_WELL_PROCESSOR._BASIC_SC_RNA_COUNTER._MATRIX_COMPUTER.BARCODE_CORRECTION.fork0.split\n",
            "2022-08-31 01:41:31 [runtime] (split_complete)  ID.4399GEX.SC_RNA_COUNTER_CS.SC_MULTI_CORE.MULTI_GEM_WELL_PROCESSOR.COUNT_GEM_WELL_PROCESSOR._BASIC_SC_RNA_COUNTER._MATRIX_COMPUTER.BARCODE_CORRECTION\n",
            "2022-08-31 01:41:31 [runtime] (run:local)       ID.4399GEX.SC_RNA_COUNTER_CS.SC_MULTI_CORE.MULTI_GEM_WELL_PROCESSOR.COUNT_GEM_WELL_PROCESSOR._BASIC_SC_RNA_COUNTER._MATRIX_COMPUTER.BARCODE_CORRECTION.fork0.chnk00.main\n",
            "2022-08-31 01:41:31 [runtime] (run:local)       ID.4399GEX.SC_RNA_COUNTER_CS.SC_MULTI_CORE.MULTI_GEM_WELL_PROCESSOR.COUNT_GEM_WELL_PROCESSOR._BASIC_SC_RNA_COUNTER._MATRIX_COMPUTER.BARCODE_CORRECTION.fork0.chnk01.main\n",
            "2022-08-31 01:41:31 [runtime] (run:local)       ID.4399GEX.SC_RNA_COUNTER_CS.SC_MULTI_CORE.MULTI_GEM_WELL_PROCESSOR.COUNT_GEM_WELL_PROCESSOR._BASIC_SC_RNA_COUNTER._MATRIX_COMPUTER.BARCODE_CORRECTION.fork0.chnk02.main\n",
            "2022-08-31 01:41:31 [runtime] (run:local)       ID.4399GEX.SC_RNA_COUNTER_CS.SC_MULTI_CORE.MULTI_GEM_WELL_PROCESSOR.COUNT_GEM_WELL_PROCESSOR._BASIC_SC_RNA_COUNTER._MATRIX_COMPUTER.BARCODE_CORRECTION.fork0.chnk03.main\n",
            "2022-08-31 01:41:31 [runtime] (run:local)       ID.4399GEX.SC_RNA_COUNTER_CS.SC_MULTI_CORE.MULTI_GEM_WELL_PROCESSOR.COUNT_GEM_WELL_PROCESSOR._BASIC_SC_RNA_COUNTER._MATRIX_COMPUTER.BARCODE_CORRECTION.fork0.chnk04.main\n",
            "2022-08-31 01:41:31 [runtime] (run:local)       ID.4399GEX.SC_RNA_COUNTER_CS.SC_MULTI_CORE.MULTI_GEM_WELL_PROCESSOR.COUNT_GEM_WELL_PROCESSOR._BASIC_SC_RNA_COUNTER._MATRIX_COMPUTER.BARCODE_CORRECTION.fork0.chnk05.main\n",
            "2022-08-31 01:41:31 [runtime] (run:local)       ID.4399GEX.SC_RNA_COUNTER_CS.SC_MULTI_CORE.MULTI_GEM_WELL_PROCESSOR.COUNT_GEM_WELL_PROCESSOR._BASIC_SC_RNA_COUNTER._MATRIX_COMPUTER.BARCODE_CORRECTION.fork0.chnk06.main\n",
            "2022-08-31 01:41:31 [runtime] (run:local)       ID.4399GEX.SC_RNA_COUNTER_CS.SC_MULTI_CORE.MULTI_GEM_WELL_PROCESSOR.COUNT_GEM_WELL_PROCESSOR._BASIC_SC_RNA_COUNTER._MATRIX_COMPUTER.BARCODE_CORRECTION.fork0.chnk07.main\n",
            "2022-08-31 01:41:31 [runtime] (run:local)       ID.4399GEX.SC_RNA_COUNTER_CS.SC_MULTI_CORE.MULTI_GEM_WELL_PROCESSOR.COUNT_GEM_WELL_PROCESSOR._BASIC_SC_RNA_COUNTER._MATRIX_COMPUTER.BARCODE_CORRECTION.fork0.chnk08.main\n",
            "2022-08-31 01:41:31 [runtime] (run:local)       ID.4399GEX.SC_RNA_COUNTER_CS.SC_MULTI_CORE.MULTI_GEM_WELL_PROCESSOR.COUNT_GEM_WELL_PROCESSOR._BASIC_SC_RNA_COUNTER._MATRIX_COMPUTER.BARCODE_CORRECTION.fork0.chnk09.main\n",
            "2022-08-31 01:41:31 [runtime] (run:local)       ID.4399GEX.SC_RNA_COUNTER_CS.SC_MULTI_CORE.MULTI_GEM_WELL_PROCESSOR.COUNT_GEM_WELL_PROCESSOR._BASIC_SC_RNA_COUNTER._MATRIX_COMPUTER.BARCODE_CORRECTION.fork0.chnk10.main\n",
            "2022-08-31 01:41:31 [runtime] (run:local)       ID.4399GEX.SC_RNA_COUNTER_CS.SC_MULTI_CORE.MULTI_GEM_WELL_PROCESSOR.COUNT_GEM_WELL_PROCESSOR._BASIC_SC_RNA_COUNTER._MATRIX_COMPUTER.BARCODE_CORRECTION.fork0.chnk11.main\n",
            "2022-08-31 01:41:31 [runtime] (run:local)       ID.4399GEX.SC_RNA_COUNTER_CS.SC_MULTI_CORE.MULTI_GEM_WELL_PROCESSOR.COUNT_GEM_WELL_PROCESSOR._BASIC_SC_RNA_COUNTER._MATRIX_COMPUTER.BARCODE_CORRECTION.fork0.chnk12.main\n",
            "2022-08-31 01:41:31 [runtime] (run:local)       ID.4399GEX.SC_RNA_COUNTER_CS.SC_MULTI_CORE.MULTI_GEM_WELL_PROCESSOR.COUNT_GEM_WELL_PROCESSOR._BASIC_SC_RNA_COUNTER._MATRIX_COMPUTER.BARCODE_CORRECTION.fork0.chnk13.main\n",
            "2022-08-31 01:41:31 [runtime] (run:local)       ID.4399GEX.SC_RNA_COUNTER_CS.SC_MULTI_CORE.MULTI_GEM_WELL_PROCESSOR.COUNT_GEM_WELL_PROCESSOR._BASIC_SC_RNA_COUNTER._MATRIX_COMPUTER.BARCODE_CORRECTION.fork0.chnk14.main\n",
            "2022-08-31 01:41:31 [runtime] (run:local)       ID.4399GEX.SC_RNA_COUNTER_CS.SC_MULTI_CORE.MULTI_GEM_WELL_PROCESSOR.COUNT_GEM_WELL_PROCESSOR._BASIC_SC_RNA_COUNTER._MATRIX_COMPUTER.BARCODE_CORRECTION.fork0.chnk15.main\n",
            "2022-08-31 01:41:31 [runtime] (run:local)       ID.4399GEX.SC_RNA_COUNTER_CS.SC_MULTI_CORE.MULTI_GEM_WELL_PROCESSOR.COUNT_GEM_WELL_PROCESSOR._BASIC_SC_RNA_COUNTER._MATRIX_COMPUTER.BARCODE_CORRECTION.fork0.chnk16.main\n",
            "2022-08-31 01:41:31 [runtime] (run:local)       ID.4399GEX.SC_RNA_COUNTER_CS.SC_MULTI_CORE.MULTI_GEM_WELL_PROCESSOR.COUNT_GEM_WELL_PROCESSOR._BASIC_SC_RNA_COUNTER._MATRIX_COMPUTER.BARCODE_CORRECTION.fork0.chnk17.main\n",
            "2022-08-31 01:41:31 [runtime] (run:local)       ID.4399GEX.SC_RNA_COUNTER_CS.SC_MULTI_CORE.MULTI_GEM_WELL_PROCESSOR.COUNT_GEM_WELL_PROCESSOR._BASIC_SC_RNA_COUNTER._MATRIX_COMPUTER.BARCODE_CORRECTION.fork0.chnk18.main\n",
            "2022-08-31 01:41:31 [runtime] (run:local)       ID.4399GEX.SC_RNA_COUNTER_CS.SC_MULTI_CORE.MULTI_GEM_WELL_PROCESSOR.COUNT_GEM_WELL_PROCESSOR._BASIC_SC_RNA_COUNTER._MATRIX_COMPUTER.BARCODE_CORRECTION.fork0.chnk19.main\n",
            "2022-08-31 01:41:31 [runtime] (run:local)       ID.4399GEX.SC_RNA_COUNTER_CS.SC_MULTI_CORE.MULTI_GEM_WELL_PROCESSOR.COUNT_GEM_WELL_PROCESSOR._BASIC_SC_RNA_COUNTER._MATRIX_COMPUTER.BARCODE_CORRECTION.fork0.chnk20.main\n",
            "2022-08-31 01:41:31 [runtime] (run:local)       ID.4399GEX.SC_RNA_COUNTER_CS.SC_MULTI_CORE.MULTI_GEM_WELL_PROCESSOR.COUNT_GEM_WELL_PROCESSOR._BASIC_SC_RNA_COUNTER._MATRIX_COMPUTER.BARCODE_CORRECTION.fork0.chnk21.main\n",
            "2022-08-31 01:41:31 [runtime] (run:local)       ID.4399GEX.SC_RNA_COUNTER_CS.SC_MULTI_CORE.MULTI_GEM_WELL_PROCESSOR.COUNT_GEM_WELL_PROCESSOR._BASIC_SC_RNA_COUNTER._MATRIX_COMPUTER.BARCODE_CORRECTION.fork0.chnk22.main\n",
            "2022-08-31 01:41:31 [runtime] (run:local)       ID.4399GEX.SC_RNA_COUNTER_CS.SC_MULTI_CORE.MULTI_GEM_WELL_PROCESSOR.COUNT_GEM_WELL_PROCESSOR._BASIC_SC_RNA_COUNTER._MATRIX_COMPUTER.BARCODE_CORRECTION.fork0.chnk23.main\n",
            "2022-08-31 01:41:31 [runtime] (run:local)       ID.4399GEX.SC_RNA_COUNTER_CS.SC_MULTI_CORE.MULTI_GEM_WELL_PROCESSOR.COUNT_GEM_WELL_PROCESSOR._BASIC_SC_RNA_COUNTER._MATRIX_COMPUTER.BARCODE_CORRECTION.fork0.chnk24.main\n",
            "2022-08-31 01:41:31 [runtime] (run:local)       ID.4399GEX.SC_RNA_COUNTER_CS.SC_MULTI_CORE.MULTI_GEM_WELL_PROCESSOR.COUNT_GEM_WELL_PROCESSOR._BASIC_SC_RNA_COUNTER._MATRIX_COMPUTER.BARCODE_CORRECTION.fork0.chnk25.main\n",
            "2022-08-31 01:41:31 [runtime] (run:local)       ID.4399GEX.SC_RNA_COUNTER_CS.SC_MULTI_CORE.MULTI_GEM_WELL_PROCESSOR.COUNT_GEM_WELL_PROCESSOR._BASIC_SC_RNA_COUNTER._MATRIX_COMPUTER.BARCODE_CORRECTION.fork0.chnk26.main\n",
            "2022-08-31 01:41:31 [runtime] (run:local)       ID.4399GEX.SC_RNA_COUNTER_CS.SC_MULTI_CORE.MULTI_GEM_WELL_PROCESSOR.COUNT_GEM_WELL_PROCESSOR._BASIC_SC_RNA_COUNTER._MATRIX_COMPUTER.BARCODE_CORRECTION.fork0.chnk27.main\n",
            "2022-08-31 01:41:31 [runtime] (run:local)       ID.4399GEX.SC_RNA_COUNTER_CS.SC_MULTI_CORE.MULTI_GEM_WELL_PROCESSOR.COUNT_GEM_WELL_PROCESSOR._BASIC_SC_RNA_COUNTER._MATRIX_COMPUTER.BARCODE_CORRECTION.fork0.chnk28.main\n",
            "2022-08-31 01:41:31 [runtime] (run:local)       ID.4399GEX.SC_RNA_COUNTER_CS.SC_MULTI_CORE.MULTI_GEM_WELL_PROCESSOR.COUNT_GEM_WELL_PROCESSOR._BASIC_SC_RNA_COUNTER._MATRIX_COMPUTER.BARCODE_CORRECTION.fork0.chnk29.main\n",
            "2022-08-31 01:41:31 [runtime] (run:local)       ID.4399GEX.SC_RNA_COUNTER_CS.SC_MULTI_CORE.MULTI_GEM_WELL_PROCESSOR.COUNT_GEM_WELL_PROCESSOR._BASIC_SC_RNA_COUNTER._MATRIX_COMPUTER.BARCODE_CORRECTION.fork0.chnk30.main\n",
            "2022-08-31 01:41:31 [runtime] (run:local)       ID.4399GEX.SC_RNA_COUNTER_CS.SC_MULTI_CORE.MULTI_GEM_WELL_PROCESSOR.COUNT_GEM_WELL_PROCESSOR._BASIC_SC_RNA_COUNTER._MATRIX_COMPUTER.BARCODE_CORRECTION.fork0.chnk31.main\n",
            "2022-08-31 01:41:31 [runtime] (run:local)       ID.4399GEX.SC_RNA_COUNTER_CS.SC_MULTI_CORE.MULTI_GEM_WELL_PROCESSOR.COUNT_GEM_WELL_PROCESSOR._BASIC_SC_RNA_COUNTER._MATRIX_COMPUTER.BARCODE_CORRECTION.fork0.chnk32.main\n",
            "2022-08-31 01:41:31 [runtime] (run:local)       ID.4399GEX.SC_RNA_COUNTER_CS.SC_MULTI_CORE.MULTI_GEM_WELL_PROCESSOR.COUNT_GEM_WELL_PROCESSOR._BASIC_SC_RNA_COUNTER._MATRIX_COMPUTER.BARCODE_CORRECTION.fork0.chnk33.main\n",
            "2022-08-31 01:41:31 [runtime] (run:local)       ID.4399GEX.SC_RNA_COUNTER_CS.SC_MULTI_CORE.MULTI_GEM_WELL_PROCESSOR.COUNT_GEM_WELL_PROCESSOR._BASIC_SC_RNA_COUNTER._MATRIX_COMPUTER.BARCODE_CORRECTION.fork0.chnk34.main\n",
            "2022-08-31 01:41:31 [runtime] (run:local)       ID.4399GEX.SC_RNA_COUNTER_CS.SC_MULTI_CORE.MULTI_GEM_WELL_PROCESSOR.COUNT_GEM_WELL_PROCESSOR._BASIC_SC_RNA_COUNTER._MATRIX_COMPUTER.BARCODE_CORRECTION.fork0.chnk35.main\n",
            "2022-08-31 01:41:31 [runtime] (run:local)       ID.4399GEX.SC_RNA_COUNTER_CS.SC_MULTI_CORE.MULTI_GEM_WELL_PROCESSOR.COUNT_GEM_WELL_PROCESSOR._BASIC_SC_RNA_COUNTER._MATRIX_COMPUTER.BARCODE_CORRECTION.fork0.chnk36.main\n",
            "2022-08-31 01:41:31 [runtime] (run:local)       ID.4399GEX.SC_RNA_COUNTER_CS.SC_MULTI_CORE.MULTI_GEM_WELL_PROCESSOR.COUNT_GEM_WELL_PROCESSOR._BASIC_SC_RNA_COUNTER._MATRIX_COMPUTER.BARCODE_CORRECTION.fork0.chnk37.main\n",
            "2022-08-31 01:41:31 [runtime] (run:local)       ID.4399GEX.SC_RNA_COUNTER_CS.SC_MULTI_CORE.MULTI_GEM_WELL_PROCESSOR.COUNT_GEM_WELL_PROCESSOR._BASIC_SC_RNA_COUNTER._MATRIX_COMPUTER.BARCODE_CORRECTION.fork0.chnk38.main\n",
            "2022-08-31 01:41:31 [runtime] (run:local)       ID.4399GEX.SC_RNA_COUNTER_CS.SC_MULTI_CORE.MULTI_GEM_WELL_PROCESSOR.COUNT_GEM_WELL_PROCESSOR._BASIC_SC_RNA_COUNTER._MATRIX_COMPUTER.BARCODE_CORRECTION.fork0.chnk39.main\n",
            "2022-08-31 01:41:31 [runtime] (run:local)       ID.4399GEX.SC_RNA_COUNTER_CS.SC_MULTI_CORE.MULTI_GEM_WELL_PROCESSOR.COUNT_GEM_WELL_PROCESSOR._BASIC_SC_RNA_COUNTER._MATRIX_COMPUTER.BARCODE_CORRECTION.fork0.chnk40.main\n",
            "2022-08-31 01:41:31 [runtime] (run:local)       ID.4399GEX.SC_RNA_COUNTER_CS.SC_MULTI_CORE.MULTI_GEM_WELL_PROCESSOR.COUNT_GEM_WELL_PROCESSOR._BASIC_SC_RNA_COUNTER._MATRIX_COMPUTER.BARCODE_CORRECTION.fork0.chnk41.main\n",
            "2022-08-31 01:41:31 [runtime] (run:local)       ID.4399GEX.SC_RNA_COUNTER_CS.SC_MULTI_CORE.MULTI_GEM_WELL_PROCESSOR.COUNT_GEM_WELL_PROCESSOR._BASIC_SC_RNA_COUNTER._MATRIX_COMPUTER.BARCODE_CORRECTION.fork0.chnk42.main\n",
            "2022-08-31 01:41:31 [runtime] (run:local)       ID.4399GEX.SC_RNA_COUNTER_CS.SC_MULTI_CORE.MULTI_GEM_WELL_PROCESSOR.COUNT_GEM_WELL_PROCESSOR._BASIC_SC_RNA_COUNTER._MATRIX_COMPUTER.BARCODE_CORRECTION.fork0.chnk43.main\n",
            "2022-08-31 01:41:31 [runtime] (run:local)       ID.4399GEX.SC_RNA_COUNTER_CS.SC_MULTI_CORE.MULTI_GEM_WELL_PROCESSOR.COUNT_GEM_WELL_PROCESSOR._BASIC_SC_RNA_COUNTER._MATRIX_COMPUTER.BARCODE_CORRECTION.fork0.chnk44.main\n",
            "2022-08-31 01:41:31 [runtime] (run:local)       ID.4399GEX.SC_RNA_COUNTER_CS.SC_MULTI_CORE.MULTI_GEM_WELL_PROCESSOR.COUNT_GEM_WELL_PROCESSOR._BASIC_SC_RNA_COUNTER._MATRIX_COMPUTER.BARCODE_CORRECTION.fork0.chnk45.main\n",
            "2022-08-31 01:41:31 [runtime] (run:local)       ID.4399GEX.SC_RNA_COUNTER_CS.SC_MULTI_CORE.MULTI_GEM_WELL_PROCESSOR.COUNT_GEM_WELL_PROCESSOR._BASIC_SC_RNA_COUNTER._MATRIX_COMPUTER.BARCODE_CORRECTION.fork0.chnk46.main\n",
            "2022-08-31 01:41:31 [runtime] (run:local)       ID.4399GEX.SC_RNA_COUNTER_CS.SC_MULTI_CORE.MULTI_GEM_WELL_PROCESSOR.COUNT_GEM_WELL_PROCESSOR._BASIC_SC_RNA_COUNTER._MATRIX_COMPUTER.BARCODE_CORRECTION.fork0.chnk47.main\n",
            "2022-08-31 01:41:31 [runtime] (run:local)       ID.4399GEX.SC_RNA_COUNTER_CS.SC_MULTI_CORE.MULTI_GEM_WELL_PROCESSOR.COUNT_GEM_WELL_PROCESSOR._BASIC_SC_RNA_COUNTER._MATRIX_COMPUTER.BARCODE_CORRECTION.fork0.chnk48.main\n",
            "2022-08-31 01:41:31 [runtime] (run:local)       ID.4399GEX.SC_RNA_COUNTER_CS.SC_MULTI_CORE.MULTI_GEM_WELL_PROCESSOR.COUNT_GEM_WELL_PROCESSOR._BASIC_SC_RNA_COUNTER._MATRIX_COMPUTER.BARCODE_CORRECTION.fork0.chnk49.main\n",
            "2022-08-31 01:41:31 [runtime] (run:local)       ID.4399GEX.SC_RNA_COUNTER_CS.SC_MULTI_CORE.MULTI_GEM_WELL_PROCESSOR.COUNT_GEM_WELL_PROCESSOR._BASIC_SC_RNA_COUNTER._MATRIX_COMPUTER.BARCODE_CORRECTION.fork0.chnk50.main\n",
            "2022-08-31 01:41:31 [runtime] (run:local)       ID.4399GEX.SC_RNA_COUNTER_CS.SC_MULTI_CORE.MULTI_GEM_WELL_PROCESSOR.COUNT_GEM_WELL_PROCESSOR._BASIC_SC_RNA_COUNTER._MATRIX_COMPUTER.BARCODE_CORRECTION.fork0.chnk51.main\n",
            "2022-08-31 01:41:31 [runtime] (run:local)       ID.4399GEX.SC_RNA_COUNTER_CS.SC_MULTI_CORE.MULTI_GEM_WELL_PROCESSOR.COUNT_GEM_WELL_PROCESSOR._BASIC_SC_RNA_COUNTER._MATRIX_COMPUTER.BARCODE_CORRECTION.fork0.chnk52.main\n",
            "2022-08-31 01:41:31 [runtime] (run:local)       ID.4399GEX.SC_RNA_COUNTER_CS.SC_MULTI_CORE.MULTI_GEM_WELL_PROCESSOR.COUNT_GEM_WELL_PROCESSOR._BASIC_SC_RNA_COUNTER._MATRIX_COMPUTER.BARCODE_CORRECTION.fork0.chnk53.main\n",
            "2022-08-31 01:41:31 [runtime] (run:local)       ID.4399GEX.SC_RNA_COUNTER_CS.SC_MULTI_CORE.MULTI_GEM_WELL_PROCESSOR.COUNT_GEM_WELL_PROCESSOR._BASIC_SC_RNA_COUNTER._MATRIX_COMPUTER.BARCODE_CORRECTION.fork0.chnk54.main\n",
            "2022-08-31 01:41:31 [runtime] (run:local)       ID.4399GEX.SC_RNA_COUNTER_CS.SC_MULTI_CORE.MULTI_GEM_WELL_PROCESSOR.COUNT_GEM_WELL_PROCESSOR._BASIC_SC_RNA_COUNTER._MATRIX_COMPUTER.BARCODE_CORRECTION.fork0.chnk55.main\n",
            "2022-08-31 01:41:31 [runtime] (run:local)       ID.4399GEX.SC_RNA_COUNTER_CS.SC_MULTI_CORE.MULTI_GEM_WELL_PROCESSOR.COUNT_GEM_WELL_PROCESSOR._BASIC_SC_RNA_COUNTER._MATRIX_COMPUTER.BARCODE_CORRECTION.fork0.chnk56.main\n",
            "2022-08-31 01:41:31 [runtime] (run:local)       ID.4399GEX.SC_RNA_COUNTER_CS.SC_MULTI_CORE.MULTI_GEM_WELL_PROCESSOR.COUNT_GEM_WELL_PROCESSOR._BASIC_SC_RNA_COUNTER._MATRIX_COMPUTER.BARCODE_CORRECTION.fork0.chnk57.main\n",
            "2022-08-31 01:41:31 [runtime] (run:local)       ID.4399GEX.SC_RNA_COUNTER_CS.SC_MULTI_CORE.MULTI_GEM_WELL_PROCESSOR.COUNT_GEM_WELL_PROCESSOR._BASIC_SC_RNA_COUNTER._MATRIX_COMPUTER.BARCODE_CORRECTION.fork0.chnk58.main\n",
            "2022-08-31 01:41:31 [runtime] (run:local)       ID.4399GEX.SC_RNA_COUNTER_CS.SC_MULTI_CORE.MULTI_GEM_WELL_PROCESSOR.COUNT_GEM_WELL_PROCESSOR._BASIC_SC_RNA_COUNTER._MATRIX_COMPUTER.BARCODE_CORRECTION.fork0.chnk59.main\n",
            "2022-08-31 01:41:31 [runtime] (run:local)       ID.4399GEX.SC_RNA_COUNTER_CS.SC_MULTI_CORE.MULTI_GEM_WELL_PROCESSOR.COUNT_GEM_WELL_PROCESSOR._BASIC_SC_RNA_COUNTER._MATRIX_COMPUTER.BARCODE_CORRECTION.fork0.chnk60.main\n",
            "2022-08-31 01:41:31 [runtime] (run:local)       ID.4399GEX.SC_RNA_COUNTER_CS.SC_MULTI_CORE.MULTI_GEM_WELL_PROCESSOR.COUNT_GEM_WELL_PROCESSOR._BASIC_SC_RNA_COUNTER._MATRIX_COMPUTER.BARCODE_CORRECTION.fork0.chnk61.main\n",
            "2022-08-31 01:41:31 [runtime] (run:local)       ID.4399GEX.SC_RNA_COUNTER_CS.SC_MULTI_CORE.MULTI_GEM_WELL_PROCESSOR.COUNT_GEM_WELL_PROCESSOR._BASIC_SC_RNA_COUNTER._MATRIX_COMPUTER.BARCODE_CORRECTION.fork0.chnk62.main\n",
            "2022-08-31 01:41:31 [runtime] (run:local)       ID.4399GEX.SC_RNA_COUNTER_CS.SC_MULTI_CORE.MULTI_GEM_WELL_PROCESSOR.COUNT_GEM_WELL_PROCESSOR._BASIC_SC_RNA_COUNTER._MATRIX_COMPUTER.BARCODE_CORRECTION.fork0.chnk63.main\n",
            "2022-08-31 01:41:31 [runtime] (run:local)       ID.4399GEX.SC_RNA_COUNTER_CS.SC_MULTI_CORE.MULTI_GEM_WELL_PROCESSOR.COUNT_GEM_WELL_PROCESSOR._BASIC_SC_RNA_COUNTER._MATRIX_COMPUTER.BARCODE_CORRECTION.fork0.chnk64.main\n",
            "2022-08-31 01:41:31 [runtime] (run:local)       ID.4399GEX.SC_RNA_COUNTER_CS.SC_MULTI_CORE.MULTI_GEM_WELL_PROCESSOR.COUNT_GEM_WELL_PROCESSOR._BASIC_SC_RNA_COUNTER._MATRIX_COMPUTER.BARCODE_CORRECTION.fork0.chnk65.main\n",
            "2022-08-31 01:41:31 [runtime] (run:local)       ID.4399GEX.SC_RNA_COUNTER_CS.SC_MULTI_CORE.MULTI_GEM_WELL_PROCESSOR.COUNT_GEM_WELL_PROCESSOR._BASIC_SC_RNA_COUNTER._MATRIX_COMPUTER.BARCODE_CORRECTION.fork0.chnk66.main\n",
            "2022-08-31 01:41:31 [runtime] (run:local)       ID.4399GEX.SC_RNA_COUNTER_CS.SC_MULTI_CORE.MULTI_GEM_WELL_PROCESSOR.COUNT_GEM_WELL_PROCESSOR._BASIC_SC_RNA_COUNTER._MATRIX_COMPUTER.BARCODE_CORRECTION.fork0.chnk67.main\n",
            "2022-08-31 01:41:31 [runtime] (run:local)       ID.4399GEX.SC_RNA_COUNTER_CS.SC_MULTI_CORE.MULTI_GEM_WELL_PROCESSOR.COUNT_GEM_WELL_PROCESSOR._BASIC_SC_RNA_COUNTER._MATRIX_COMPUTER.BARCODE_CORRECTION.fork0.chnk68.main\n",
            "2022-08-31 01:41:31 [runtime] (run:local)       ID.4399GEX.SC_RNA_COUNTER_CS.SC_MULTI_CORE.MULTI_GEM_WELL_PROCESSOR.COUNT_GEM_WELL_PROCESSOR._BASIC_SC_RNA_COUNTER._MATRIX_COMPUTER.BARCODE_CORRECTION.fork0.chnk69.main\n",
            "2022-08-31 01:41:31 [runtime] (run:local)       ID.4399GEX.SC_RNA_COUNTER_CS.SC_MULTI_CORE.MULTI_GEM_WELL_PROCESSOR.COUNT_GEM_WELL_PROCESSOR._BASIC_SC_RNA_COUNTER._MATRIX_COMPUTER.BARCODE_CORRECTION.fork0.chnk70.main\n",
            "2022-08-31 01:41:31 [runtime] (run:local)       ID.4399GEX.SC_RNA_COUNTER_CS.SC_MULTI_CORE.MULTI_GEM_WELL_PROCESSOR.COUNT_GEM_WELL_PROCESSOR._BASIC_SC_RNA_COUNTER._MATRIX_COMPUTER.BARCODE_CORRECTION.fork0.chnk71.main\n",
            "2022-08-31 01:41:31 [runtime] (run:local)       ID.4399GEX.SC_RNA_COUNTER_CS.SC_MULTI_CORE.MULTI_GEM_WELL_PROCESSOR.COUNT_GEM_WELL_PROCESSOR._BASIC_SC_RNA_COUNTER._MATRIX_COMPUTER.BARCODE_CORRECTION.fork0.chnk72.main\n",
            "2022-08-31 01:41:31 [runtime] (run:local)       ID.4399GEX.SC_RNA_COUNTER_CS.SC_MULTI_CORE.MULTI_GEM_WELL_PROCESSOR.COUNT_GEM_WELL_PROCESSOR._BASIC_SC_RNA_COUNTER._MATRIX_COMPUTER.BARCODE_CORRECTION.fork0.chnk73.main\n",
            "2022-08-31 01:41:31 [runtime] (run:local)       ID.4399GEX.SC_RNA_COUNTER_CS.SC_MULTI_CORE.MULTI_GEM_WELL_PROCESSOR.COUNT_GEM_WELL_PROCESSOR._BASIC_SC_RNA_COUNTER._MATRIX_COMPUTER.BARCODE_CORRECTION.fork0.chnk74.main\n",
            "2022-08-31 01:46:31 [runtime] (update)          ID.4399GEX.SC_RNA_COUNTER_CS.SC_MULTI_CORE.MULTI_GEM_WELL_PROCESSOR.COUNT_GEM_WELL_PROCESSOR._BASIC_SC_RNA_COUNTER._MATRIX_COMPUTER.BARCODE_CORRECTION.fork0 chunks running (60/75 completed)\n",
            "2022-08-31 01:47:36 [runtime] (chunks_complete) ID.4399GEX.SC_RNA_COUNTER_CS.SC_MULTI_CORE.MULTI_GEM_WELL_PROCESSOR.COUNT_GEM_WELL_PROCESSOR._BASIC_SC_RNA_COUNTER._MATRIX_COMPUTER.BARCODE_CORRECTION\n",
            "2022-08-31 01:47:36 [runtime] (run:local)       ID.4399GEX.SC_RNA_COUNTER_CS.SC_MULTI_CORE.MULTI_GEM_WELL_PROCESSOR.COUNT_GEM_WELL_PROCESSOR._BASIC_SC_RNA_COUNTER._MATRIX_COMPUTER.BARCODE_CORRECTION.fork0.join\n",
            "2022-08-31 01:47:39 [runtime] (join_complete)   ID.4399GEX.SC_RNA_COUNTER_CS.SC_MULTI_CORE.MULTI_GEM_WELL_PROCESSOR.COUNT_GEM_WELL_PROCESSOR._BASIC_SC_RNA_COUNTER._MATRIX_COMPUTER.BARCODE_CORRECTION\n",
            "2022-08-31 01:47:39 [runtime] (ready)           ID.4399GEX.SC_RNA_COUNTER_CS.SC_MULTI_CORE.MULTI_GEM_WELL_PROCESSOR.COUNT_GEM_WELL_PROCESSOR._BASIC_SC_RNA_COUNTER._MATRIX_COMPUTER.SET_ALIGNER_SUBSAMPLE_RATE\n",
            "2022-08-31 01:47:39 [runtime] (run:local)       ID.4399GEX.SC_RNA_COUNTER_CS.SC_MULTI_CORE.MULTI_GEM_WELL_PROCESSOR.COUNT_GEM_WELL_PROCESSOR._BASIC_SC_RNA_COUNTER._MATRIX_COMPUTER.SET_ALIGNER_SUBSAMPLE_RATE.fork0.chnk0.main\n",
            "2022-08-31 01:47:39 [runtime] (ready)           ID.4399GEX.SC_RNA_COUNTER_CS.SC_MULTI_CORE.MULTI_GEM_WELL_PROCESSOR.COUNT_GEM_WELL_PROCESSOR._BASIC_SC_RNA_COUNTER._MATRIX_COMPUTER.WRITE_BARCODE_INDEX\n",
            "2022-08-31 01:47:39 [runtime] (run:local)       ID.4399GEX.SC_RNA_COUNTER_CS.SC_MULTI_CORE.MULTI_GEM_WELL_PROCESSOR.COUNT_GEM_WELL_PROCESSOR._BASIC_SC_RNA_COUNTER._MATRIX_COMPUTER.WRITE_BARCODE_INDEX.fork0.chnk0.main\n",
            "2022-08-31 01:47:39 [runtime] (ready)           ID.4399GEX.SC_RNA_COUNTER_CS.SC_MULTI_CORE.MULTI_GEM_WELL_PROCESSOR.COUNT_GEM_WELL_PROCESSOR._BASIC_SC_RNA_COUNTER._MATRIX_COMPUTER._SLFE_PARTIAL_FIRST_PASS.SUBSAMPLE_BARCODES\n",
            "2022-08-31 01:47:39 [runtime] (ready)           ID.4399GEX.SC_RNA_COUNTER_CS.SC_MULTI_CORE.MULTI_GEM_WELL_PROCESSOR.COUNT_GEM_WELL_PROCESSOR._BASIC_SC_RNA_COUNTER._MATRIX_COMPUTER._SLFE_PARTIAL_FIRST_PASS.INITIAL_ALIGN_AND_COUNT\n",
            "2022-08-31 01:47:39 [runtime] (ready)           ID.4399GEX.SC_RNA_COUNTER_CS.SC_MULTI_CORE.MULTI_GEM_WELL_PROCESSOR.COUNT_GEM_WELL_PROCESSOR._BASIC_SC_RNA_COUNTER._MATRIX_COMPUTER._SLFE_PARTIAL_FIRST_PASS.SET_TARGETED_UMI_FILTER\n",
            "2022-08-31 01:47:39 [runtime] (chunks_complete) ID.4399GEX.SC_RNA_COUNTER_CS.SC_MULTI_CORE.MULTI_GEM_WELL_PROCESSOR.COUNT_GEM_WELL_PROCESSOR._BASIC_SC_RNA_COUNTER._MATRIX_COMPUTER.SET_ALIGNER_SUBSAMPLE_RATE\n",
            "2022-08-31 01:47:39 [runtime] (ready)           ID.4399GEX.SC_RNA_COUNTER_CS.SC_MULTI_CORE.MULTI_GEM_WELL_PROCESSOR.COUNT_GEM_WELL_PROCESSOR._BASIC_SC_RNA_COUNTER._MATRIX_COMPUTER.ALIGN_AND_COUNT\n",
            "2022-08-31 01:47:39 [runtime] (run:local)       ID.4399GEX.SC_RNA_COUNTER_CS.SC_MULTI_CORE.MULTI_GEM_WELL_PROCESSOR.COUNT_GEM_WELL_PROCESSOR._BASIC_SC_RNA_COUNTER._MATRIX_COMPUTER.ALIGN_AND_COUNT.fork0.split\n",
            "2022-08-31 01:47:40 [runtime] (split_complete)  ID.4399GEX.SC_RNA_COUNTER_CS.SC_MULTI_CORE.MULTI_GEM_WELL_PROCESSOR.COUNT_GEM_WELL_PROCESSOR._BASIC_SC_RNA_COUNTER._MATRIX_COMPUTER.ALIGN_AND_COUNT\n",
            "2022-08-31 01:47:40 [runtime] (run:local)       ID.4399GEX.SC_RNA_COUNTER_CS.SC_MULTI_CORE.MULTI_GEM_WELL_PROCESSOR.COUNT_GEM_WELL_PROCESSOR._BASIC_SC_RNA_COUNTER._MATRIX_COMPUTER.ALIGN_AND_COUNT.fork0.chnk00.main\n",
            "2022-08-31 01:47:40 [runtime] (run:local)       ID.4399GEX.SC_RNA_COUNTER_CS.SC_MULTI_CORE.MULTI_GEM_WELL_PROCESSOR.COUNT_GEM_WELL_PROCESSOR._BASIC_SC_RNA_COUNTER._MATRIX_COMPUTER.ALIGN_AND_COUNT.fork0.chnk01.main\n",
            "2022-08-31 01:47:40 [runtime] (run:local)       ID.4399GEX.SC_RNA_COUNTER_CS.SC_MULTI_CORE.MULTI_GEM_WELL_PROCESSOR.COUNT_GEM_WELL_PROCESSOR._BASIC_SC_RNA_COUNTER._MATRIX_COMPUTER.ALIGN_AND_COUNT.fork0.chnk02.main\n",
            "2022-08-31 01:47:40 [runtime] (run:local)       ID.4399GEX.SC_RNA_COUNTER_CS.SC_MULTI_CORE.MULTI_GEM_WELL_PROCESSOR.COUNT_GEM_WELL_PROCESSOR._BASIC_SC_RNA_COUNTER._MATRIX_COMPUTER.ALIGN_AND_COUNT.fork0.chnk03.main\n",
            "2022-08-31 01:47:40 [runtime] (run:local)       ID.4399GEX.SC_RNA_COUNTER_CS.SC_MULTI_CORE.MULTI_GEM_WELL_PROCESSOR.COUNT_GEM_WELL_PROCESSOR._BASIC_SC_RNA_COUNTER._MATRIX_COMPUTER.ALIGN_AND_COUNT.fork0.chnk04.main\n",
            "2022-08-31 01:47:40 [runtime] (run:local)       ID.4399GEX.SC_RNA_COUNTER_CS.SC_MULTI_CORE.MULTI_GEM_WELL_PROCESSOR.COUNT_GEM_WELL_PROCESSOR._BASIC_SC_RNA_COUNTER._MATRIX_COMPUTER.ALIGN_AND_COUNT.fork0.chnk05.main\n",
            "2022-08-31 01:47:40 [runtime] (run:local)       ID.4399GEX.SC_RNA_COUNTER_CS.SC_MULTI_CORE.MULTI_GEM_WELL_PROCESSOR.COUNT_GEM_WELL_PROCESSOR._BASIC_SC_RNA_COUNTER._MATRIX_COMPUTER.ALIGN_AND_COUNT.fork0.chnk06.main\n",
            "2022-08-31 01:47:40 [runtime] (run:local)       ID.4399GEX.SC_RNA_COUNTER_CS.SC_MULTI_CORE.MULTI_GEM_WELL_PROCESSOR.COUNT_GEM_WELL_PROCESSOR._BASIC_SC_RNA_COUNTER._MATRIX_COMPUTER.ALIGN_AND_COUNT.fork0.chnk07.main\n",
            "2022-08-31 01:47:40 [runtime] (run:local)       ID.4399GEX.SC_RNA_COUNTER_CS.SC_MULTI_CORE.MULTI_GEM_WELL_PROCESSOR.COUNT_GEM_WELL_PROCESSOR._BASIC_SC_RNA_COUNTER._MATRIX_COMPUTER.ALIGN_AND_COUNT.fork0.chnk08.main\n",
            "2022-08-31 01:47:40 [runtime] (run:local)       ID.4399GEX.SC_RNA_COUNTER_CS.SC_MULTI_CORE.MULTI_GEM_WELL_PROCESSOR.COUNT_GEM_WELL_PROCESSOR._BASIC_SC_RNA_COUNTER._MATRIX_COMPUTER.ALIGN_AND_COUNT.fork0.chnk09.main\n",
            "2022-08-31 01:47:40 [runtime] (run:local)       ID.4399GEX.SC_RNA_COUNTER_CS.SC_MULTI_CORE.MULTI_GEM_WELL_PROCESSOR.COUNT_GEM_WELL_PROCESSOR._BASIC_SC_RNA_COUNTER._MATRIX_COMPUTER.ALIGN_AND_COUNT.fork0.chnk10.main\n",
            "2022-08-31 01:47:40 [runtime] (run:local)       ID.4399GEX.SC_RNA_COUNTER_CS.SC_MULTI_CORE.MULTI_GEM_WELL_PROCESSOR.COUNT_GEM_WELL_PROCESSOR._BASIC_SC_RNA_COUNTER._MATRIX_COMPUTER.ALIGN_AND_COUNT.fork0.chnk11.main\n",
            "2022-08-31 01:47:40 [runtime] (run:local)       ID.4399GEX.SC_RNA_COUNTER_CS.SC_MULTI_CORE.MULTI_GEM_WELL_PROCESSOR.COUNT_GEM_WELL_PROCESSOR._BASIC_SC_RNA_COUNTER._MATRIX_COMPUTER.ALIGN_AND_COUNT.fork0.chnk12.main\n",
            "2022-08-31 01:47:40 [runtime] (run:local)       ID.4399GEX.SC_RNA_COUNTER_CS.SC_MULTI_CORE.MULTI_GEM_WELL_PROCESSOR.COUNT_GEM_WELL_PROCESSOR._BASIC_SC_RNA_COUNTER._MATRIX_COMPUTER.ALIGN_AND_COUNT.fork0.chnk13.main\n",
            "2022-08-31 01:47:40 [runtime] (run:local)       ID.4399GEX.SC_RNA_COUNTER_CS.SC_MULTI_CORE.MULTI_GEM_WELL_PROCESSOR.COUNT_GEM_WELL_PROCESSOR._BASIC_SC_RNA_COUNTER._MATRIX_COMPUTER.ALIGN_AND_COUNT.fork0.chnk14.main\n",
            "2022-08-31 01:47:40 [runtime] (run:local)       ID.4399GEX.SC_RNA_COUNTER_CS.SC_MULTI_CORE.MULTI_GEM_WELL_PROCESSOR.COUNT_GEM_WELL_PROCESSOR._BASIC_SC_RNA_COUNTER._MATRIX_COMPUTER.ALIGN_AND_COUNT.fork0.chnk15.main\n",
            "2022-08-31 01:47:40 [runtime] (run:local)       ID.4399GEX.SC_RNA_COUNTER_CS.SC_MULTI_CORE.MULTI_GEM_WELL_PROCESSOR.COUNT_GEM_WELL_PROCESSOR._BASIC_SC_RNA_COUNTER._MATRIX_COMPUTER.ALIGN_AND_COUNT.fork0.chnk16.main\n",
            "2022-08-31 01:47:40 [runtime] (run:local)       ID.4399GEX.SC_RNA_COUNTER_CS.SC_MULTI_CORE.MULTI_GEM_WELL_PROCESSOR.COUNT_GEM_WELL_PROCESSOR._BASIC_SC_RNA_COUNTER._MATRIX_COMPUTER.ALIGN_AND_COUNT.fork0.chnk17.main\n",
            "2022-08-31 01:47:40 [runtime] (run:local)       ID.4399GEX.SC_RNA_COUNTER_CS.SC_MULTI_CORE.MULTI_GEM_WELL_PROCESSOR.COUNT_GEM_WELL_PROCESSOR._BASIC_SC_RNA_COUNTER._MATRIX_COMPUTER.ALIGN_AND_COUNT.fork0.chnk18.main\n",
            "2022-08-31 01:47:40 [runtime] (run:local)       ID.4399GEX.SC_RNA_COUNTER_CS.SC_MULTI_CORE.MULTI_GEM_WELL_PROCESSOR.COUNT_GEM_WELL_PROCESSOR._BASIC_SC_RNA_COUNTER._MATRIX_COMPUTER.ALIGN_AND_COUNT.fork0.chnk19.main\n",
            "2022-08-31 01:47:40 [runtime] (run:local)       ID.4399GEX.SC_RNA_COUNTER_CS.SC_MULTI_CORE.MULTI_GEM_WELL_PROCESSOR.COUNT_GEM_WELL_PROCESSOR._BASIC_SC_RNA_COUNTER._MATRIX_COMPUTER.ALIGN_AND_COUNT.fork0.chnk20.main\n",
            "2022-08-31 01:47:40 [runtime] (run:local)       ID.4399GEX.SC_RNA_COUNTER_CS.SC_MULTI_CORE.MULTI_GEM_WELL_PROCESSOR.COUNT_GEM_WELL_PROCESSOR._BASIC_SC_RNA_COUNTER._MATRIX_COMPUTER.ALIGN_AND_COUNT.fork0.chnk21.main\n",
            "2022-08-31 01:47:40 [runtime] (run:local)       ID.4399GEX.SC_RNA_COUNTER_CS.SC_MULTI_CORE.MULTI_GEM_WELL_PROCESSOR.COUNT_GEM_WELL_PROCESSOR._BASIC_SC_RNA_COUNTER._MATRIX_COMPUTER.ALIGN_AND_COUNT.fork0.chnk22.main\n",
            "2022-08-31 01:47:40 [runtime] (run:local)       ID.4399GEX.SC_RNA_COUNTER_CS.SC_MULTI_CORE.MULTI_GEM_WELL_PROCESSOR.COUNT_GEM_WELL_PROCESSOR._BASIC_SC_RNA_COUNTER._MATRIX_COMPUTER.ALIGN_AND_COUNT.fork0.chnk23.main\n",
            "2022-08-31 01:47:40 [runtime] (run:local)       ID.4399GEX.SC_RNA_COUNTER_CS.SC_MULTI_CORE.MULTI_GEM_WELL_PROCESSOR.COUNT_GEM_WELL_PROCESSOR._BASIC_SC_RNA_COUNTER._MATRIX_COMPUTER.ALIGN_AND_COUNT.fork0.chnk24.main\n",
            "2022-08-31 01:47:40 [runtime] (run:local)       ID.4399GEX.SC_RNA_COUNTER_CS.SC_MULTI_CORE.MULTI_GEM_WELL_PROCESSOR.COUNT_GEM_WELL_PROCESSOR._BASIC_SC_RNA_COUNTER._MATRIX_COMPUTER.ALIGN_AND_COUNT.fork0.chnk25.main\n",
            "2022-08-31 01:47:44 [runtime] (chunks_complete) ID.4399GEX.SC_RNA_COUNTER_CS.SC_MULTI_CORE.MULTI_GEM_WELL_PROCESSOR.COUNT_GEM_WELL_PROCESSOR._BASIC_SC_RNA_COUNTER._MATRIX_COMPUTER.WRITE_BARCODE_INDEX\n",
            "2022-08-31 01:53:47 [runtime] (update)          ID.4399GEX.SC_RNA_COUNTER_CS.SC_MULTI_CORE.MULTI_GEM_WELL_PROCESSOR.COUNT_GEM_WELL_PROCESSOR._BASIC_SC_RNA_COUNTER._MATRIX_COMPUTER.ALIGN_AND_COUNT.fork0 chunks running (0/26 completed)\n",
            "2022-08-31 01:59:24 [runtime] (update)          ID.4399GEX.SC_RNA_COUNTER_CS.SC_MULTI_CORE.MULTI_GEM_WELL_PROCESSOR.COUNT_GEM_WELL_PROCESSOR._BASIC_SC_RNA_COUNTER._MATRIX_COMPUTER.ALIGN_AND_COUNT.fork0 chunks running (1/26 completed)\n",
            "2022-08-31 02:05:27 [runtime] (update)          ID.4399GEX.SC_RNA_COUNTER_CS.SC_MULTI_CORE.MULTI_GEM_WELL_PROCESSOR.COUNT_GEM_WELL_PROCESSOR._BASIC_SC_RNA_COUNTER._MATRIX_COMPUTER.ALIGN_AND_COUNT.fork0 chunks running (1/26 completed)\n",
            "2022-08-31 02:11:44 [runtime] (update)          ID.4399GEX.SC_RNA_COUNTER_CS.SC_MULTI_CORE.MULTI_GEM_WELL_PROCESSOR.COUNT_GEM_WELL_PROCESSOR._BASIC_SC_RNA_COUNTER._MATRIX_COMPUTER.ALIGN_AND_COUNT.fork0 chunks running (2/26 completed)\n",
            "2022-08-31 02:17:45 [runtime] (update)          ID.4399GEX.SC_RNA_COUNTER_CS.SC_MULTI_CORE.MULTI_GEM_WELL_PROCESSOR.COUNT_GEM_WELL_PROCESSOR._BASIC_SC_RNA_COUNTER._MATRIX_COMPUTER.ALIGN_AND_COUNT.fork0 chunks running (2/26 completed)\n",
            "2022-08-31 02:24:15 [runtime] (update)          ID.4399GEX.SC_RNA_COUNTER_CS.SC_MULTI_CORE.MULTI_GEM_WELL_PROCESSOR.COUNT_GEM_WELL_PROCESSOR._BASIC_SC_RNA_COUNTER._MATRIX_COMPUTER.ALIGN_AND_COUNT.fork0 chunks running (3/26 completed)\n",
            "2022-08-31 02:30:15 [runtime] (update)          ID.4399GEX.SC_RNA_COUNTER_CS.SC_MULTI_CORE.MULTI_GEM_WELL_PROCESSOR.COUNT_GEM_WELL_PROCESSOR._BASIC_SC_RNA_COUNTER._MATRIX_COMPUTER.ALIGN_AND_COUNT.fork0 chunks running (3/26 completed)\n",
            "2022-08-31 02:36:18 [runtime] (update)          ID.4399GEX.SC_RNA_COUNTER_CS.SC_MULTI_CORE.MULTI_GEM_WELL_PROCESSOR.COUNT_GEM_WELL_PROCESSOR._BASIC_SC_RNA_COUNTER._MATRIX_COMPUTER.ALIGN_AND_COUNT.fork0 chunks running (3/26 completed)\n",
            "2022-08-31 02:42:17 [runtime] (update)          ID.4399GEX.SC_RNA_COUNTER_CS.SC_MULTI_CORE.MULTI_GEM_WELL_PROCESSOR.COUNT_GEM_WELL_PROCESSOR._BASIC_SC_RNA_COUNTER._MATRIX_COMPUTER.ALIGN_AND_COUNT.fork0 chunks running (3/26 completed)\n",
            "2022-08-31 02:48:05 [runtime] (update)          ID.4399GEX.SC_RNA_COUNTER_CS.SC_MULTI_CORE.MULTI_GEM_WELL_PROCESSOR.COUNT_GEM_WELL_PROCESSOR._BASIC_SC_RNA_COUNTER._MATRIX_COMPUTER.ALIGN_AND_COUNT.fork0 chunks running (4/26 completed)\n",
            "2022-08-31 02:54:05 [runtime] (update)          ID.4399GEX.SC_RNA_COUNTER_CS.SC_MULTI_CORE.MULTI_GEM_WELL_PROCESSOR.COUNT_GEM_WELL_PROCESSOR._BASIC_SC_RNA_COUNTER._MATRIX_COMPUTER.ALIGN_AND_COUNT.fork0 chunks running (4/26 completed)\n",
            "2022-08-31 03:00:05 [runtime] (update)          ID.4399GEX.SC_RNA_COUNTER_CS.SC_MULTI_CORE.MULTI_GEM_WELL_PROCESSOR.COUNT_GEM_WELL_PROCESSOR._BASIC_SC_RNA_COUNTER._MATRIX_COMPUTER.ALIGN_AND_COUNT.fork0 chunks running (4/26 completed)\n",
            "2022-08-31 03:06:06 [runtime] (update)          ID.4399GEX.SC_RNA_COUNTER_CS.SC_MULTI_CORE.MULTI_GEM_WELL_PROCESSOR.COUNT_GEM_WELL_PROCESSOR._BASIC_SC_RNA_COUNTER._MATRIX_COMPUTER.ALIGN_AND_COUNT.fork0 chunks running (4/26 completed)\n",
            "2022-08-31 03:12:05 [runtime] (update)          ID.4399GEX.SC_RNA_COUNTER_CS.SC_MULTI_CORE.MULTI_GEM_WELL_PROCESSOR.COUNT_GEM_WELL_PROCESSOR._BASIC_SC_RNA_COUNTER._MATRIX_COMPUTER.ALIGN_AND_COUNT.fork0 chunks running (4/26 completed)\n",
            "2022-08-31 03:18:41 [runtime] (update)          ID.4399GEX.SC_RNA_COUNTER_CS.SC_MULTI_CORE.MULTI_GEM_WELL_PROCESSOR.COUNT_GEM_WELL_PROCESSOR._BASIC_SC_RNA_COUNTER._MATRIX_COMPUTER.ALIGN_AND_COUNT.fork0 chunks running (5/26 completed)\n",
            "2022-08-31 03:24:42 [runtime] (update)          ID.4399GEX.SC_RNA_COUNTER_CS.SC_MULTI_CORE.MULTI_GEM_WELL_PROCESSOR.COUNT_GEM_WELL_PROCESSOR._BASIC_SC_RNA_COUNTER._MATRIX_COMPUTER.ALIGN_AND_COUNT.fork0 chunks running (5/26 completed)\n",
            "2022-08-31 03:30:42 [runtime] (update)          ID.4399GEX.SC_RNA_COUNTER_CS.SC_MULTI_CORE.MULTI_GEM_WELL_PROCESSOR.COUNT_GEM_WELL_PROCESSOR._BASIC_SC_RNA_COUNTER._MATRIX_COMPUTER.ALIGN_AND_COUNT.fork0 chunks running (5/26 completed)\n",
            "2022-08-31 03:36:04 [runtime] (update)          ID.4399GEX.SC_RNA_COUNTER_CS.SC_MULTI_CORE.MULTI_GEM_WELL_PROCESSOR.COUNT_GEM_WELL_PROCESSOR._BASIC_SC_RNA_COUNTER._MATRIX_COMPUTER.ALIGN_AND_COUNT.fork0 chunks running (6/26 completed)\n",
            "2022-08-31 03:42:04 [runtime] (update)          ID.4399GEX.SC_RNA_COUNTER_CS.SC_MULTI_CORE.MULTI_GEM_WELL_PROCESSOR.COUNT_GEM_WELL_PROCESSOR._BASIC_SC_RNA_COUNTER._MATRIX_COMPUTER.ALIGN_AND_COUNT.fork0 chunks running (6/26 completed)\n",
            "2022-08-31 03:48:04 [runtime] (update)          ID.4399GEX.SC_RNA_COUNTER_CS.SC_MULTI_CORE.MULTI_GEM_WELL_PROCESSOR.COUNT_GEM_WELL_PROCESSOR._BASIC_SC_RNA_COUNTER._MATRIX_COMPUTER.ALIGN_AND_COUNT.fork0 chunks running (6/26 completed)\n",
            "2022-08-31 03:54:49 [runtime] (update)          ID.4399GEX.SC_RNA_COUNTER_CS.SC_MULTI_CORE.MULTI_GEM_WELL_PROCESSOR.COUNT_GEM_WELL_PROCESSOR._BASIC_SC_RNA_COUNTER._MATRIX_COMPUTER.ALIGN_AND_COUNT.fork0 chunks running (7/26 completed)\n",
            "2022-08-31 04:00:49 [runtime] (update)          ID.4399GEX.SC_RNA_COUNTER_CS.SC_MULTI_CORE.MULTI_GEM_WELL_PROCESSOR.COUNT_GEM_WELL_PROCESSOR._BASIC_SC_RNA_COUNTER._MATRIX_COMPUTER.ALIGN_AND_COUNT.fork0 chunks running (7/26 completed)\n",
            "2022-08-31 04:06:49 [runtime] (update)          ID.4399GEX.SC_RNA_COUNTER_CS.SC_MULTI_CORE.MULTI_GEM_WELL_PROCESSOR.COUNT_GEM_WELL_PROCESSOR._BASIC_SC_RNA_COUNTER._MATRIX_COMPUTER.ALIGN_AND_COUNT.fork0 chunks running (7/26 completed)\n",
            "2022-08-31 04:12:35 [runtime] (update)          ID.4399GEX.SC_RNA_COUNTER_CS.SC_MULTI_CORE.MULTI_GEM_WELL_PROCESSOR.COUNT_GEM_WELL_PROCESSOR._BASIC_SC_RNA_COUNTER._MATRIX_COMPUTER.ALIGN_AND_COUNT.fork0 chunks running (8/26 completed)\n",
            "2022-08-31 04:18:37 [runtime] (update)          ID.4399GEX.SC_RNA_COUNTER_CS.SC_MULTI_CORE.MULTI_GEM_WELL_PROCESSOR.COUNT_GEM_WELL_PROCESSOR._BASIC_SC_RNA_COUNTER._MATRIX_COMPUTER.ALIGN_AND_COUNT.fork0 chunks running (8/26 completed)\n",
            "2022-08-31 04:24:38 [runtime] (update)          ID.4399GEX.SC_RNA_COUNTER_CS.SC_MULTI_CORE.MULTI_GEM_WELL_PROCESSOR.COUNT_GEM_WELL_PROCESSOR._BASIC_SC_RNA_COUNTER._MATRIX_COMPUTER.ALIGN_AND_COUNT.fork0 chunks running (8/26 completed)\n",
            "2022-08-31 04:30:38 [runtime] (update)          ID.4399GEX.SC_RNA_COUNTER_CS.SC_MULTI_CORE.MULTI_GEM_WELL_PROCESSOR.COUNT_GEM_WELL_PROCESSOR._BASIC_SC_RNA_COUNTER._MATRIX_COMPUTER.ALIGN_AND_COUNT.fork0 chunks running (8/26 completed)\n",
            "2022-08-31 04:35:58 [runtime] (update)          ID.4399GEX.SC_RNA_COUNTER_CS.SC_MULTI_CORE.MULTI_GEM_WELL_PROCESSOR.COUNT_GEM_WELL_PROCESSOR._BASIC_SC_RNA_COUNTER._MATRIX_COMPUTER.ALIGN_AND_COUNT.fork0 chunks running (9/26 completed)\n",
            "2022-08-31 04:41:58 [runtime] (update)          ID.4399GEX.SC_RNA_COUNTER_CS.SC_MULTI_CORE.MULTI_GEM_WELL_PROCESSOR.COUNT_GEM_WELL_PROCESSOR._BASIC_SC_RNA_COUNTER._MATRIX_COMPUTER.ALIGN_AND_COUNT.fork0 chunks running (9/26 completed)\n",
            "2022-08-31 04:47:58 [runtime] (update)          ID.4399GEX.SC_RNA_COUNTER_CS.SC_MULTI_CORE.MULTI_GEM_WELL_PROCESSOR.COUNT_GEM_WELL_PROCESSOR._BASIC_SC_RNA_COUNTER._MATRIX_COMPUTER.ALIGN_AND_COUNT.fork0 chunks running (9/26 completed)\n",
            "2022-08-31 04:53:58 [runtime] (update)          ID.4399GEX.SC_RNA_COUNTER_CS.SC_MULTI_CORE.MULTI_GEM_WELL_PROCESSOR.COUNT_GEM_WELL_PROCESSOR._BASIC_SC_RNA_COUNTER._MATRIX_COMPUTER.ALIGN_AND_COUNT.fork0 chunks running (9/26 completed)\n",
            "2022-08-31 04:59:39 [runtime] (update)          ID.4399GEX.SC_RNA_COUNTER_CS.SC_MULTI_CORE.MULTI_GEM_WELL_PROCESSOR.COUNT_GEM_WELL_PROCESSOR._BASIC_SC_RNA_COUNTER._MATRIX_COMPUTER.ALIGN_AND_COUNT.fork0 chunks running (10/26 completed)\n",
            "2022-08-31 05:05:39 [runtime] (update)          ID.4399GEX.SC_RNA_COUNTER_CS.SC_MULTI_CORE.MULTI_GEM_WELL_PROCESSOR.COUNT_GEM_WELL_PROCESSOR._BASIC_SC_RNA_COUNTER._MATRIX_COMPUTER.ALIGN_AND_COUNT.fork0 chunks running (10/26 completed)\n",
            "2022-08-31 05:11:41 [runtime] (update)          ID.4399GEX.SC_RNA_COUNTER_CS.SC_MULTI_CORE.MULTI_GEM_WELL_PROCESSOR.COUNT_GEM_WELL_PROCESSOR._BASIC_SC_RNA_COUNTER._MATRIX_COMPUTER.ALIGN_AND_COUNT.fork0 chunks running (10/26 completed)\n",
            "2022-08-31 05:18:30 [runtime] (update)          ID.4399GEX.SC_RNA_COUNTER_CS.SC_MULTI_CORE.MULTI_GEM_WELL_PROCESSOR.COUNT_GEM_WELL_PROCESSOR._BASIC_SC_RNA_COUNTER._MATRIX_COMPUTER.ALIGN_AND_COUNT.fork0 chunks running (11/26 completed)\n",
            "2022-08-31 05:24:33 [runtime] (update)          ID.4399GEX.SC_RNA_COUNTER_CS.SC_MULTI_CORE.MULTI_GEM_WELL_PROCESSOR.COUNT_GEM_WELL_PROCESSOR._BASIC_SC_RNA_COUNTER._MATRIX_COMPUTER.ALIGN_AND_COUNT.fork0 chunks running (11/26 completed)\n",
            "2022-08-31 05:30:33 [runtime] (update)          ID.4399GEX.SC_RNA_COUNTER_CS.SC_MULTI_CORE.MULTI_GEM_WELL_PROCESSOR.COUNT_GEM_WELL_PROCESSOR._BASIC_SC_RNA_COUNTER._MATRIX_COMPUTER.ALIGN_AND_COUNT.fork0 chunks running (11/26 completed)\n",
            "2022-08-31 05:36:46 [runtime] (update)          ID.4399GEX.SC_RNA_COUNTER_CS.SC_MULTI_CORE.MULTI_GEM_WELL_PROCESSOR.COUNT_GEM_WELL_PROCESSOR._BASIC_SC_RNA_COUNTER._MATRIX_COMPUTER.ALIGN_AND_COUNT.fork0 chunks running (12/26 completed)\n",
            "2022-08-31 05:42:47 [runtime] (update)          ID.4399GEX.SC_RNA_COUNTER_CS.SC_MULTI_CORE.MULTI_GEM_WELL_PROCESSOR.COUNT_GEM_WELL_PROCESSOR._BASIC_SC_RNA_COUNTER._MATRIX_COMPUTER.ALIGN_AND_COUNT.fork0 chunks running (12/26 completed)\n",
            "2022-08-31 05:48:47 [runtime] (update)          ID.4399GEX.SC_RNA_COUNTER_CS.SC_MULTI_CORE.MULTI_GEM_WELL_PROCESSOR.COUNT_GEM_WELL_PROCESSOR._BASIC_SC_RNA_COUNTER._MATRIX_COMPUTER.ALIGN_AND_COUNT.fork0 chunks running (12/26 completed)\n",
            "2022-08-31 05:53:58 [runtime] (update)          ID.4399GEX.SC_RNA_COUNTER_CS.SC_MULTI_CORE.MULTI_GEM_WELL_PROCESSOR.COUNT_GEM_WELL_PROCESSOR._BASIC_SC_RNA_COUNTER._MATRIX_COMPUTER.ALIGN_AND_COUNT.fork0 chunks running (13/26 completed)\n",
            "2022-08-31 06:00:00 [runtime] (update)          ID.4399GEX.SC_RNA_COUNTER_CS.SC_MULTI_CORE.MULTI_GEM_WELL_PROCESSOR.COUNT_GEM_WELL_PROCESSOR._BASIC_SC_RNA_COUNTER._MATRIX_COMPUTER.ALIGN_AND_COUNT.fork0 chunks running (13/26 completed)\n",
            "2022-08-31 06:06:01 [runtime] (update)          ID.4399GEX.SC_RNA_COUNTER_CS.SC_MULTI_CORE.MULTI_GEM_WELL_PROCESSOR.COUNT_GEM_WELL_PROCESSOR._BASIC_SC_RNA_COUNTER._MATRIX_COMPUTER.ALIGN_AND_COUNT.fork0 chunks running (13/26 completed)\n",
            "2022-08-31 06:12:05 [runtime] (update)          ID.4399GEX.SC_RNA_COUNTER_CS.SC_MULTI_CORE.MULTI_GEM_WELL_PROCESSOR.COUNT_GEM_WELL_PROCESSOR._BASIC_SC_RNA_COUNTER._MATRIX_COMPUTER.ALIGN_AND_COUNT.fork0 chunks running (14/26 completed)\n",
            "2022-08-31 06:18:05 [runtime] (update)          ID.4399GEX.SC_RNA_COUNTER_CS.SC_MULTI_CORE.MULTI_GEM_WELL_PROCESSOR.COUNT_GEM_WELL_PROCESSOR._BASIC_SC_RNA_COUNTER._MATRIX_COMPUTER.ALIGN_AND_COUNT.fork0 chunks running (14/26 completed)\n",
            "2022-08-31 06:24:06 [runtime] (update)          ID.4399GEX.SC_RNA_COUNTER_CS.SC_MULTI_CORE.MULTI_GEM_WELL_PROCESSOR.COUNT_GEM_WELL_PROCESSOR._BASIC_SC_RNA_COUNTER._MATRIX_COMPUTER.ALIGN_AND_COUNT.fork0 chunks running (14/26 completed)\n",
            "2022-08-31 06:29:48 [runtime] (update)          ID.4399GEX.SC_RNA_COUNTER_CS.SC_MULTI_CORE.MULTI_GEM_WELL_PROCESSOR.COUNT_GEM_WELL_PROCESSOR._BASIC_SC_RNA_COUNTER._MATRIX_COMPUTER.ALIGN_AND_COUNT.fork0 chunks running (15/26 completed)\n",
            "2022-08-31 06:35:48 [runtime] (update)          ID.4399GEX.SC_RNA_COUNTER_CS.SC_MULTI_CORE.MULTI_GEM_WELL_PROCESSOR.COUNT_GEM_WELL_PROCESSOR._BASIC_SC_RNA_COUNTER._MATRIX_COMPUTER.ALIGN_AND_COUNT.fork0 chunks running (15/26 completed)\n",
            "2022-08-31 06:41:09 [runtime] (update)          ID.4399GEX.SC_RNA_COUNTER_CS.SC_MULTI_CORE.MULTI_GEM_WELL_PROCESSOR.COUNT_GEM_WELL_PROCESSOR._BASIC_SC_RNA_COUNTER._MATRIX_COMPUTER.ALIGN_AND_COUNT.fork0 chunks running (15/26 completed)\n",
            "2022-08-31 06:47:11 [runtime] (update)          ID.4399GEX.SC_RNA_COUNTER_CS.SC_MULTI_CORE.MULTI_GEM_WELL_PROCESSOR.COUNT_GEM_WELL_PROCESSOR._BASIC_SC_RNA_COUNTER._MATRIX_COMPUTER.ALIGN_AND_COUNT.fork0 chunks running (16/26 completed)\n",
            "2022-08-31 06:53:11 [runtime] (update)          ID.4399GEX.SC_RNA_COUNTER_CS.SC_MULTI_CORE.MULTI_GEM_WELL_PROCESSOR.COUNT_GEM_WELL_PROCESSOR._BASIC_SC_RNA_COUNTER._MATRIX_COMPUTER.ALIGN_AND_COUNT.fork0 chunks running (16/26 completed)\n",
            "2022-08-31 06:59:14 [runtime] (update)          ID.4399GEX.SC_RNA_COUNTER_CS.SC_MULTI_CORE.MULTI_GEM_WELL_PROCESSOR.COUNT_GEM_WELL_PROCESSOR._BASIC_SC_RNA_COUNTER._MATRIX_COMPUTER.ALIGN_AND_COUNT.fork0 chunks running (16/26 completed)\n",
            "2022-08-31 07:04:56 [runtime] (update)          ID.4399GEX.SC_RNA_COUNTER_CS.SC_MULTI_CORE.MULTI_GEM_WELL_PROCESSOR.COUNT_GEM_WELL_PROCESSOR._BASIC_SC_RNA_COUNTER._MATRIX_COMPUTER.ALIGN_AND_COUNT.fork0 chunks running (17/26 completed)\n",
            "2022-08-31 07:10:56 [runtime] (update)          ID.4399GEX.SC_RNA_COUNTER_CS.SC_MULTI_CORE.MULTI_GEM_WELL_PROCESSOR.COUNT_GEM_WELL_PROCESSOR._BASIC_SC_RNA_COUNTER._MATRIX_COMPUTER.ALIGN_AND_COUNT.fork0 chunks running (17/26 completed)\n",
            "2022-08-31 07:16:56 [runtime] (update)          ID.4399GEX.SC_RNA_COUNTER_CS.SC_MULTI_CORE.MULTI_GEM_WELL_PROCESSOR.COUNT_GEM_WELL_PROCESSOR._BASIC_SC_RNA_COUNTER._MATRIX_COMPUTER.ALIGN_AND_COUNT.fork0 chunks running (17/26 completed)\n",
            "2022-08-31 07:23:02 [runtime] (update)          ID.4399GEX.SC_RNA_COUNTER_CS.SC_MULTI_CORE.MULTI_GEM_WELL_PROCESSOR.COUNT_GEM_WELL_PROCESSOR._BASIC_SC_RNA_COUNTER._MATRIX_COMPUTER.ALIGN_AND_COUNT.fork0 chunks running (18/26 completed)\n",
            "2022-08-31 07:29:02 [runtime] (update)          ID.4399GEX.SC_RNA_COUNTER_CS.SC_MULTI_CORE.MULTI_GEM_WELL_PROCESSOR.COUNT_GEM_WELL_PROCESSOR._BASIC_SC_RNA_COUNTER._MATRIX_COMPUTER.ALIGN_AND_COUNT.fork0 chunks running (18/26 completed)\n",
            "2022-08-31 07:35:02 [runtime] (update)          ID.4399GEX.SC_RNA_COUNTER_CS.SC_MULTI_CORE.MULTI_GEM_WELL_PROCESSOR.COUNT_GEM_WELL_PROCESSOR._BASIC_SC_RNA_COUNTER._MATRIX_COMPUTER.ALIGN_AND_COUNT.fork0 chunks running (18/26 completed)\n",
            "2022-08-31 07:40:19 [runtime] (update)          ID.4399GEX.SC_RNA_COUNTER_CS.SC_MULTI_CORE.MULTI_GEM_WELL_PROCESSOR.COUNT_GEM_WELL_PROCESSOR._BASIC_SC_RNA_COUNTER._MATRIX_COMPUTER.ALIGN_AND_COUNT.fork0 chunks running (19/26 completed)\n",
            "2022-08-31 07:46:19 [runtime] (update)          ID.4399GEX.SC_RNA_COUNTER_CS.SC_MULTI_CORE.MULTI_GEM_WELL_PROCESSOR.COUNT_GEM_WELL_PROCESSOR._BASIC_SC_RNA_COUNTER._MATRIX_COMPUTER.ALIGN_AND_COUNT.fork0 chunks running (19/26 completed)\n",
            "2022-08-31 07:52:20 [runtime] (update)          ID.4399GEX.SC_RNA_COUNTER_CS.SC_MULTI_CORE.MULTI_GEM_WELL_PROCESSOR.COUNT_GEM_WELL_PROCESSOR._BASIC_SC_RNA_COUNTER._MATRIX_COMPUTER.ALIGN_AND_COUNT.fork0 chunks running (19/26 completed)\n",
            "2022-08-31 07:58:19 [runtime] (update)          ID.4399GEX.SC_RNA_COUNTER_CS.SC_MULTI_CORE.MULTI_GEM_WELL_PROCESSOR.COUNT_GEM_WELL_PROCESSOR._BASIC_SC_RNA_COUNTER._MATRIX_COMPUTER.ALIGN_AND_COUNT.fork0 chunks running (19/26 completed)\n",
            "2022-08-31 08:05:01 [runtime] (update)          ID.4399GEX.SC_RNA_COUNTER_CS.SC_MULTI_CORE.MULTI_GEM_WELL_PROCESSOR.COUNT_GEM_WELL_PROCESSOR._BASIC_SC_RNA_COUNTER._MATRIX_COMPUTER.ALIGN_AND_COUNT.fork0 chunks running (20/26 completed)\n",
            "2022-08-31 08:11:01 [runtime] (update)          ID.4399GEX.SC_RNA_COUNTER_CS.SC_MULTI_CORE.MULTI_GEM_WELL_PROCESSOR.COUNT_GEM_WELL_PROCESSOR._BASIC_SC_RNA_COUNTER._MATRIX_COMPUTER.ALIGN_AND_COUNT.fork0 chunks running (20/26 completed)\n",
            "2022-08-31 08:17:02 [runtime] (update)          ID.4399GEX.SC_RNA_COUNTER_CS.SC_MULTI_CORE.MULTI_GEM_WELL_PROCESSOR.COUNT_GEM_WELL_PROCESSOR._BASIC_SC_RNA_COUNTER._MATRIX_COMPUTER.ALIGN_AND_COUNT.fork0 chunks running (20/26 completed)\n",
            "2022-08-31 08:22:11 [runtime] (update)          ID.4399GEX.SC_RNA_COUNTER_CS.SC_MULTI_CORE.MULTI_GEM_WELL_PROCESSOR.COUNT_GEM_WELL_PROCESSOR._BASIC_SC_RNA_COUNTER._MATRIX_COMPUTER.ALIGN_AND_COUNT.fork0 chunks running (21/26 completed)\n",
            "2022-08-31 08:28:12 [runtime] (update)          ID.4399GEX.SC_RNA_COUNTER_CS.SC_MULTI_CORE.MULTI_GEM_WELL_PROCESSOR.COUNT_GEM_WELL_PROCESSOR._BASIC_SC_RNA_COUNTER._MATRIX_COMPUTER.ALIGN_AND_COUNT.fork0 chunks running (21/26 completed)\n",
            "2022-08-31 08:34:12 [runtime] (update)          ID.4399GEX.SC_RNA_COUNTER_CS.SC_MULTI_CORE.MULTI_GEM_WELL_PROCESSOR.COUNT_GEM_WELL_PROCESSOR._BASIC_SC_RNA_COUNTER._MATRIX_COMPUTER.ALIGN_AND_COUNT.fork0 chunks running (21/26 completed)\n",
            "2022-08-31 08:40:43 [runtime] (update)          ID.4399GEX.SC_RNA_COUNTER_CS.SC_MULTI_CORE.MULTI_GEM_WELL_PROCESSOR.COUNT_GEM_WELL_PROCESSOR._BASIC_SC_RNA_COUNTER._MATRIX_COMPUTER.ALIGN_AND_COUNT.fork0 chunks running (22/26 completed)\n",
            "2022-08-31 08:46:43 [runtime] (update)          ID.4399GEX.SC_RNA_COUNTER_CS.SC_MULTI_CORE.MULTI_GEM_WELL_PROCESSOR.COUNT_GEM_WELL_PROCESSOR._BASIC_SC_RNA_COUNTER._MATRIX_COMPUTER.ALIGN_AND_COUNT.fork0 chunks running (22/26 completed)\n",
            "2022-08-31 08:52:46 [runtime] (update)          ID.4399GEX.SC_RNA_COUNTER_CS.SC_MULTI_CORE.MULTI_GEM_WELL_PROCESSOR.COUNT_GEM_WELL_PROCESSOR._BASIC_SC_RNA_COUNTER._MATRIX_COMPUTER.ALIGN_AND_COUNT.fork0 chunks running (22/26 completed)\n",
            "2022-08-31 08:58:34 [runtime] (update)          ID.4399GEX.SC_RNA_COUNTER_CS.SC_MULTI_CORE.MULTI_GEM_WELL_PROCESSOR.COUNT_GEM_WELL_PROCESSOR._BASIC_SC_RNA_COUNTER._MATRIX_COMPUTER.ALIGN_AND_COUNT.fork0 chunks running (23/26 completed)\n",
            "2022-08-31 09:04:37 [runtime] (update)          ID.4399GEX.SC_RNA_COUNTER_CS.SC_MULTI_CORE.MULTI_GEM_WELL_PROCESSOR.COUNT_GEM_WELL_PROCESSOR._BASIC_SC_RNA_COUNTER._MATRIX_COMPUTER.ALIGN_AND_COUNT.fork0 chunks running (23/26 completed)\n",
            "2022-08-31 09:10:37 [runtime] (update)          ID.4399GEX.SC_RNA_COUNTER_CS.SC_MULTI_CORE.MULTI_GEM_WELL_PROCESSOR.COUNT_GEM_WELL_PROCESSOR._BASIC_SC_RNA_COUNTER._MATRIX_COMPUTER.ALIGN_AND_COUNT.fork0 chunks running (23/26 completed)\n",
            "2022-08-31 09:16:37 [runtime] (update)          ID.4399GEX.SC_RNA_COUNTER_CS.SC_MULTI_CORE.MULTI_GEM_WELL_PROCESSOR.COUNT_GEM_WELL_PROCESSOR._BASIC_SC_RNA_COUNTER._MATRIX_COMPUTER.ALIGN_AND_COUNT.fork0 chunks running (23/26 completed)\n",
            "2022-08-31 09:22:23 [runtime] (update)          ID.4399GEX.SC_RNA_COUNTER_CS.SC_MULTI_CORE.MULTI_GEM_WELL_PROCESSOR.COUNT_GEM_WELL_PROCESSOR._BASIC_SC_RNA_COUNTER._MATRIX_COMPUTER.ALIGN_AND_COUNT.fork0 chunks running (24/26 completed)\n",
            "2022-08-31 09:28:23 [runtime] (update)          ID.4399GEX.SC_RNA_COUNTER_CS.SC_MULTI_CORE.MULTI_GEM_WELL_PROCESSOR.COUNT_GEM_WELL_PROCESSOR._BASIC_SC_RNA_COUNTER._MATRIX_COMPUTER.ALIGN_AND_COUNT.fork0 chunks running (24/26 completed)\n",
            "2022-08-31 09:34:24 [runtime] (update)          ID.4399GEX.SC_RNA_COUNTER_CS.SC_MULTI_CORE.MULTI_GEM_WELL_PROCESSOR.COUNT_GEM_WELL_PROCESSOR._BASIC_SC_RNA_COUNTER._MATRIX_COMPUTER.ALIGN_AND_COUNT.fork0 chunks running (24/26 completed)\n",
            "2022-08-31 09:40:24 [runtime] (update)          ID.4399GEX.SC_RNA_COUNTER_CS.SC_MULTI_CORE.MULTI_GEM_WELL_PROCESSOR.COUNT_GEM_WELL_PROCESSOR._BASIC_SC_RNA_COUNTER._MATRIX_COMPUTER.ALIGN_AND_COUNT.fork0 chunks running (24/26 completed)\n",
            "2022-08-31 09:45:43 [runtime] (update)          ID.4399GEX.SC_RNA_COUNTER_CS.SC_MULTI_CORE.MULTI_GEM_WELL_PROCESSOR.COUNT_GEM_WELL_PROCESSOR._BASIC_SC_RNA_COUNTER._MATRIX_COMPUTER.ALIGN_AND_COUNT.fork0 chunks running (25/26 completed)\n",
            "2022-08-31 09:51:43 [runtime] (update)          ID.4399GEX.SC_RNA_COUNTER_CS.SC_MULTI_CORE.MULTI_GEM_WELL_PROCESSOR.COUNT_GEM_WELL_PROCESSOR._BASIC_SC_RNA_COUNTER._MATRIX_COMPUTER.ALIGN_AND_COUNT.fork0 chunks running (25/26 completed)\n",
            "2022-08-31 09:57:46 [runtime] (update)          ID.4399GEX.SC_RNA_COUNTER_CS.SC_MULTI_CORE.MULTI_GEM_WELL_PROCESSOR.COUNT_GEM_WELL_PROCESSOR._BASIC_SC_RNA_COUNTER._MATRIX_COMPUTER.ALIGN_AND_COUNT.fork0 chunks running (25/26 completed)\n",
            "2022-08-31 10:03:46 [runtime] (update)          ID.4399GEX.SC_RNA_COUNTER_CS.SC_MULTI_CORE.MULTI_GEM_WELL_PROCESSOR.COUNT_GEM_WELL_PROCESSOR._BASIC_SC_RNA_COUNTER._MATRIX_COMPUTER.ALIGN_AND_COUNT.fork0 chunks running (25/26 completed)\n",
            "2022-08-31 10:09:46 [runtime] (update)          ID.4399GEX.SC_RNA_COUNTER_CS.SC_MULTI_CORE.MULTI_GEM_WELL_PROCESSOR.COUNT_GEM_WELL_PROCESSOR._BASIC_SC_RNA_COUNTER._MATRIX_COMPUTER.ALIGN_AND_COUNT.fork0 chunks running (25/26 completed)\n",
            "2022-08-31 10:09:57 [runtime] (chunks_complete) ID.4399GEX.SC_RNA_COUNTER_CS.SC_MULTI_CORE.MULTI_GEM_WELL_PROCESSOR.COUNT_GEM_WELL_PROCESSOR._BASIC_SC_RNA_COUNTER._MATRIX_COMPUTER.ALIGN_AND_COUNT\n",
            "2022-08-31 10:09:57 [runtime] (run:local)       ID.4399GEX.SC_RNA_COUNTER_CS.SC_MULTI_CORE.MULTI_GEM_WELL_PROCESSOR.COUNT_GEM_WELL_PROCESSOR._BASIC_SC_RNA_COUNTER._MATRIX_COMPUTER.ALIGN_AND_COUNT.fork0.join\n",
            "2022-08-31 10:09:59 [runtime] (join_complete)   ID.4399GEX.SC_RNA_COUNTER_CS.SC_MULTI_CORE.MULTI_GEM_WELL_PROCESSOR.COUNT_GEM_WELL_PROCESSOR._BASIC_SC_RNA_COUNTER._MATRIX_COMPUTER.ALIGN_AND_COUNT\n",
            "2022-08-31 10:10:02 [runtime] (ready)           ID.4399GEX.SC_RNA_COUNTER_CS.SC_MULTI_CORE.MULTI_GEM_WELL_PROCESSOR.COUNT_GEM_WELL_PROCESSOR._BASIC_SC_RNA_COUNTER._MATRIX_COMPUTER.WRITE_MATRIX_MARKET\n",
            "2022-08-31 10:10:02 [runtime] (run:local)       ID.4399GEX.SC_RNA_COUNTER_CS.SC_MULTI_CORE.MULTI_GEM_WELL_PROCESSOR.COUNT_GEM_WELL_PROCESSOR._BASIC_SC_RNA_COUNTER._MATRIX_COMPUTER.WRITE_MATRIX_MARKET.fork0.chnk0.main\n",
            "2022-08-31 10:10:02 [runtime] (ready)           ID.4399GEX.SC_RNA_COUNTER_CS.SC_MULTI_CORE.MULTI_GEM_WELL_PROCESSOR.COUNT_GEM_WELL_PROCESSOR._BASIC_SC_RNA_COUNTER._MATRIX_COMPUTER.COLLATE_METRICS\n",
            "2022-08-31 10:10:02 [runtime] (run:local)       ID.4399GEX.SC_RNA_COUNTER_CS.SC_MULTI_CORE.MULTI_GEM_WELL_PROCESSOR.COUNT_GEM_WELL_PROCESSOR._BASIC_SC_RNA_COUNTER._MATRIX_COMPUTER.COLLATE_METRICS.fork0.split\n",
            "2022-08-31 10:10:02 [runtime] (ready)           ID.4399GEX.SC_RNA_COUNTER_CS.SC_MULTI_CORE.MULTI_GEM_WELL_PROCESSOR.COUNT_GEM_WELL_PROCESSOR._BASIC_SC_RNA_COUNTER._MATRIX_COMPUTER.WRITE_H5_MATRIX\n",
            "2022-08-31 10:10:02 [runtime] (run:local)       ID.4399GEX.SC_RNA_COUNTER_CS.SC_MULTI_CORE.MULTI_GEM_WELL_PROCESSOR.COUNT_GEM_WELL_PROCESSOR._BASIC_SC_RNA_COUNTER._MATRIX_COMPUTER.WRITE_H5_MATRIX.fork0.chnk0.main\n",
            "2022-08-31 10:10:02 [runtime] (ready)           ID.4399GEX.SC_RNA_COUNTER_CS.SC_MULTI_CORE.MULTI_GEM_WELL_PROCESSOR.COUNT_GEM_WELL_PROCESSOR._BASIC_SC_RNA_COUNTER._MATRIX_COMPUTER.WRITE_BARCODE_SUMMARY\n",
            "2022-08-31 10:10:02 [runtime] (run:local)       ID.4399GEX.SC_RNA_COUNTER_CS.SC_MULTI_CORE.MULTI_GEM_WELL_PROCESSOR.COUNT_GEM_WELL_PROCESSOR._BASIC_SC_RNA_COUNTER._MATRIX_COMPUTER.WRITE_BARCODE_SUMMARY.fork0.chnk0.main\n",
            "2022-08-31 10:10:02 [runtime] (split_complete)  ID.4399GEX.SC_RNA_COUNTER_CS.SC_MULTI_CORE.MULTI_GEM_WELL_PROCESSOR.COUNT_GEM_WELL_PROCESSOR._BASIC_SC_RNA_COUNTER._MATRIX_COMPUTER.COLLATE_METRICS\n",
            "2022-08-31 10:10:02 [runtime] (run:local)       ID.4399GEX.SC_RNA_COUNTER_CS.SC_MULTI_CORE.MULTI_GEM_WELL_PROCESSOR.COUNT_GEM_WELL_PROCESSOR._BASIC_SC_RNA_COUNTER._MATRIX_COMPUTER.COLLATE_METRICS.fork0.chnk0.main\n",
            "2022-08-31 10:10:50 [runtime] (chunks_complete) ID.4399GEX.SC_RNA_COUNTER_CS.SC_MULTI_CORE.MULTI_GEM_WELL_PROCESSOR.COUNT_GEM_WELL_PROCESSOR._BASIC_SC_RNA_COUNTER._MATRIX_COMPUTER.COLLATE_METRICS\n",
            "2022-08-31 10:10:50 [runtime] (run:local)       ID.4399GEX.SC_RNA_COUNTER_CS.SC_MULTI_CORE.MULTI_GEM_WELL_PROCESSOR.COUNT_GEM_WELL_PROCESSOR._BASIC_SC_RNA_COUNTER._MATRIX_COMPUTER.COLLATE_METRICS.fork0.join\n",
            "2022-08-31 10:10:50 [runtime] (join_complete)   ID.4399GEX.SC_RNA_COUNTER_CS.SC_MULTI_CORE.MULTI_GEM_WELL_PROCESSOR.COUNT_GEM_WELL_PROCESSOR._BASIC_SC_RNA_COUNTER._MATRIX_COMPUTER.COLLATE_METRICS\n",
            "2022-08-31 10:10:50 [runtime] (ready)           ID.4399GEX.SC_RNA_COUNTER_CS.SC_MULTI_CORE.MULTI_GEM_WELL_PROCESSOR.COUNT_GEM_WELL_PROCESSOR._BASIC_SC_RNA_COUNTER._MATRIX_COMPUTER.MERGE_METRICS\n",
            "2022-08-31 10:10:50 [runtime] (run:local)       ID.4399GEX.SC_RNA_COUNTER_CS.SC_MULTI_CORE.MULTI_GEM_WELL_PROCESSOR.COUNT_GEM_WELL_PROCESSOR._BASIC_SC_RNA_COUNTER._MATRIX_COMPUTER.MERGE_METRICS.fork0.chnk0.main\n",
            "2022-08-31 10:10:50 [runtime] (chunks_complete) ID.4399GEX.SC_RNA_COUNTER_CS.SC_MULTI_CORE.MULTI_GEM_WELL_PROCESSOR.COUNT_GEM_WELL_PROCESSOR._BASIC_SC_RNA_COUNTER._MATRIX_COMPUTER.MERGE_METRICS\n",
            "2022-08-31 10:11:40 [runtime] (chunks_complete) ID.4399GEX.SC_RNA_COUNTER_CS.SC_MULTI_CORE.MULTI_GEM_WELL_PROCESSOR.COUNT_GEM_WELL_PROCESSOR._BASIC_SC_RNA_COUNTER._MATRIX_COMPUTER.WRITE_H5_MATRIX\n",
            "2022-08-31 10:11:40 [runtime] (ready)           ID.4399GEX.SC_RNA_COUNTER_CS.SC_MULTI_CORE.MULTI_GEM_WELL_PROCESSOR.COUNT_GEM_WELL_PROCESSOR._BASIC_SC_RNA_COUNTER.DISABLE_STAGES\n",
            "2022-08-31 10:11:40 [runtime] (run:local)       ID.4399GEX.SC_RNA_COUNTER_CS.SC_MULTI_CORE.MULTI_GEM_WELL_PROCESSOR.COUNT_GEM_WELL_PROCESSOR._BASIC_SC_RNA_COUNTER.DISABLE_STAGES.fork0.chnk0.main\n",
            "2022-08-31 10:11:40 [runtime] (ready)           ID.4399GEX.SC_RNA_COUNTER_CS.SC_MULTI_CORE.MULTI_GEM_WELL_PROCESSOR.COUNT_GEM_WELL_PROCESSOR._BASIC_SC_RNA_COUNTER.FILTER_BARCODES\n",
            "2022-08-31 10:11:40 [runtime] (run:local)       ID.4399GEX.SC_RNA_COUNTER_CS.SC_MULTI_CORE.MULTI_GEM_WELL_PROCESSOR.COUNT_GEM_WELL_PROCESSOR._BASIC_SC_RNA_COUNTER.FILTER_BARCODES.fork0.split\n",
            "2022-08-31 10:11:44 [runtime] (chunks_complete) ID.4399GEX.SC_RNA_COUNTER_CS.SC_MULTI_CORE.MULTI_GEM_WELL_PROCESSOR.COUNT_GEM_WELL_PROCESSOR._BASIC_SC_RNA_COUNTER.DISABLE_STAGES\n",
            "2022-08-31 10:11:44 [runtime] (ready)           ID.4399GEX.SC_RNA_COUNTER_CS.SC_MULTI_CORE.MULTI_GEM_WELL_PROCESSOR.COUNT_GEM_WELL_PROCESSOR._BASIC_SC_RNA_COUNTER.WRITE_POS_BAM\n",
            "2022-08-31 10:11:44 [runtime] (run:local)       ID.4399GEX.SC_RNA_COUNTER_CS.SC_MULTI_CORE.MULTI_GEM_WELL_PROCESSOR.COUNT_GEM_WELL_PROCESSOR._BASIC_SC_RNA_COUNTER.WRITE_POS_BAM.fork0.split\n",
            "2022-08-31 10:11:44 [runtime] (ready)           ID.4399GEX.SC_RNA_COUNTER_CS.SC_MULTI_CORE.MULTI_GEM_WELL_PROCESSOR.COUNT_GEM_WELL_PROCESSOR._BASIC_SC_RNA_COUNTER._ASSIGN_TAGS.MULTIPLEXING_METHOD\n",
            "2022-08-31 10:11:45 [runtime] (split_complete)  ID.4399GEX.SC_RNA_COUNTER_CS.SC_MULTI_CORE.MULTI_GEM_WELL_PROCESSOR.COUNT_GEM_WELL_PROCESSOR._BASIC_SC_RNA_COUNTER.WRITE_POS_BAM\n",
            "2022-08-31 10:11:45 [runtime] (run:local)       ID.4399GEX.SC_RNA_COUNTER_CS.SC_MULTI_CORE.MULTI_GEM_WELL_PROCESSOR.COUNT_GEM_WELL_PROCESSOR._BASIC_SC_RNA_COUNTER.WRITE_POS_BAM.fork0.chnk00.main\n",
            "2022-08-31 10:11:45 [runtime] (run:local)       ID.4399GEX.SC_RNA_COUNTER_CS.SC_MULTI_CORE.MULTI_GEM_WELL_PROCESSOR.COUNT_GEM_WELL_PROCESSOR._BASIC_SC_RNA_COUNTER.WRITE_POS_BAM.fork0.chnk01.main\n",
            "2022-08-31 10:11:45 [runtime] (run:local)       ID.4399GEX.SC_RNA_COUNTER_CS.SC_MULTI_CORE.MULTI_GEM_WELL_PROCESSOR.COUNT_GEM_WELL_PROCESSOR._BASIC_SC_RNA_COUNTER.WRITE_POS_BAM.fork0.chnk02.main\n",
            "2022-08-31 10:11:45 [runtime] (run:local)       ID.4399GEX.SC_RNA_COUNTER_CS.SC_MULTI_CORE.MULTI_GEM_WELL_PROCESSOR.COUNT_GEM_WELL_PROCESSOR._BASIC_SC_RNA_COUNTER.WRITE_POS_BAM.fork0.chnk03.main\n",
            "2022-08-31 10:11:45 [runtime] (run:local)       ID.4399GEX.SC_RNA_COUNTER_CS.SC_MULTI_CORE.MULTI_GEM_WELL_PROCESSOR.COUNT_GEM_WELL_PROCESSOR._BASIC_SC_RNA_COUNTER.WRITE_POS_BAM.fork0.chnk04.main\n",
            "2022-08-31 10:11:45 [runtime] (run:local)       ID.4399GEX.SC_RNA_COUNTER_CS.SC_MULTI_CORE.MULTI_GEM_WELL_PROCESSOR.COUNT_GEM_WELL_PROCESSOR._BASIC_SC_RNA_COUNTER.WRITE_POS_BAM.fork0.chnk05.main\n",
            "2022-08-31 10:11:45 [runtime] (run:local)       ID.4399GEX.SC_RNA_COUNTER_CS.SC_MULTI_CORE.MULTI_GEM_WELL_PROCESSOR.COUNT_GEM_WELL_PROCESSOR._BASIC_SC_RNA_COUNTER.WRITE_POS_BAM.fork0.chnk06.main\n",
            "2022-08-31 10:11:45 [runtime] (run:local)       ID.4399GEX.SC_RNA_COUNTER_CS.SC_MULTI_CORE.MULTI_GEM_WELL_PROCESSOR.COUNT_GEM_WELL_PROCESSOR._BASIC_SC_RNA_COUNTER.WRITE_POS_BAM.fork0.chnk07.main\n",
            "2022-08-31 10:11:45 [runtime] (run:local)       ID.4399GEX.SC_RNA_COUNTER_CS.SC_MULTI_CORE.MULTI_GEM_WELL_PROCESSOR.COUNT_GEM_WELL_PROCESSOR._BASIC_SC_RNA_COUNTER.WRITE_POS_BAM.fork0.chnk08.main\n",
            "2022-08-31 10:11:45 [runtime] (run:local)       ID.4399GEX.SC_RNA_COUNTER_CS.SC_MULTI_CORE.MULTI_GEM_WELL_PROCESSOR.COUNT_GEM_WELL_PROCESSOR._BASIC_SC_RNA_COUNTER.WRITE_POS_BAM.fork0.chnk09.main\n",
            "2022-08-31 10:11:45 [runtime] (run:local)       ID.4399GEX.SC_RNA_COUNTER_CS.SC_MULTI_CORE.MULTI_GEM_WELL_PROCESSOR.COUNT_GEM_WELL_PROCESSOR._BASIC_SC_RNA_COUNTER.WRITE_POS_BAM.fork0.chnk10.main\n",
            "2022-08-31 10:11:45 [runtime] (run:local)       ID.4399GEX.SC_RNA_COUNTER_CS.SC_MULTI_CORE.MULTI_GEM_WELL_PROCESSOR.COUNT_GEM_WELL_PROCESSOR._BASIC_SC_RNA_COUNTER.WRITE_POS_BAM.fork0.chnk11.main\n",
            "2022-08-31 10:11:45 [runtime] (run:local)       ID.4399GEX.SC_RNA_COUNTER_CS.SC_MULTI_CORE.MULTI_GEM_WELL_PROCESSOR.COUNT_GEM_WELL_PROCESSOR._BASIC_SC_RNA_COUNTER.WRITE_POS_BAM.fork0.chnk12.main\n",
            "2022-08-31 10:11:45 [runtime] (run:local)       ID.4399GEX.SC_RNA_COUNTER_CS.SC_MULTI_CORE.MULTI_GEM_WELL_PROCESSOR.COUNT_GEM_WELL_PROCESSOR._BASIC_SC_RNA_COUNTER.WRITE_POS_BAM.fork0.chnk13.main\n",
            "2022-08-31 10:11:45 [runtime] (run:local)       ID.4399GEX.SC_RNA_COUNTER_CS.SC_MULTI_CORE.MULTI_GEM_WELL_PROCESSOR.COUNT_GEM_WELL_PROCESSOR._BASIC_SC_RNA_COUNTER.WRITE_POS_BAM.fork0.chnk14.main\n",
            "2022-08-31 10:11:45 [runtime] (run:local)       ID.4399GEX.SC_RNA_COUNTER_CS.SC_MULTI_CORE.MULTI_GEM_WELL_PROCESSOR.COUNT_GEM_WELL_PROCESSOR._BASIC_SC_RNA_COUNTER.WRITE_POS_BAM.fork0.chnk15.main\n",
            "2022-08-31 10:11:45 [runtime] (run:local)       ID.4399GEX.SC_RNA_COUNTER_CS.SC_MULTI_CORE.MULTI_GEM_WELL_PROCESSOR.COUNT_GEM_WELL_PROCESSOR._BASIC_SC_RNA_COUNTER.WRITE_POS_BAM.fork0.chnk16.main\n",
            "2022-08-31 10:11:45 [runtime] (run:local)       ID.4399GEX.SC_RNA_COUNTER_CS.SC_MULTI_CORE.MULTI_GEM_WELL_PROCESSOR.COUNT_GEM_WELL_PROCESSOR._BASIC_SC_RNA_COUNTER.WRITE_POS_BAM.fork0.chnk17.main\n",
            "2022-08-31 10:11:45 [runtime] (run:local)       ID.4399GEX.SC_RNA_COUNTER_CS.SC_MULTI_CORE.MULTI_GEM_WELL_PROCESSOR.COUNT_GEM_WELL_PROCESSOR._BASIC_SC_RNA_COUNTER.WRITE_POS_BAM.fork0.chnk18.main\n",
            "2022-08-31 10:11:45 [runtime] (run:local)       ID.4399GEX.SC_RNA_COUNTER_CS.SC_MULTI_CORE.MULTI_GEM_WELL_PROCESSOR.COUNT_GEM_WELL_PROCESSOR._BASIC_SC_RNA_COUNTER.WRITE_POS_BAM.fork0.chnk19.main\n",
            "2022-08-31 10:11:45 [runtime] (run:local)       ID.4399GEX.SC_RNA_COUNTER_CS.SC_MULTI_CORE.MULTI_GEM_WELL_PROCESSOR.COUNT_GEM_WELL_PROCESSOR._BASIC_SC_RNA_COUNTER.WRITE_POS_BAM.fork0.chnk20.main\n",
            "2022-08-31 10:11:45 [runtime] (run:local)       ID.4399GEX.SC_RNA_COUNTER_CS.SC_MULTI_CORE.MULTI_GEM_WELL_PROCESSOR.COUNT_GEM_WELL_PROCESSOR._BASIC_SC_RNA_COUNTER.WRITE_POS_BAM.fork0.chnk21.main\n",
            "2022-08-31 10:11:45 [runtime] (run:local)       ID.4399GEX.SC_RNA_COUNTER_CS.SC_MULTI_CORE.MULTI_GEM_WELL_PROCESSOR.COUNT_GEM_WELL_PROCESSOR._BASIC_SC_RNA_COUNTER.WRITE_POS_BAM.fork0.chnk22.main\n",
            "2022-08-31 10:11:45 [runtime] (run:local)       ID.4399GEX.SC_RNA_COUNTER_CS.SC_MULTI_CORE.MULTI_GEM_WELL_PROCESSOR.COUNT_GEM_WELL_PROCESSOR._BASIC_SC_RNA_COUNTER.WRITE_POS_BAM.fork0.chnk23.main\n",
            "2022-08-31 10:11:45 [runtime] (run:local)       ID.4399GEX.SC_RNA_COUNTER_CS.SC_MULTI_CORE.MULTI_GEM_WELL_PROCESSOR.COUNT_GEM_WELL_PROCESSOR._BASIC_SC_RNA_COUNTER.WRITE_POS_BAM.fork0.chnk24.main\n",
            "2022-08-31 10:11:45 [runtime] (run:local)       ID.4399GEX.SC_RNA_COUNTER_CS.SC_MULTI_CORE.MULTI_GEM_WELL_PROCESSOR.COUNT_GEM_WELL_PROCESSOR._BASIC_SC_RNA_COUNTER.WRITE_POS_BAM.fork0.chnk25.main\n",
            "2022-08-31 10:11:46 [runtime] (split_complete)  ID.4399GEX.SC_RNA_COUNTER_CS.SC_MULTI_CORE.MULTI_GEM_WELL_PROCESSOR.COUNT_GEM_WELL_PROCESSOR._BASIC_SC_RNA_COUNTER.FILTER_BARCODES\n",
            "2022-08-31 10:11:46 [runtime] (run:local)       ID.4399GEX.SC_RNA_COUNTER_CS.SC_MULTI_CORE.MULTI_GEM_WELL_PROCESSOR.COUNT_GEM_WELL_PROCESSOR._BASIC_SC_RNA_COUNTER.FILTER_BARCODES.fork0.chnk0.main\n",
            "2022-08-31 10:11:56 [runtime] (chunks_complete) ID.4399GEX.SC_RNA_COUNTER_CS.SC_MULTI_CORE.MULTI_GEM_WELL_PROCESSOR.COUNT_GEM_WELL_PROCESSOR._BASIC_SC_RNA_COUNTER._MATRIX_COMPUTER.WRITE_MATRIX_MARKET\n",
            "2022-08-31 10:13:38 [runtime] (chunks_complete) ID.4399GEX.SC_RNA_COUNTER_CS.SC_MULTI_CORE.MULTI_GEM_WELL_PROCESSOR.COUNT_GEM_WELL_PROCESSOR._BASIC_SC_RNA_COUNTER._MATRIX_COMPUTER.WRITE_BARCODE_SUMMARY\n",
            "2022-08-31 10:17:54 [runtime] (update)          ID.4399GEX.SC_RNA_COUNTER_CS.SC_MULTI_CORE.MULTI_GEM_WELL_PROCESSOR.COUNT_GEM_WELL_PROCESSOR._BASIC_SC_RNA_COUNTER.WRITE_POS_BAM.fork0 chunks running (3/26 completed)\n",
            "2022-08-31 10:23:28 [runtime] (update)          ID.4399GEX.SC_RNA_COUNTER_CS.SC_MULTI_CORE.MULTI_GEM_WELL_PROCESSOR.COUNT_GEM_WELL_PROCESSOR._BASIC_SC_RNA_COUNTER.WRITE_POS_BAM.fork0 chunks running (7/26 completed)\n",
            "2022-08-31 10:28:38 [runtime] (update)          ID.4399GEX.SC_RNA_COUNTER_CS.SC_MULTI_CORE.MULTI_GEM_WELL_PROCESSOR.COUNT_GEM_WELL_PROCESSOR._BASIC_SC_RNA_COUNTER.WRITE_POS_BAM.fork0 chunks running (11/26 completed)\n",
            "2022-08-31 10:34:03 [runtime] (update)          ID.4399GEX.SC_RNA_COUNTER_CS.SC_MULTI_CORE.MULTI_GEM_WELL_PROCESSOR.COUNT_GEM_WELL_PROCESSOR._BASIC_SC_RNA_COUNTER.WRITE_POS_BAM.fork0 chunks running (15/26 completed)\n",
            "2022-08-31 10:39:47 [runtime] (update)          ID.4399GEX.SC_RNA_COUNTER_CS.SC_MULTI_CORE.MULTI_GEM_WELL_PROCESSOR.COUNT_GEM_WELL_PROCESSOR._BASIC_SC_RNA_COUNTER.WRITE_POS_BAM.fork0 chunks running (20/26 completed)\n",
            "2022-08-31 10:45:07 [runtime] (update)          ID.4399GEX.SC_RNA_COUNTER_CS.SC_MULTI_CORE.MULTI_GEM_WELL_PROCESSOR.COUNT_GEM_WELL_PROCESSOR._BASIC_SC_RNA_COUNTER.WRITE_POS_BAM.fork0 chunks running (24/26 completed)\n",
            "2022-08-31 10:46:02 [runtime] (update)          ID.4399GEX.SC_RNA_COUNTER_CS.SC_MULTI_CORE.MULTI_GEM_WELL_PROCESSOR.COUNT_GEM_WELL_PROCESSOR._BASIC_SC_RNA_COUNTER.FILTER_BARCODES.fork0 chunks_running\n",
            "2022-08-31 10:47:40 [runtime] (chunks_complete) ID.4399GEX.SC_RNA_COUNTER_CS.SC_MULTI_CORE.MULTI_GEM_WELL_PROCESSOR.COUNT_GEM_WELL_PROCESSOR._BASIC_SC_RNA_COUNTER.WRITE_POS_BAM\n",
            "2022-08-31 10:47:40 [runtime] (run:local)       ID.4399GEX.SC_RNA_COUNTER_CS.SC_MULTI_CORE.MULTI_GEM_WELL_PROCESSOR.COUNT_GEM_WELL_PROCESSOR._BASIC_SC_RNA_COUNTER.WRITE_POS_BAM.fork0.join\n",
            "2022-08-31 10:52:05 [runtime] (update)          ID.4399GEX.SC_RNA_COUNTER_CS.SC_MULTI_CORE.MULTI_GEM_WELL_PROCESSOR.COUNT_GEM_WELL_PROCESSOR._BASIC_SC_RNA_COUNTER.FILTER_BARCODES.fork0 chunks_running\n",
            "2022-08-31 10:58:03 [runtime] (update)          ID.4399GEX.SC_RNA_COUNTER_CS.SC_MULTI_CORE.MULTI_GEM_WELL_PROCESSOR.COUNT_GEM_WELL_PROCESSOR._BASIC_SC_RNA_COUNTER.FILTER_BARCODES.fork0 chunks_running\n",
            "2022-08-31 11:02:21 [runtime] (chunks_complete) ID.4399GEX.SC_RNA_COUNTER_CS.SC_MULTI_CORE.MULTI_GEM_WELL_PROCESSOR.COUNT_GEM_WELL_PROCESSOR._BASIC_SC_RNA_COUNTER.FILTER_BARCODES\n",
            "2022-08-31 11:02:21 [runtime] (run:local)       ID.4399GEX.SC_RNA_COUNTER_CS.SC_MULTI_CORE.MULTI_GEM_WELL_PROCESSOR.COUNT_GEM_WELL_PROCESSOR._BASIC_SC_RNA_COUNTER.FILTER_BARCODES.fork0.join\n",
            "2022-08-31 11:02:24 [runtime] (update)          ID.4399GEX.SC_RNA_COUNTER_CS.SC_MULTI_CORE.MULTI_GEM_WELL_PROCESSOR.COUNT_GEM_WELL_PROCESSOR._BASIC_SC_RNA_COUNTER.WRITE_POS_BAM.fork0 join_running\n",
            "2022-08-31 11:08:22 [runtime] (update)          ID.4399GEX.SC_RNA_COUNTER_CS.SC_MULTI_CORE.MULTI_GEM_WELL_PROCESSOR.COUNT_GEM_WELL_PROCESSOR._BASIC_SC_RNA_COUNTER.WRITE_POS_BAM.fork0 join_running\n",
            "2022-08-31 11:09:17 [runtime] (join_complete)   ID.4399GEX.SC_RNA_COUNTER_CS.SC_MULTI_CORE.MULTI_GEM_WELL_PROCESSOR.COUNT_GEM_WELL_PROCESSOR._BASIC_SC_RNA_COUNTER.WRITE_POS_BAM\n",
            "2022-08-31 11:09:18 [runtime] (update)          ID.4399GEX.SC_RNA_COUNTER_CS.SC_MULTI_CORE.MULTI_GEM_WELL_PROCESSOR.COUNT_GEM_WELL_PROCESSOR._BASIC_SC_RNA_COUNTER.FILTER_BARCODES.fork0 join_running\n",
            "2022-08-31 11:10:16 [runtime] (join_complete)   ID.4399GEX.SC_RNA_COUNTER_CS.SC_MULTI_CORE.MULTI_GEM_WELL_PROCESSOR.COUNT_GEM_WELL_PROCESSOR._BASIC_SC_RNA_COUNTER.FILTER_BARCODES\n",
            "2022-08-31 11:10:16 [runtime] (ready)           ID.4399GEX.SC_RNA_COUNTER_CS.SC_MULTI_CORE.MULTI_GEM_WELL_PROCESSOR.VDJ_T_GEM_WELL_PROCESSOR.SC_VDJ_CONTIG_ASSEMBLER.HANDLE_GEX_CELLS\n",
            "2022-08-31 11:10:16 [runtime] (ready)           ID.4399GEX.SC_RNA_COUNTER_CS.SC_MULTI_CORE.MULTI_GEM_WELL_PROCESSOR.COUNT_GEM_WELL_PROCESSOR._BASIC_SC_RNA_COUNTER._CELLS_REPORTER.WRITE_MOLECULE_INFO\n",
            "2022-08-31 11:10:16 [runtime] (run:local)       ID.4399GEX.SC_RNA_COUNTER_CS.SC_MULTI_CORE.MULTI_GEM_WELL_PROCESSOR.COUNT_GEM_WELL_PROCESSOR._BASIC_SC_RNA_COUNTER._CELLS_REPORTER.WRITE_MOLECULE_INFO.fork0.split\n",
            "2022-08-31 11:10:16 [runtime] (ready)           ID.4399GEX.SC_RNA_COUNTER_CS.SC_MULTI_CORE.MULTI_GEM_WELL_PROCESSOR.COUNT_GEM_WELL_PROCESSOR._BASIC_SC_RNA_COUNTER.INFER_GEM_WELL_THROUGHPUT\n",
            "2022-08-31 11:10:16 [runtime] (run:local)       ID.4399GEX.SC_RNA_COUNTER_CS.SC_MULTI_CORE.MULTI_GEM_WELL_PROCESSOR.COUNT_GEM_WELL_PROCESSOR._BASIC_SC_RNA_COUNTER.INFER_GEM_WELL_THROUGHPUT.fork0.split\n",
            "2022-08-31 11:10:16 [runtime] (ready)           ID.4399GEX.SC_RNA_COUNTER_CS.SC_MULTI_CORE.MULTI_GEM_WELL_PROCESSOR.COUNT_GEM_WELL_PROCESSOR._BASIC_SC_RNA_COUNTER._ASSIGN_TAGS.CALL_TAGS_RTL\n",
            "2022-08-31 11:10:16 [runtime] (ready)           ID.4399GEX.SC_RNA_COUNTER_CS.SC_MULTI_CORE.MULTI_GEM_WELL_PROCESSOR.VDJ_T_GD_GEM_WELL_PROCESSOR.SC_VDJ_CONTIG_ASSEMBLER.HANDLE_GEX_CELLS\n",
            "2022-08-31 11:10:16 [runtime] (ready)           ID.4399GEX.SC_RNA_COUNTER_CS.SC_MULTI_CORE.MULTI_GEM_WELL_PROCESSOR.VDJ_B_GEM_WELL_PROCESSOR.SC_VDJ_CONTIG_ASSEMBLER.HANDLE_GEX_CELLS\n",
            "2022-08-31 11:10:16 [runtime] (ready)           ID.4399GEX.SC_RNA_COUNTER_CS.SC_MULTI_CORE.VDJ_T_CLONOTYPE_ASSIGNER.CLONOTYPE_ASSIGNER.RUN_ENCLONE\n",
            "2022-08-31 11:10:16 [runtime] (ready)           ID.4399GEX.SC_RNA_COUNTER_CS.SC_MULTI_CORE.MULTI_REPORTER.VDJ_T_REPORTER.VLOUPE_PREPROCESS\n",
            "2022-08-31 11:10:16 [runtime] (ready)           ID.4399GEX.SC_RNA_COUNTER_CS.SC_MULTI_CORE.VDJ_B_CLONOTYPE_ASSIGNER.CLONOTYPE_ASSIGNER.RUN_ENCLONE\n",
            "2022-08-31 11:10:16 [runtime] (ready)           ID.4399GEX.SC_RNA_COUNTER_CS.SC_MULTI_CORE.VDJ_T_GD_CLONOTYPE_ASSIGNER.CLONOTYPE_ASSIGNER.RUN_ENCLONE\n",
            "2022-08-31 11:10:16 [runtime] (ready)           ID.4399GEX.SC_RNA_COUNTER_CS.SC_MULTI_CORE.VDJ_T_CLONOTYPE_ASSIGNER.CLONOTYPE_ASSIGNER.FILL_CLONOTYPE_INFO\n",
            "2022-08-31 11:10:16 [runtime] (ready)           ID.4399GEX.SC_RNA_COUNTER_CS.SC_MULTI_CORE.VDJ_T_CLONOTYPE_ASSIGNER.CLONOTYPE_ASSIGNER.WRITE_CLONOTYPE_OUTS\n",
            "2022-08-31 11:10:16 [runtime] (ready)           ID.4399GEX.SC_RNA_COUNTER_CS.SC_MULTI_CORE.MULTI_REPORTER.VDJ_B_REPORTER.VLOUPE_PREPROCESS\n",
            "2022-08-31 11:10:16 [runtime] (ready)           ID.4399GEX.SC_RNA_COUNTER_CS.SC_MULTI_CORE.VDJ_T_CLONOTYPE_ASSIGNER.CLONOTYPE_ASSIGNER.WRITE_CONSENSUS_TXT\n",
            "2022-08-31 11:10:16 [runtime] (ready)           ID.4399GEX.SC_RNA_COUNTER_CS.SC_MULTI_CORE.VDJ_B_CLONOTYPE_ASSIGNER.CLONOTYPE_ASSIGNER.WRITE_CONSENSUS_TXT\n",
            "2022-08-31 11:10:16 [runtime] (ready)           ID.4399GEX.SC_RNA_COUNTER_CS.SC_MULTI_CORE.VDJ_T_GD_CLONOTYPE_ASSIGNER.CLONOTYPE_ASSIGNER.FILL_CLONOTYPE_INFO\n",
            "2022-08-31 11:10:16 [runtime] (ready)           ID.4399GEX.SC_RNA_COUNTER_CS.SC_MULTI_CORE.COPY_VDJ_REFERENCE\n",
            "2022-08-31 11:10:16 [runtime] (ready)           ID.4399GEX.SC_RNA_COUNTER_CS.SC_MULTI_CORE.VDJ_B_CLONOTYPE_ASSIGNER.CLONOTYPE_ASSIGNER.FILL_CLONOTYPE_INFO\n",
            "2022-08-31 11:10:16 [runtime] (ready)           ID.4399GEX.SC_RNA_COUNTER_CS.SC_MULTI_CORE.VDJ_T_GD_CLONOTYPE_ASSIGNER.CLONOTYPE_ASSIGNER.WRITE_CLONOTYPE_OUTS\n",
            "2022-08-31 11:10:16 [runtime] (ready)           ID.4399GEX.SC_RNA_COUNTER_CS.SC_MULTI_CORE.VDJ_B_CLONOTYPE_ASSIGNER.CLONOTYPE_ASSIGNER.WRITE_CLONOTYPE_OUTS\n",
            "2022-08-31 11:10:16 [runtime] (ready)           ID.4399GEX.SC_RNA_COUNTER_CS.SC_MULTI_CORE.VDJ_T_CLONOTYPE_ASSIGNER.CLONOTYPE_ASSIGNER.WRITE_CONSENSUS_BAM\n",
            "2022-08-31 11:10:16 [runtime] (ready)           ID.4399GEX.SC_RNA_COUNTER_CS.SC_MULTI_CORE.MULTI_REPORTER.VDJ_T_GD_REPORTER.VLOUPE_PREPROCESS\n",
            "2022-08-31 11:10:16 [runtime] (ready)           ID.4399GEX.SC_RNA_COUNTER_CS.SC_MULTI_CORE.VDJ_T_CLONOTYPE_ASSIGNER.CLONOTYPE_ASSIGNER.WRITE_ANN_CSV\n",
            "2022-08-31 11:10:16 [runtime] (ready)           ID.4399GEX.SC_RNA_COUNTER_CS.SC_MULTI_CORE.VDJ_T_CLONOTYPE_ASSIGNER.HANDLE_NO_VDJ_REF\n",
            "2022-08-31 11:10:16 [runtime] (ready)           ID.4399GEX.SC_RNA_COUNTER_CS.SC_MULTI_CORE.VDJ_T_GD_CLONOTYPE_ASSIGNER.CLONOTYPE_ASSIGNER.WRITE_CONSENSUS_TXT\n",
            "2022-08-31 11:10:16 [runtime] (ready)           ID.4399GEX.SC_RNA_COUNTER_CS.SC_MULTI_CORE.VDJ_T_GD_CLONOTYPE_ASSIGNER.CLONOTYPE_ASSIGNER.WRITE_CONSENSUS_BAM\n",
            "2022-08-31 11:10:16 [runtime] (ready)           ID.4399GEX.SC_RNA_COUNTER_CS.SC_MULTI_CORE.VDJ_T_CLONOTYPE_ASSIGNER.CLONOTYPE_ASSIGNER.WRITE_CONCAT_REF_OUTS\n",
            "2022-08-31 11:10:16 [runtime] (ready)           ID.4399GEX.SC_RNA_COUNTER_CS.SC_MULTI_CORE.VDJ_T_GD_CLONOTYPE_ASSIGNER.CLONOTYPE_ASSIGNER.WRITE_CONCAT_REF_OUTS\n",
            "2022-08-31 11:10:16 [runtime] (ready)           ID.4399GEX.SC_RNA_COUNTER_CS.SC_MULTI_CORE.VDJ_T_GD_CLONOTYPE_ASSIGNER.CLONOTYPE_ASSIGNER.WRITE_ANN_CSV\n",
            "2022-08-31 11:10:16 [runtime] (ready)           ID.4399GEX.SC_RNA_COUNTER_CS.SC_MULTI_CORE.VDJ_B_CLONOTYPE_ASSIGNER.CLONOTYPE_ASSIGNER.WRITE_CONSENSUS_BAM\n",
            "2022-08-31 11:10:16 [runtime] (ready)           ID.4399GEX.SC_RNA_COUNTER_CS.SC_MULTI_CORE.VDJ_T_GD_CLONOTYPE_ASSIGNER.HANDLE_NO_VDJ_REF\n",
            "2022-08-31 11:10:16 [runtime] (ready)           ID.4399GEX.SC_RNA_COUNTER_CS.SC_MULTI_CORE.VDJ_B_CLONOTYPE_ASSIGNER.CLONOTYPE_ASSIGNER.WRITE_ANN_CSV\n",
            "2022-08-31 11:10:16 [runtime] (ready)           ID.4399GEX.SC_RNA_COUNTER_CS.SC_MULTI_CORE.VDJ_B_CLONOTYPE_ASSIGNER.HANDLE_NO_VDJ_REF\n",
            "2022-08-31 11:10:16 [runtime] (ready)           ID.4399GEX.SC_RNA_COUNTER_CS.SC_MULTI_CORE.VDJ_B_CLONOTYPE_ASSIGNER.CLONOTYPE_ASSIGNER.WRITE_CONCAT_REF_OUTS\n",
            "2022-08-31 11:10:16 [runtime] (ready)           ID.4399GEX.SC_RNA_COUNTER_CS.SC_MULTI_CORE.VDJ_T_CLONOTYPE_ASSIGNER.CLONOTYPE_ASSIGNER.CREATE_AIRR_TSV\n",
            "2022-08-31 11:10:16 [runtime] (ready)           ID.4399GEX.SC_RNA_COUNTER_CS.SC_MULTI_CORE.MULTI_REPORTER.VDJ_T_GD_REPORTER.WRITE_CONTIG_OUTS\n",
            "2022-08-31 11:10:16 [runtime] (ready)           ID.4399GEX.SC_RNA_COUNTER_CS.SC_MULTI_CORE.VDJ_T_GD_CLONOTYPE_ASSIGNER.CLONOTYPE_ASSIGNER.CREATE_AIRR_TSV\n",
            "2022-08-31 11:10:16 [runtime] (ready)           ID.4399GEX.SC_RNA_COUNTER_CS.SC_MULTI_CORE.MULTI_REPORTER.VDJ_T_REPORTER.WRITE_CONTIG_OUTS\n",
            "2022-08-31 11:10:16 [runtime] (ready)           ID.4399GEX.SC_RNA_COUNTER_CS.SC_MULTI_CORE.MULTI_REPORTER.VDJ_B_REPORTER.WRITE_CONTIG_OUTS\n",
            "2022-08-31 11:10:16 [runtime] (ready)           ID.4399GEX.SC_RNA_COUNTER_CS.SC_MULTI_CORE.VDJ_B_CLONOTYPE_ASSIGNER.CLONOTYPE_ASSIGNER.CREATE_AIRR_TSV\n",
            "2022-08-31 11:10:16 [runtime] (ready)           ID.4399GEX.SC_RNA_COUNTER_CS.SC_MULTI_CORE.MULTI_REPORTER.VDJ_T_GD_REPORTER.REPORT_CONTIGS\n",
            "2022-08-31 11:10:16 [runtime] (ready)           ID.4399GEX.SC_RNA_COUNTER_CS.SC_MULTI_CORE.MULTI_REPORTER.VDJ_T_REPORTER.REPORT_CONTIGS\n",
            "2022-08-31 11:10:16 [runtime] (ready)           ID.4399GEX.SC_RNA_COUNTER_CS.SC_MULTI_CORE.MULTI_REPORTER.VDJ_T_GD_REPORTER.SUMMARIZE_VDJ_REPORTS\n",
            "2022-08-31 11:10:16 [runtime] (ready)           ID.4399GEX.SC_RNA_COUNTER_CS.SC_MULTI_CORE.MULTI_REPORTER.VDJ_B_REPORTER.REPORT_CONTIGS\n",
            "2022-08-31 11:10:16 [runtime] (ready)           ID.4399GEX.SC_RNA_COUNTER_CS.SC_MULTI_CORE.MULTI_REPORTER.VDJ_T_REPORTER.SUMMARIZE_VDJ_REPORTS\n",
            "2022-08-31 11:10:16 [runtime] (ready)           ID.4399GEX.SC_RNA_COUNTER_CS.SC_MULTI_CORE.MULTI_REPORTER.VDJ_T_REPORTER.WRITE_CONTIG_PROTO\n",
            "2022-08-31 11:10:16 [runtime] (ready)           ID.4399GEX.SC_RNA_COUNTER_CS.SC_MULTI_CORE.MULTI_REPORTER.VDJ_T_GD_REPORTER.WRITE_CONTIG_PROTO\n",
            "2022-08-31 11:10:16 [runtime] (ready)           ID.4399GEX.SC_RNA_COUNTER_CS.SC_MULTI_CORE.MULTI_REPORTER.VDJ_B_REPORTER.SUMMARIZE_VDJ_REPORTS\n",
            "2022-08-31 11:10:16 [runtime] (ready)           ID.4399GEX.SC_RNA_COUNTER_CS.SC_MULTI_CORE.MULTI_REPORTER.VDJ_B_REPORTER.WRITE_CONTIG_PROTO\n",
            "2022-08-31 11:10:16 [runtime] (split_complete)  ID.4399GEX.SC_RNA_COUNTER_CS.SC_MULTI_CORE.MULTI_GEM_WELL_PROCESSOR.COUNT_GEM_WELL_PROCESSOR._BASIC_SC_RNA_COUNTER._CELLS_REPORTER.WRITE_MOLECULE_INFO\n",
            "2022-08-31 11:10:16 [runtime] (run:local)       ID.4399GEX.SC_RNA_COUNTER_CS.SC_MULTI_CORE.MULTI_GEM_WELL_PROCESSOR.COUNT_GEM_WELL_PROCESSOR._BASIC_SC_RNA_COUNTER._CELLS_REPORTER.WRITE_MOLECULE_INFO.fork0.join\n",
            "2022-08-31 11:10:17 [runtime] (split_complete)  ID.4399GEX.SC_RNA_COUNTER_CS.SC_MULTI_CORE.MULTI_GEM_WELL_PROCESSOR.COUNT_GEM_WELL_PROCESSOR._BASIC_SC_RNA_COUNTER.INFER_GEM_WELL_THROUGHPUT\n",
            "2022-08-31 11:10:17 [runtime] (run:local)       ID.4399GEX.SC_RNA_COUNTER_CS.SC_MULTI_CORE.MULTI_GEM_WELL_PROCESSOR.COUNT_GEM_WELL_PROCESSOR._BASIC_SC_RNA_COUNTER.INFER_GEM_WELL_THROUGHPUT.fork0.join\n",
            "2022-08-31 11:10:18 [runtime] (join_complete)   ID.4399GEX.SC_RNA_COUNTER_CS.SC_MULTI_CORE.MULTI_GEM_WELL_PROCESSOR.COUNT_GEM_WELL_PROCESSOR._BASIC_SC_RNA_COUNTER.INFER_GEM_WELL_THROUGHPUT\n",
            "2022-08-31 11:10:18 [runtime] (ready)           ID.4399GEX.SC_RNA_COUNTER_CS.SC_MULTI_CORE.MULTI_GEM_WELL_PROCESSOR.COUNT_GEM_WELL_PROCESSOR._BASIC_SC_RNA_COUNTER._ASSIGN_TAGS.CALL_TAGS_MARGINAL\n",
            "2022-08-31 11:13:26 [runtime] (join_complete)   ID.4399GEX.SC_RNA_COUNTER_CS.SC_MULTI_CORE.MULTI_GEM_WELL_PROCESSOR.COUNT_GEM_WELL_PROCESSOR._BASIC_SC_RNA_COUNTER._CELLS_REPORTER.WRITE_MOLECULE_INFO\n",
            "2022-08-31 11:13:26 [runtime] (ready)           ID.4399GEX.SC_RNA_COUNTER_CS.SC_MULTI_CORE.MULTI_GEM_WELL_PROCESSOR.COUNT_GEM_WELL_PROCESSOR._BASIC_SC_RNA_COUNTER._ASSIGN_TAGS.CALL_TAGS_JIBES\n",
            "2022-08-31 11:13:26 [runtime] (ready)           ID.4399GEX.SC_RNA_COUNTER_CS.SC_MULTI_CORE.MULTI_GEM_WELL_PROCESSOR.COUNT_GEM_WELL_PROCESSOR._BASIC_SC_RNA_COUNTER._CELLS_REPORTER.SUBSAMPLE_READS\n",
            "2022-08-31 11:13:26 [runtime] (run:local)       ID.4399GEX.SC_RNA_COUNTER_CS.SC_MULTI_CORE.MULTI_GEM_WELL_PROCESSOR.COUNT_GEM_WELL_PROCESSOR._BASIC_SC_RNA_COUNTER._CELLS_REPORTER.SUBSAMPLE_READS.fork0.split\n",
            "2022-08-31 11:13:26 [runtime] (ready)           ID.4399GEX.SC_RNA_COUNTER_CS.SC_MULTI_CORE.MULTI_GEM_WELL_PROCESSOR.COUNT_GEM_WELL_PROCESSOR._BASIC_SC_RNA_COUNTER._ASSIGN_TAGS.DETERMINE_SAMPLE_ASSIGNMENTS\n",
            "2022-08-31 11:13:26 [runtime] (ready)           ID.4399GEX.SC_RNA_COUNTER_CS.SC_MULTI_CORE.MULTI_GEM_WELL_PROCESSOR.COUNT_GEM_WELL_PROCESSOR._BASIC_SC_RNA_COUNTER.MULTI_COLLATE_PER_SAMPLE_METRICS\n",
            "2022-08-31 11:13:26 [runtime] (ready)           ID.4399GEX.SC_RNA_COUNTER_CS.SC_MULTI_CORE.MULTI_GEM_WELL_PROCESSOR.COUNT_GEM_WELL_PROCESSOR._BASIC_SC_RNA_COUNTER.MULTI_WRITE_PER_SAMPLE_MATRICES\n",
            "2022-08-31 11:13:26 [runtime] (ready)           ID.4399GEX.SC_RNA_COUNTER_CS.SC_MULTI_CORE.MULTI_GEM_WELL_PROCESSOR.COUNT_GEM_WELL_PROCESSOR._BASIC_SC_RNA_COUNTER.MULTI_WRITE_PER_SAMPLE_BAM\n",
            "2022-08-31 11:13:26 [runtime] (ready)           ID.4399GEX.SC_RNA_COUNTER_CS.SC_MULTI_CORE.MULTI_GEM_WELL_PROCESSOR.COUNT_GEM_WELL_PROCESSOR._BASIC_SC_RNA_COUNTER.MULTI_WRITE_PER_SAMPLE_MOLECULE_INFO\n",
            "2022-08-31 11:13:26 [runtime] (ready)           ID.4399GEX.SC_RNA_COUNTER_CS.SC_MULTI_CORE.MULTI_GEM_WELL_PROCESSOR.COUNT_GEM_WELL_PROCESSOR._BASIC_SC_RNA_COUNTER._ASSIGN_TAGS.COMPUTE_EXTRA_MULTIPLEXING_METRICS\n",
            "2022-08-31 11:13:26 [runtime] (ready)           ID.4399GEX.SC_RNA_COUNTER_CS.SC_MULTI_CORE.STRUCTIFY_PER_SAMPLE_OUTS\n",
            "2022-08-31 11:13:26 [runtime] (run:local)       ID.4399GEX.SC_RNA_COUNTER_CS.SC_MULTI_CORE.STRUCTIFY_PER_SAMPLE_OUTS.fork0.chnk0.main\n",
            "2022-08-31 11:13:26 [runtime] (ready)           ID.4399GEX.SC_RNA_COUNTER_CS.SC_MULTI_CORE.MULTI_GEM_WELL_PROCESSOR.COUNT_GEM_WELL_PROCESSOR._BASIC_SC_RNA_COUNTER._ASSIGN_TAGS.MERGE_METRICS\n",
            "2022-08-31 11:13:26 [runtime] (chunks_complete) ID.4399GEX.SC_RNA_COUNTER_CS.SC_MULTI_CORE.STRUCTIFY_PER_SAMPLE_OUTS\n",
            "2022-08-31 11:13:26 [runtime] (ready)           ID.4399GEX.SC_RNA_COUNTER_CS.SC_MULTI_CORE.DISABLE_FEATURE_STAGES\n",
            "2022-08-31 11:13:26 [runtime] (run:local)       ID.4399GEX.SC_RNA_COUNTER_CS.SC_MULTI_CORE.DISABLE_FEATURE_STAGES.fork0.chnk0.main\n",
            "2022-08-31 11:13:26 [runtime] (chunks_complete) ID.4399GEX.SC_RNA_COUNTER_CS.SC_MULTI_CORE.DISABLE_FEATURE_STAGES\n",
            "2022-08-31 11:13:26 [runtime] (ready)           ID.4399GEX.SC_RNA_COUNTER_CS.SC_MULTI_CORE.COUNT_ANALYZER._ANTIBODY_ANALYZER.CALL_ANTIBODIES\n",
            "2022-08-31 11:13:26 [runtime] (ready)           ID.4399GEX.SC_RNA_COUNTER_CS.SC_MULTI_CORE.COUNT_ANALYZER._ANTIBODY_ANALYZER.SUMMARIZE_ANTIBODY_ANALYSIS\n",
            "2022-08-31 11:13:26 [runtime] (ready)           ID.4399GEX.SC_RNA_COUNTER_CS.SC_MULTI_CORE.COUNT_ANALYZER._TARGETED_ANALYZER.SUBSAMPLE_OFF_TARGET_READS\n",
            "2022-08-31 11:13:26 [runtime] (ready)           ID.4399GEX.SC_RNA_COUNTER_CS.SC_MULTI_CORE.COUNT_ANALYZER.SC_RNA_ANALYZER.ANALYZER_PREFLIGHT\n",
            "2022-08-31 11:13:26 [runtime] (run:local)       ID.4399GEX.SC_RNA_COUNTER_CS.SC_MULTI_CORE.COUNT_ANALYZER.SC_RNA_ANALYZER.ANALYZER_PREFLIGHT.fork0.chnk0.main\n",
            "2022-08-31 11:13:26 [runtime] (ready)           ID.4399GEX.SC_RNA_COUNTER_CS.SC_MULTI_CORE.COUNT_ANALYZER._TARGETED_ANALYZER.SUBSAMPLE_ON_TARGET_READS\n",
            "2022-08-31 11:13:28 [runtime] (chunks_complete) ID.4399GEX.SC_RNA_COUNTER_CS.SC_MULTI_CORE.COUNT_ANALYZER.SC_RNA_ANALYZER.ANALYZER_PREFLIGHT\n",
            "2022-08-31 11:13:28 [runtime] (ready)           ID.4399GEX.SC_RNA_COUNTER_CS.SC_MULTI_CORE.COUNT_ANALYZER.SC_RNA_ANALYZER.PREPROCESS_MATRIX\n",
            "2022-08-31 11:13:28 [runtime] (run:local)       ID.4399GEX.SC_RNA_COUNTER_CS.SC_MULTI_CORE.COUNT_ANALYZER.SC_RNA_ANALYZER.PREPROCESS_MATRIX.fork0.split\n",
            "2022-08-31 11:13:29 [runtime] (split_complete)  ID.4399GEX.SC_RNA_COUNTER_CS.SC_MULTI_CORE.COUNT_ANALYZER.SC_RNA_ANALYZER.PREPROCESS_MATRIX\n",
            "2022-08-31 11:13:29 [runtime] (run:local)       ID.4399GEX.SC_RNA_COUNTER_CS.SC_MULTI_CORE.COUNT_ANALYZER.SC_RNA_ANALYZER.PREPROCESS_MATRIX.fork0.join\n",
            "2022-08-31 11:13:31 [runtime] (split_complete)  ID.4399GEX.SC_RNA_COUNTER_CS.SC_MULTI_CORE.MULTI_GEM_WELL_PROCESSOR.COUNT_GEM_WELL_PROCESSOR._BASIC_SC_RNA_COUNTER._CELLS_REPORTER.SUBSAMPLE_READS\n",
            "2022-08-31 11:13:31 [runtime] (run:local)       ID.4399GEX.SC_RNA_COUNTER_CS.SC_MULTI_CORE.MULTI_GEM_WELL_PROCESSOR.COUNT_GEM_WELL_PROCESSOR._BASIC_SC_RNA_COUNTER._CELLS_REPORTER.SUBSAMPLE_READS.fork0.chnk00.main\n",
            "2022-08-31 11:13:31 [runtime] (run:local)       ID.4399GEX.SC_RNA_COUNTER_CS.SC_MULTI_CORE.MULTI_GEM_WELL_PROCESSOR.COUNT_GEM_WELL_PROCESSOR._BASIC_SC_RNA_COUNTER._CELLS_REPORTER.SUBSAMPLE_READS.fork0.chnk01.main\n",
            "2022-08-31 11:13:31 [runtime] (run:local)       ID.4399GEX.SC_RNA_COUNTER_CS.SC_MULTI_CORE.MULTI_GEM_WELL_PROCESSOR.COUNT_GEM_WELL_PROCESSOR._BASIC_SC_RNA_COUNTER._CELLS_REPORTER.SUBSAMPLE_READS.fork0.chnk02.main\n",
            "2022-08-31 11:13:31 [runtime] (run:local)       ID.4399GEX.SC_RNA_COUNTER_CS.SC_MULTI_CORE.MULTI_GEM_WELL_PROCESSOR.COUNT_GEM_WELL_PROCESSOR._BASIC_SC_RNA_COUNTER._CELLS_REPORTER.SUBSAMPLE_READS.fork0.chnk03.main\n",
            "2022-08-31 11:13:31 [runtime] (run:local)       ID.4399GEX.SC_RNA_COUNTER_CS.SC_MULTI_CORE.MULTI_GEM_WELL_PROCESSOR.COUNT_GEM_WELL_PROCESSOR._BASIC_SC_RNA_COUNTER._CELLS_REPORTER.SUBSAMPLE_READS.fork0.chnk04.main\n",
            "2022-08-31 11:13:31 [runtime] (run:local)       ID.4399GEX.SC_RNA_COUNTER_CS.SC_MULTI_CORE.MULTI_GEM_WELL_PROCESSOR.COUNT_GEM_WELL_PROCESSOR._BASIC_SC_RNA_COUNTER._CELLS_REPORTER.SUBSAMPLE_READS.fork0.chnk05.main\n",
            "2022-08-31 11:13:31 [runtime] (run:local)       ID.4399GEX.SC_RNA_COUNTER_CS.SC_MULTI_CORE.MULTI_GEM_WELL_PROCESSOR.COUNT_GEM_WELL_PROCESSOR._BASIC_SC_RNA_COUNTER._CELLS_REPORTER.SUBSAMPLE_READS.fork0.chnk06.main\n",
            "2022-08-31 11:13:31 [runtime] (run:local)       ID.4399GEX.SC_RNA_COUNTER_CS.SC_MULTI_CORE.MULTI_GEM_WELL_PROCESSOR.COUNT_GEM_WELL_PROCESSOR._BASIC_SC_RNA_COUNTER._CELLS_REPORTER.SUBSAMPLE_READS.fork0.chnk07.main\n",
            "2022-08-31 11:13:31 [runtime] (run:local)       ID.4399GEX.SC_RNA_COUNTER_CS.SC_MULTI_CORE.MULTI_GEM_WELL_PROCESSOR.COUNT_GEM_WELL_PROCESSOR._BASIC_SC_RNA_COUNTER._CELLS_REPORTER.SUBSAMPLE_READS.fork0.chnk08.main\n",
            "2022-08-31 11:13:31 [runtime] (run:local)       ID.4399GEX.SC_RNA_COUNTER_CS.SC_MULTI_CORE.MULTI_GEM_WELL_PROCESSOR.COUNT_GEM_WELL_PROCESSOR._BASIC_SC_RNA_COUNTER._CELLS_REPORTER.SUBSAMPLE_READS.fork0.chnk09.main\n",
            "2022-08-31 11:13:31 [runtime] (run:local)       ID.4399GEX.SC_RNA_COUNTER_CS.SC_MULTI_CORE.MULTI_GEM_WELL_PROCESSOR.COUNT_GEM_WELL_PROCESSOR._BASIC_SC_RNA_COUNTER._CELLS_REPORTER.SUBSAMPLE_READS.fork0.chnk10.main\n",
            "2022-08-31 11:13:31 [runtime] (run:local)       ID.4399GEX.SC_RNA_COUNTER_CS.SC_MULTI_CORE.MULTI_GEM_WELL_PROCESSOR.COUNT_GEM_WELL_PROCESSOR._BASIC_SC_RNA_COUNTER._CELLS_REPORTER.SUBSAMPLE_READS.fork0.chnk11.main\n",
            "2022-08-31 11:13:31 [runtime] (run:local)       ID.4399GEX.SC_RNA_COUNTER_CS.SC_MULTI_CORE.MULTI_GEM_WELL_PROCESSOR.COUNT_GEM_WELL_PROCESSOR._BASIC_SC_RNA_COUNTER._CELLS_REPORTER.SUBSAMPLE_READS.fork0.chnk12.main\n",
            "2022-08-31 11:13:31 [runtime] (run:local)       ID.4399GEX.SC_RNA_COUNTER_CS.SC_MULTI_CORE.MULTI_GEM_WELL_PROCESSOR.COUNT_GEM_WELL_PROCESSOR._BASIC_SC_RNA_COUNTER._CELLS_REPORTER.SUBSAMPLE_READS.fork0.chnk13.main\n",
            "2022-08-31 11:13:31 [runtime] (run:local)       ID.4399GEX.SC_RNA_COUNTER_CS.SC_MULTI_CORE.MULTI_GEM_WELL_PROCESSOR.COUNT_GEM_WELL_PROCESSOR._BASIC_SC_RNA_COUNTER._CELLS_REPORTER.SUBSAMPLE_READS.fork0.chnk14.main\n",
            "2022-08-31 11:13:59 [runtime] (join_complete)   ID.4399GEX.SC_RNA_COUNTER_CS.SC_MULTI_CORE.COUNT_ANALYZER.SC_RNA_ANALYZER.PREPROCESS_MATRIX\n",
            "2022-08-31 11:13:59 [runtime] (ready)           ID.4399GEX.SC_RNA_COUNTER_CS.SC_MULTI_CORE.COUNT_ANALYZER.SC_RNA_ANALYZER.RUN_BATCH_CORRECTION_PCA.PCA_PREP\n",
            "2022-08-31 11:13:59 [runtime] (ready)           ID.4399GEX.SC_RNA_COUNTER_CS.SC_MULTI_CORE.COUNT_ANALYZER.SC_RNA_ANALYZER._ANTIBODY_ANALYZER.SUMMARIZE_ANTIBODY_ANALYSIS\n",
            "2022-08-31 11:13:59 [runtime] (ready)           ID.4399GEX.SC_RNA_COUNTER_CS.SC_MULTI_CORE.COUNT_ANALYZER.SC_RNA_ANALYZER.RUN_MULTIGENOME_ANALYSIS\n",
            "2022-08-31 11:13:59 [runtime] (run:local)       ID.4399GEX.SC_RNA_COUNTER_CS.SC_MULTI_CORE.COUNT_ANALYZER.SC_RNA_ANALYZER.RUN_MULTIGENOME_ANALYSIS.fork0.split\n",
            "2022-08-31 11:13:59 [runtime] (ready)           ID.4399GEX.SC_RNA_COUNTER_CS.SC_MULTI_CORE.COUNT_ANALYZER.SC_RNA_ANALYZER._ANTIBODY_ANALYZER.CALL_ANTIBODIES\n",
            "2022-08-31 11:13:59 [runtime] (ready)           ID.4399GEX.SC_RNA_COUNTER_CS.SC_MULTI_CORE.COUNT_ANALYZER.SC_RNA_ANALYZER.RUN_BATCH_CORRECTION_PCA.RUN_PCA2\n",
            "2022-08-31 11:13:59 [runtime] (ready)           ID.4399GEX.SC_RNA_COUNTER_CS.SC_MULTI_CORE.COUNT_ANALYZER.SC_RNA_ANALYZER.RUN_BATCH_CORRECTION_PCA.POST_PCA\n",
            "2022-08-31 11:13:59 [runtime] (ready)           ID.4399GEX.SC_RNA_COUNTER_CS.SC_MULTI_CORE.COUNT_ANALYZER.SC_RNA_ANALYZER.CORRECT_CHEMISTRY_BATCH\n",
            "2022-08-31 11:13:59 [runtime] (ready)           ID.4399GEX.SC_RNA_COUNTER_CS.SC_MULTI_CORE.COUNT_ANALYZER.SC_RNA_ANALYZER.RUN_PCA\n",
            "2022-08-31 11:13:59 [runtime] (run:local)       ID.4399GEX.SC_RNA_COUNTER_CS.SC_MULTI_CORE.COUNT_ANALYZER.SC_RNA_ANALYZER.RUN_PCA.fork0.split\n",
            "2022-08-31 11:18:43 [runtime] (update)          ID.4399GEX.SC_RNA_COUNTER_CS.SC_MULTI_CORE.MULTI_GEM_WELL_PROCESSOR.COUNT_GEM_WELL_PROCESSOR._BASIC_SC_RNA_COUNTER._CELLS_REPORTER.SUBSAMPLE_READS.fork0 chunks running (4/15 completed)\n",
            "2022-08-31 11:23:34 [runtime] (split_complete)  ID.4399GEX.SC_RNA_COUNTER_CS.SC_MULTI_CORE.COUNT_ANALYZER.SC_RNA_ANALYZER.RUN_MULTIGENOME_ANALYSIS\n",
            "2022-08-31 11:23:34 [runtime] (run:local)       ID.4399GEX.SC_RNA_COUNTER_CS.SC_MULTI_CORE.COUNT_ANALYZER.SC_RNA_ANALYZER.RUN_MULTIGENOME_ANALYSIS.fork0.join\n",
            "2022-08-31 11:23:34 [runtime] (split_complete)  ID.4399GEX.SC_RNA_COUNTER_CS.SC_MULTI_CORE.COUNT_ANALYZER.SC_RNA_ANALYZER.RUN_PCA\n",
            "2022-08-31 11:23:34 [runtime] (run:local)       ID.4399GEX.SC_RNA_COUNTER_CS.SC_MULTI_CORE.COUNT_ANALYZER.SC_RNA_ANALYZER.RUN_PCA.fork0.chnk0.main\n",
            "2022-08-31 11:23:36 [runtime] (join_complete)   ID.4399GEX.SC_RNA_COUNTER_CS.SC_MULTI_CORE.COUNT_ANALYZER.SC_RNA_ANALYZER.RUN_MULTIGENOME_ANALYSIS\n",
            "2022-08-31 11:23:54 [runtime] (update)          ID.4399GEX.SC_RNA_COUNTER_CS.SC_MULTI_CORE.MULTI_GEM_WELL_PROCESSOR.COUNT_GEM_WELL_PROCESSOR._BASIC_SC_RNA_COUNTER._CELLS_REPORTER.SUBSAMPLE_READS.fork0 chunks running (13/15 completed)\n",
            "2022-08-31 11:25:12 [runtime] (chunks_complete) ID.4399GEX.SC_RNA_COUNTER_CS.SC_MULTI_CORE.MULTI_GEM_WELL_PROCESSOR.COUNT_GEM_WELL_PROCESSOR._BASIC_SC_RNA_COUNTER._CELLS_REPORTER.SUBSAMPLE_READS\n",
            "2022-08-31 11:25:12 [runtime] (run:local)       ID.4399GEX.SC_RNA_COUNTER_CS.SC_MULTI_CORE.MULTI_GEM_WELL_PROCESSOR.COUNT_GEM_WELL_PROCESSOR._BASIC_SC_RNA_COUNTER._CELLS_REPORTER.SUBSAMPLE_READS.fork0.join\n",
            "2022-08-31 11:25:59 [runtime] (chunks_complete) ID.4399GEX.SC_RNA_COUNTER_CS.SC_MULTI_CORE.COUNT_ANALYZER.SC_RNA_ANALYZER.RUN_PCA\n",
            "2022-08-31 11:25:59 [runtime] (run:local)       ID.4399GEX.SC_RNA_COUNTER_CS.SC_MULTI_CORE.COUNT_ANALYZER.SC_RNA_ANALYZER.RUN_PCA.fork0.join\n",
            "2022-08-31 11:25:59 [runtime] (join_complete)   ID.4399GEX.SC_RNA_COUNTER_CS.SC_MULTI_CORE.COUNT_ANALYZER.SC_RNA_ANALYZER.RUN_PCA\n",
            "2022-08-31 11:25:59 [runtime] (ready)           ID.4399GEX.SC_RNA_COUNTER_CS.SC_MULTI_CORE.COUNT_ANALYZER.SC_RNA_ANALYZER.RUN_KMEANS\n",
            "2022-08-31 11:25:59 [runtime] (run:local)       ID.4399GEX.SC_RNA_COUNTER_CS.SC_MULTI_CORE.COUNT_ANALYZER.SC_RNA_ANALYZER.RUN_KMEANS.fork0.split\n",
            "2022-08-31 11:25:59 [runtime] (ready)           ID.4399GEX.SC_RNA_COUNTER_CS.SC_MULTI_CORE.COUNT_ANALYZER.SC_RNA_ANALYZER.RUN_TSNE\n",
            "2022-08-31 11:25:59 [runtime] (run:local)       ID.4399GEX.SC_RNA_COUNTER_CS.SC_MULTI_CORE.COUNT_ANALYZER.SC_RNA_ANALYZER.RUN_TSNE.fork0.split\n",
            "2022-08-31 11:25:59 [runtime] (ready)           ID.4399GEX.SC_RNA_COUNTER_CS.SC_MULTI_CORE.COUNT_ANALYZER.SC_RNA_ANALYZER.RUN_GRAPH_CLUSTERING\n",
            "2022-08-31 11:25:59 [runtime] (run:local)       ID.4399GEX.SC_RNA_COUNTER_CS.SC_MULTI_CORE.COUNT_ANALYZER.SC_RNA_ANALYZER.RUN_GRAPH_CLUSTERING.fork0.split\n",
            "2022-08-31 11:25:59 [runtime] (ready)           ID.4399GEX.SC_RNA_COUNTER_CS.SC_MULTI_CORE.COUNT_ANALYZER.SC_RNA_ANALYZER.RUN_UMAP\n",
            "2022-08-31 11:25:59 [runtime] (run:local)       ID.4399GEX.SC_RNA_COUNTER_CS.SC_MULTI_CORE.COUNT_ANALYZER.SC_RNA_ANALYZER.RUN_UMAP.fork0.split\n",
            "2022-08-31 11:25:59 [runtime] (split_complete)  ID.4399GEX.SC_RNA_COUNTER_CS.SC_MULTI_CORE.COUNT_ANALYZER.SC_RNA_ANALYZER.RUN_TSNE\n",
            "2022-08-31 11:25:59 [runtime] (run:local)       ID.4399GEX.SC_RNA_COUNTER_CS.SC_MULTI_CORE.COUNT_ANALYZER.SC_RNA_ANALYZER.RUN_TSNE.fork0.chnk0.main\n",
            "2022-08-31 11:25:59 [runtime] (split_complete)  ID.4399GEX.SC_RNA_COUNTER_CS.SC_MULTI_CORE.COUNT_ANALYZER.SC_RNA_ANALYZER.RUN_GRAPH_CLUSTERING\n",
            "2022-08-31 11:25:59 [runtime] (run:local)       ID.4399GEX.SC_RNA_COUNTER_CS.SC_MULTI_CORE.COUNT_ANALYZER.SC_RNA_ANALYZER.RUN_GRAPH_CLUSTERING.fork0.chnk0.main\n",
            "2022-08-31 11:25:59 [runtime] (split_complete)  ID.4399GEX.SC_RNA_COUNTER_CS.SC_MULTI_CORE.COUNT_ANALYZER.SC_RNA_ANALYZER.RUN_UMAP\n",
            "2022-08-31 11:25:59 [runtime] (run:local)       ID.4399GEX.SC_RNA_COUNTER_CS.SC_MULTI_CORE.COUNT_ANALYZER.SC_RNA_ANALYZER.RUN_UMAP.fork0.chnk0.main\n",
            "2022-08-31 11:26:02 [runtime] (join_complete)   ID.4399GEX.SC_RNA_COUNTER_CS.SC_MULTI_CORE.MULTI_GEM_WELL_PROCESSOR.COUNT_GEM_WELL_PROCESSOR._BASIC_SC_RNA_COUNTER._CELLS_REPORTER.SUBSAMPLE_READS\n",
            "2022-08-31 11:26:02 [runtime] (split_complete)  ID.4399GEX.SC_RNA_COUNTER_CS.SC_MULTI_CORE.COUNT_ANALYZER.SC_RNA_ANALYZER.RUN_KMEANS\n",
            "2022-08-31 11:26:02 [runtime] (run:local)       ID.4399GEX.SC_RNA_COUNTER_CS.SC_MULTI_CORE.COUNT_ANALYZER.SC_RNA_ANALYZER.RUN_KMEANS.fork0.chnk0.main\n",
            "2022-08-31 11:26:02 [runtime] (run:local)       ID.4399GEX.SC_RNA_COUNTER_CS.SC_MULTI_CORE.COUNT_ANALYZER.SC_RNA_ANALYZER.RUN_KMEANS.fork0.chnk1.main\n",
            "2022-08-31 11:26:02 [runtime] (run:local)       ID.4399GEX.SC_RNA_COUNTER_CS.SC_MULTI_CORE.COUNT_ANALYZER.SC_RNA_ANALYZER.RUN_KMEANS.fork0.chnk2.main\n",
            "2022-08-31 11:26:02 [runtime] (run:local)       ID.4399GEX.SC_RNA_COUNTER_CS.SC_MULTI_CORE.COUNT_ANALYZER.SC_RNA_ANALYZER.RUN_KMEANS.fork0.chnk3.main\n",
            "2022-08-31 11:26:02 [runtime] (run:local)       ID.4399GEX.SC_RNA_COUNTER_CS.SC_MULTI_CORE.COUNT_ANALYZER.SC_RNA_ANALYZER.RUN_KMEANS.fork0.chnk4.main\n",
            "2022-08-31 11:26:02 [runtime] (run:local)       ID.4399GEX.SC_RNA_COUNTER_CS.SC_MULTI_CORE.COUNT_ANALYZER.SC_RNA_ANALYZER.RUN_KMEANS.fork0.chnk5.main\n",
            "2022-08-31 11:26:02 [runtime] (run:local)       ID.4399GEX.SC_RNA_COUNTER_CS.SC_MULTI_CORE.COUNT_ANALYZER.SC_RNA_ANALYZER.RUN_KMEANS.fork0.chnk6.main\n",
            "2022-08-31 11:26:02 [runtime] (run:local)       ID.4399GEX.SC_RNA_COUNTER_CS.SC_MULTI_CORE.COUNT_ANALYZER.SC_RNA_ANALYZER.RUN_KMEANS.fork0.chnk7.main\n",
            "2022-08-31 11:26:02 [runtime] (run:local)       ID.4399GEX.SC_RNA_COUNTER_CS.SC_MULTI_CORE.COUNT_ANALYZER.SC_RNA_ANALYZER.RUN_KMEANS.fork0.chnk8.main\n",
            "2022-08-31 11:26:02 [runtime] (ready)           ID.4399GEX.SC_RNA_COUNTER_CS.SC_MULTI_CORE.MULTI_GEM_WELL_PROCESSOR.COUNT_GEM_WELL_PROCESSOR._BASIC_SC_RNA_COUNTER._CELLS_REPORTER.SUMMARIZE_BASIC_REPORTS\n",
            "2022-08-31 11:26:02 [runtime] (run:local)       ID.4399GEX.SC_RNA_COUNTER_CS.SC_MULTI_CORE.MULTI_GEM_WELL_PROCESSOR.COUNT_GEM_WELL_PROCESSOR._BASIC_SC_RNA_COUNTER._CELLS_REPORTER.SUMMARIZE_BASIC_REPORTS.fork0.split\n",
            "2022-08-31 11:26:47 [runtime] (chunks_complete) ID.4399GEX.SC_RNA_COUNTER_CS.SC_MULTI_CORE.COUNT_ANALYZER.SC_RNA_ANALYZER.RUN_TSNE\n",
            "2022-08-31 11:26:47 [runtime] (run:local)       ID.4399GEX.SC_RNA_COUNTER_CS.SC_MULTI_CORE.COUNT_ANALYZER.SC_RNA_ANALYZER.RUN_TSNE.fork0.join\n",
            "2022-08-31 11:27:22 [runtime] (chunks_complete) ID.4399GEX.SC_RNA_COUNTER_CS.SC_MULTI_CORE.COUNT_ANALYZER.SC_RNA_ANALYZER.RUN_GRAPH_CLUSTERING\n",
            "2022-08-31 11:27:22 [runtime] (run:local)       ID.4399GEX.SC_RNA_COUNTER_CS.SC_MULTI_CORE.COUNT_ANALYZER.SC_RNA_ANALYZER.RUN_GRAPH_CLUSTERING.fork0.join\n",
            "2022-08-31 11:27:43 [runtime] (join_complete)   ID.4399GEX.SC_RNA_COUNTER_CS.SC_MULTI_CORE.COUNT_ANALYZER.SC_RNA_ANALYZER.RUN_TSNE\n",
            "2022-08-31 11:27:43 [runtime] (join_complete)   ID.4399GEX.SC_RNA_COUNTER_CS.SC_MULTI_CORE.COUNT_ANALYZER.SC_RNA_ANALYZER.RUN_GRAPH_CLUSTERING\n",
            "2022-08-31 11:27:43 [runtime] (chunks_complete) ID.4399GEX.SC_RNA_COUNTER_CS.SC_MULTI_CORE.COUNT_ANALYZER.SC_RNA_ANALYZER.RUN_KMEANS\n",
            "2022-08-31 11:27:43 [runtime] (run:local)       ID.4399GEX.SC_RNA_COUNTER_CS.SC_MULTI_CORE.COUNT_ANALYZER.SC_RNA_ANALYZER.RUN_KMEANS.fork0.join\n",
            "2022-08-31 11:27:44 [runtime] (split_complete)  ID.4399GEX.SC_RNA_COUNTER_CS.SC_MULTI_CORE.MULTI_GEM_WELL_PROCESSOR.COUNT_GEM_WELL_PROCESSOR._BASIC_SC_RNA_COUNTER._CELLS_REPORTER.SUMMARIZE_BASIC_REPORTS\n",
            "2022-08-31 11:27:44 [runtime] (run:local)       ID.4399GEX.SC_RNA_COUNTER_CS.SC_MULTI_CORE.MULTI_GEM_WELL_PROCESSOR.COUNT_GEM_WELL_PROCESSOR._BASIC_SC_RNA_COUNTER._CELLS_REPORTER.SUMMARIZE_BASIC_REPORTS.fork0.join\n",
            "2022-08-31 11:27:45 [runtime] (join_complete)   ID.4399GEX.SC_RNA_COUNTER_CS.SC_MULTI_CORE.COUNT_ANALYZER.SC_RNA_ANALYZER.RUN_KMEANS\n",
            "2022-08-31 11:27:45 [runtime] (ready)           ID.4399GEX.SC_RNA_COUNTER_CS.SC_MULTI_CORE.COUNT_ANALYZER.SC_RNA_ANALYZER.COMBINE_CLUSTERING\n",
            "2022-08-31 11:27:45 [runtime] (run:local)       ID.4399GEX.SC_RNA_COUNTER_CS.SC_MULTI_CORE.COUNT_ANALYZER.SC_RNA_ANALYZER.COMBINE_CLUSTERING.fork0.chnk0.main\n",
            "2022-08-31 11:27:46 [runtime] (chunks_complete) ID.4399GEX.SC_RNA_COUNTER_CS.SC_MULTI_CORE.COUNT_ANALYZER.SC_RNA_ANALYZER.COMBINE_CLUSTERING\n",
            "2022-08-31 11:27:46 [runtime] (ready)           ID.4399GEX.SC_RNA_COUNTER_CS.SC_MULTI_CORE.COUNT_ANALYZER.SC_RNA_ANALYZER.RUN_DIFFERENTIAL_EXPRESSION\n",
            "2022-08-31 11:27:46 [runtime] (run:local)       ID.4399GEX.SC_RNA_COUNTER_CS.SC_MULTI_CORE.COUNT_ANALYZER.SC_RNA_ANALYZER.RUN_DIFFERENTIAL_EXPRESSION.fork0.split\n",
            "2022-08-31 11:27:46 [runtime] (split_complete)  ID.4399GEX.SC_RNA_COUNTER_CS.SC_MULTI_CORE.COUNT_ANALYZER.SC_RNA_ANALYZER.RUN_DIFFERENTIAL_EXPRESSION\n",
            "2022-08-31 11:27:46 [runtime] (run:local)       ID.4399GEX.SC_RNA_COUNTER_CS.SC_MULTI_CORE.COUNT_ANALYZER.SC_RNA_ANALYZER.RUN_DIFFERENTIAL_EXPRESSION.fork0.chnk0.main\n",
            "2022-08-31 11:27:46 [runtime] (run:local)       ID.4399GEX.SC_RNA_COUNTER_CS.SC_MULTI_CORE.COUNT_ANALYZER.SC_RNA_ANALYZER.RUN_DIFFERENTIAL_EXPRESSION.fork0.chnk1.main\n",
            "2022-08-31 11:27:46 [runtime] (run:local)       ID.4399GEX.SC_RNA_COUNTER_CS.SC_MULTI_CORE.COUNT_ANALYZER.SC_RNA_ANALYZER.RUN_DIFFERENTIAL_EXPRESSION.fork0.chnk2.main\n",
            "2022-08-31 11:27:46 [runtime] (run:local)       ID.4399GEX.SC_RNA_COUNTER_CS.SC_MULTI_CORE.COUNT_ANALYZER.SC_RNA_ANALYZER.RUN_DIFFERENTIAL_EXPRESSION.fork0.chnk3.main\n",
            "2022-08-31 11:27:46 [runtime] (run:local)       ID.4399GEX.SC_RNA_COUNTER_CS.SC_MULTI_CORE.COUNT_ANALYZER.SC_RNA_ANALYZER.RUN_DIFFERENTIAL_EXPRESSION.fork0.chnk4.main\n",
            "2022-08-31 11:27:46 [runtime] (run:local)       ID.4399GEX.SC_RNA_COUNTER_CS.SC_MULTI_CORE.COUNT_ANALYZER.SC_RNA_ANALYZER.RUN_DIFFERENTIAL_EXPRESSION.fork0.chnk5.main\n",
            "2022-08-31 11:27:46 [runtime] (run:local)       ID.4399GEX.SC_RNA_COUNTER_CS.SC_MULTI_CORE.COUNT_ANALYZER.SC_RNA_ANALYZER.RUN_DIFFERENTIAL_EXPRESSION.fork0.chnk6.main\n",
            "2022-08-31 11:27:46 [runtime] (run:local)       ID.4399GEX.SC_RNA_COUNTER_CS.SC_MULTI_CORE.COUNT_ANALYZER.SC_RNA_ANALYZER.RUN_DIFFERENTIAL_EXPRESSION.fork0.chnk7.main\n",
            "2022-08-31 11:27:46 [runtime] (run:local)       ID.4399GEX.SC_RNA_COUNTER_CS.SC_MULTI_CORE.COUNT_ANALYZER.SC_RNA_ANALYZER.RUN_DIFFERENTIAL_EXPRESSION.fork0.chnk8.main\n",
            "2022-08-31 11:28:26 [runtime] (chunks_complete) ID.4399GEX.SC_RNA_COUNTER_CS.SC_MULTI_CORE.COUNT_ANALYZER.SC_RNA_ANALYZER.RUN_UMAP\n",
            "2022-08-31 11:28:26 [runtime] (run:local)       ID.4399GEX.SC_RNA_COUNTER_CS.SC_MULTI_CORE.COUNT_ANALYZER.SC_RNA_ANALYZER.RUN_UMAP.fork0.join\n",
            "2022-08-31 11:28:51 [runtime] (join_complete)   ID.4399GEX.SC_RNA_COUNTER_CS.SC_MULTI_CORE.MULTI_GEM_WELL_PROCESSOR.COUNT_GEM_WELL_PROCESSOR._BASIC_SC_RNA_COUNTER._CELLS_REPORTER.SUMMARIZE_BASIC_REPORTS\n",
            "2022-08-31 11:28:51 [runtime] (ready)           ID.4399GEX.SC_RNA_COUNTER_CS.SC_MULTI_CORE.MULTI_GEM_WELL_PROCESSOR.COUNT_GEM_WELL_PROCESSOR._BASIC_SC_RNA_COUNTER.MERGE_METRICS\n",
            "2022-08-31 11:28:51 [runtime] (run:local)       ID.4399GEX.SC_RNA_COUNTER_CS.SC_MULTI_CORE.MULTI_GEM_WELL_PROCESSOR.COUNT_GEM_WELL_PROCESSOR._BASIC_SC_RNA_COUNTER.MERGE_METRICS.fork0.chnk0.main\n",
            "2022-08-31 11:33:00 [runtime] (update)          ID.4399GEX.SC_RNA_COUNTER_CS.SC_MULTI_CORE.COUNT_ANALYZER.SC_RNA_ANALYZER.RUN_DIFFERENTIAL_EXPRESSION.fork0 chunks running (5/9 completed)\n",
            "2022-08-31 11:33:26 [runtime] (join_complete)   ID.4399GEX.SC_RNA_COUNTER_CS.SC_MULTI_CORE.COUNT_ANALYZER.SC_RNA_ANALYZER.RUN_UMAP\n",
            "2022-08-31 11:33:26 [runtime] (chunks_complete) ID.4399GEX.SC_RNA_COUNTER_CS.SC_MULTI_CORE.MULTI_GEM_WELL_PROCESSOR.COUNT_GEM_WELL_PROCESSOR._BASIC_SC_RNA_COUNTER.MERGE_METRICS\n",
            "2022-08-31 11:33:27 [runtime] (ready)           ID.4399GEX.SC_RNA_COUNTER_CS.SC_MULTI_CORE.COUNT_ANALYZER._TARGETED_ANALYZER.CALCULATE_TARGETED_METRICS\n",
            "2022-08-31 11:33:27 [runtime] (ready)           ID.4399GEX.SC_RNA_COUNTER_CS.SC_MULTI_CORE.COUNT_ANALYZER._CRISPR_ANALYZER.CALL_PROTOSPACERS\n",
            "2022-08-31 11:33:27 [runtime] (ready)           ID.4399GEX.SC_RNA_COUNTER_CS.SC_MULTI_CORE.COUNT_ANALYZER._CRISPR_ANALYZER._PERTURBATIONS_BY_FEATURE\n",
            "2022-08-31 11:33:27 [runtime] (ready)           ID.4399GEX.SC_RNA_COUNTER_CS.SC_MULTI_CORE.COUNT_ANALYZER._CRISPR_ANALYZER._PERTURBATIONS_BY_TARGET\n",
            "2022-08-31 11:33:27 [runtime] (ready)           ID.4399GEX.SC_RNA_COUNTER_CS.SC_MULTI_CORE.COUNT_ANALYZER._TARGETED_ANALYZER.MERGE_METRICS\n",
            "2022-08-31 11:33:27 [runtime] (ready)           ID.4399GEX.SC_RNA_COUNTER_CS.SC_MULTI_CORE.COUNT_ANALYZER._CRISPR_ANALYZER.SUMMARIZE_CRISPR_ANALYSIS\n",
            "2022-08-31 11:35:30 [runtime] (chunks_complete) ID.4399GEX.SC_RNA_COUNTER_CS.SC_MULTI_CORE.COUNT_ANALYZER.SC_RNA_ANALYZER.RUN_DIFFERENTIAL_EXPRESSION\n",
            "2022-08-31 11:35:30 [runtime] (run:local)       ID.4399GEX.SC_RNA_COUNTER_CS.SC_MULTI_CORE.COUNT_ANALYZER.SC_RNA_ANALYZER.RUN_DIFFERENTIAL_EXPRESSION.fork0.join\n",
            "2022-08-31 11:35:32 [runtime] (join_complete)   ID.4399GEX.SC_RNA_COUNTER_CS.SC_MULTI_CORE.COUNT_ANALYZER.SC_RNA_ANALYZER.RUN_DIFFERENTIAL_EXPRESSION\n",
            "2022-08-31 11:35:32 [runtime] (ready)           ID.4399GEX.SC_RNA_COUNTER_CS.SC_MULTI_CORE.COUNT_ANALYZER.SC_RNA_ANALYZER.SUMMARIZE_ANALYSIS\n",
            "2022-08-31 11:35:32 [runtime] (run:local)       ID.4399GEX.SC_RNA_COUNTER_CS.SC_MULTI_CORE.COUNT_ANALYZER.SC_RNA_ANALYZER.SUMMARIZE_ANALYSIS.fork0.split\n",
            "2022-08-31 11:35:33 [runtime] (split_complete)  ID.4399GEX.SC_RNA_COUNTER_CS.SC_MULTI_CORE.COUNT_ANALYZER.SC_RNA_ANALYZER.SUMMARIZE_ANALYSIS\n",
            "2022-08-31 11:35:33 [runtime] (run:local)       ID.4399GEX.SC_RNA_COUNTER_CS.SC_MULTI_CORE.COUNT_ANALYZER.SC_RNA_ANALYZER.SUMMARIZE_ANALYSIS.fork0.chnk0.main\n",
            "2022-08-31 11:35:35 [runtime] (chunks_complete) ID.4399GEX.SC_RNA_COUNTER_CS.SC_MULTI_CORE.COUNT_ANALYZER.SC_RNA_ANALYZER.SUMMARIZE_ANALYSIS\n",
            "2022-08-31 11:35:35 [runtime] (run:local)       ID.4399GEX.SC_RNA_COUNTER_CS.SC_MULTI_CORE.COUNT_ANALYZER.SC_RNA_ANALYZER.SUMMARIZE_ANALYSIS.fork0.join\n",
            "2022-08-31 11:35:37 [runtime] (join_complete)   ID.4399GEX.SC_RNA_COUNTER_CS.SC_MULTI_CORE.COUNT_ANALYZER.SC_RNA_ANALYZER.SUMMARIZE_ANALYSIS\n",
            "2022-08-31 11:35:37 [runtime] (ready)           ID.4399GEX.SC_RNA_COUNTER_CS.SC_MULTI_CORE.MULTI_REPORTER.SUMMARIZE_REPORTS\n",
            "2022-08-31 11:35:37 [runtime] (run:local)       ID.4399GEX.SC_RNA_COUNTER_CS.SC_MULTI_CORE.MULTI_REPORTER.SUMMARIZE_REPORTS.fork0.chnk0.main\n",
            "2022-08-31 11:35:37 [runtime] (ready)           ID.4399GEX.SC_RNA_COUNTER_CS.SC_MULTI_CORE.MULTI_REPORTER.GENERATE_LIBRARY_PLOTS\n",
            "2022-08-31 11:35:53 [runtime] (chunks_complete) ID.4399GEX.SC_RNA_COUNTER_CS.SC_MULTI_CORE.MULTI_REPORTER.SUMMARIZE_REPORTS\n",
            "2022-08-31 11:35:53 [runtime] (ready)           ID.4399GEX.SC_RNA_COUNTER_CS.SC_MULTI_CORE.MULTI_REPORTER.CLOUPE_PREPROCESS\n",
            "2022-08-31 11:35:53 [runtime] (run:local)       ID.4399GEX.SC_RNA_COUNTER_CS.SC_MULTI_CORE.MULTI_REPORTER.CLOUPE_PREPROCESS.fork0.split\n",
            "2022-08-31 11:35:54 [runtime] (split_complete)  ID.4399GEX.SC_RNA_COUNTER_CS.SC_MULTI_CORE.MULTI_REPORTER.CLOUPE_PREPROCESS\n",
            "2022-08-31 11:35:54 [runtime] (run:local)       ID.4399GEX.SC_RNA_COUNTER_CS.SC_MULTI_CORE.MULTI_REPORTER.CLOUPE_PREPROCESS.fork0.chnk0.main\n",
            "2022-08-31 11:36:54 [runtime] (chunks_complete) ID.4399GEX.SC_RNA_COUNTER_CS.SC_MULTI_CORE.MULTI_REPORTER.CLOUPE_PREPROCESS\n",
            "2022-08-31 11:36:54 [runtime] (run:local)       ID.4399GEX.SC_RNA_COUNTER_CS.SC_MULTI_CORE.MULTI_REPORTER.CLOUPE_PREPROCESS.fork0.join\n",
            "2022-08-31 11:36:55 [runtime] (join_complete)   ID.4399GEX.SC_RNA_COUNTER_CS.SC_MULTI_CORE.MULTI_REPORTER.CLOUPE_PREPROCESS\n",
            "2022-08-31 11:36:55 [runtime] (ready)           ID.4399GEX.SC_RNA_COUNTER_CS.SC_MULTI_CORE.MULTI_REPORTER.CHOOSE_CLOUPE\n",
            "2022-08-31 11:36:55 [runtime] (run:local)       ID.4399GEX.SC_RNA_COUNTER_CS.SC_MULTI_CORE.MULTI_REPORTER.CHOOSE_CLOUPE.fork0.chnk0.main\n",
            "2022-08-31 11:36:55 [runtime] (chunks_complete) ID.4399GEX.SC_RNA_COUNTER_CS.SC_MULTI_CORE.MULTI_REPORTER.CHOOSE_CLOUPE\n",
            "\n",
            "Outputs:\n",
            "- Run summary HTML:                         /content/4399GEX/outs/web_summary.html\n",
            "- Run summary CSV:                          /content/4399GEX/outs/metrics_summary.csv\n",
            "- BAM:                                      /content/4399GEX/outs/possorted_genome_bam.bam\n",
            "- BAM BAI index:                            /content/4399GEX/outs/possorted_genome_bam.bam.bai\n",
            "- BAM CSI index:                            null\n",
            "- Filtered feature-barcode matrices MEX:    /content/4399GEX/outs/filtered_feature_bc_matrix\n",
            "- Filtered feature-barcode matrices HDF5:   /content/4399GEX/outs/filtered_feature_bc_matrix.h5\n",
            "- Unfiltered feature-barcode matrices MEX:  /content/4399GEX/outs/raw_feature_bc_matrix\n",
            "- Unfiltered feature-barcode matrices HDF5: /content/4399GEX/outs/raw_feature_bc_matrix.h5\n",
            "- Secondary analysis output CSV:            /content/4399GEX/outs/analysis\n",
            "- Per-molecule read information:            /content/4399GEX/outs/molecule_info.h5\n",
            "- CRISPR-specific analysis:                 null\n",
            "- CSP-specific analysis:                    null\n",
            "- Loupe Browser file:                       /content/4399GEX/outs/cloupe.cloupe\n",
            "- Feature Reference:                        null\n",
            "- Target Panel File:                        null\n",
            "- Probe Set File:                           null\n",
            "\n",
            "Waiting 6 seconds for UI to do final refresh.\n",
            "Pipestance completed successfully!\n",
            "\n",
            "2022-08-31 11:37:01 Shutting down.\n",
            "Saving pipestance info to \"4399GEX/4399GEX.mri.tgz\"\n"
          ]
        }
      ],
      "source": [
        "!/content/cellranger-7.0.1/cellranger count --id=4399GEX --transcriptome=/content/refdata-gex-GRCh38-2020-A/ --fastqs=/content/drive/MyDrive/Fixed_vs_fresh/fastq/Run2/4399GEX/"
      ]
    },
    {
      "cell_type": "code",
      "execution_count": null,
      "metadata": {
        "id": "j-Kb0SXPzHk3"
      },
      "outputs": [],
      "source": [
        "cp -r /content/4399GEX/ /content/drive/MyDrive/Fixed_vs_fresh/Aligned/"
      ]
    },
    {
      "cell_type": "code",
      "execution_count": null,
      "metadata": {
        "id": "fRbaaL7wzHk3"
      },
      "outputs": [],
      "source": [
        "rm -r /content/Fresh/"
      ]
    },
    {
      "cell_type": "markdown",
      "metadata": {
        "id": "aKbmZT5XwfX0"
      },
      "source": [
        "# Fresh"
      ]
    },
    {
      "cell_type": "code",
      "execution_count": null,
      "metadata": {
        "colab": {
          "base_uri": "https://localhost:8080/"
        },
        "id": "j6z6qxSMwhkP",
        "outputId": "77f5a484-6c1a-49a4-8831-2150ae710666"
      },
      "outputs": [
        {
          "name": "stdout",
          "output_type": "stream",
          "text": [
            "/content\n"
          ]
        }
      ],
      "source": [
        "%cd /content/"
      ]
    },
    {
      "cell_type": "code",
      "execution_count": null,
      "metadata": {
        "id": "EzWWvUVtwhkP"
      },
      "outputs": [],
      "source": [
        "!/content/cellranger-7.0.0/cellranger multi --id=sample345 --csv=/home/jdoe/sample345.csv"
      ]
    },
    {
      "cell_type": "code",
      "execution_count": null,
      "metadata": {
        "id": "TGDb4cnHwhkP"
      },
      "outputs": [],
      "source": [
        "cp -r /content/GEX_A/ /content/drive/MyDrive/Alex/Exp01/2_Alignment/"
      ]
    },
    {
      "cell_type": "markdown",
      "metadata": {
        "id": "fYl35p5HfjJm"
      },
      "source": [
        "## FFPE"
      ]
    },
    {
      "cell_type": "code",
      "execution_count": null,
      "metadata": {
        "id": "LXnYszWlfvGs"
      },
      "outputs": [],
      "source": [
        "%cd /content/"
      ]
    },
    {
      "cell_type": "code",
      "execution_count": null,
      "metadata": {
        "id": "4tU5rgKTNRWc"
      },
      "outputs": [],
      "source": [
        "!/content/cellranger-7.0.0/cellranger multi --id=FFPE --csv=/content/drive/MyDrive/Fixed_vs_fresh/Aligned/FFPE/FFPE.csv"
      ]
    },
    {
      "cell_type": "code",
      "execution_count": null,
      "metadata": {
        "id": "E0fPWHtUmyEx"
      },
      "outputs": [],
      "source": [
        "cp -r /content/FFPE/ /content/drive/MyDrive/Fixed_vs_fresh/Aligned/FFPE/"
      ]
    },
    {
      "cell_type": "code",
      "execution_count": null,
      "metadata": {
        "id": "KZsGAmY1xxCZ"
      },
      "outputs": [],
      "source": [
        "rm -r /content/FFPE/"
      ]
    }
  ],
  "metadata": {
    "colab": {
      "collapsed_sections": [
        "kYBcMpcR7vHq",
        "LEBx9dOQqJmD",
        "Zd2rnLFc6fCu",
        "j-CA52SZ_DM5",
        "McSsb0ILg2TH",
        "bKoSjw45ij2y",
        "YkI6-7Iih3d4",
        "3ke-TypqrSY0"
      ],
      "machine_shape": "hm",
      "provenance": [],
      "include_colab_link": true
    },
    "kernelspec": {
      "display_name": "Python 3",
      "name": "python3"
    },
    "language_info": {
      "name": "python"
    }
  },
  "nbformat": 4,
  "nbformat_minor": 0
}