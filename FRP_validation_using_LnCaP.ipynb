{
  "nbformat": 4,
  "nbformat_minor": 0,
  "metadata": {
    "colab": {
      "name": "FRP validation using LnCaP.ipynb",
      "provenance": [],
      "authorship_tag": "ABX9TyPSbINanDs5tXwlZrlnb7f8",
      "include_colab_link": true
    },
    "kernelspec": {
      "name": "python3",
      "display_name": "Python 3"
    },
    "language_info": {
      "name": "python"
    }
  },
  "cells": [
    {
      "cell_type": "markdown",
      "metadata": {
        "id": "view-in-github",
        "colab_type": "text"
      },
      "source": [
        "<a href=\"https://colab.research.google.com/github/afvallejo/snPATHOSeq/blob/main/FRP_validation_using_LnCaP.ipynb\" target=\"_parent\"><img src=\"https://colab.research.google.com/assets/colab-badge.svg\" alt=\"Open In Colab\"/></a>"
      ]
    },
    {
      "cell_type": "markdown",
      "source": [
        "#**snPATHO-seq: unlocking the FFPE archives for single nucleus RNA profiling**"
      ],
      "metadata": {
        "id": "zZefUCenUiLT"
      }
    },
    {
      "cell_type": "markdown",
      "source": [
        "\n",
        "\n",
        "Andres F Vallejo<sup>1,2</sup>, Kate Harvey<sup>3</sup>, Taopeng Wang<sup>3,4</sup>, Kellie Wise<sup>1,2</sup>, Lisa M. Butler<sup>2,5</sup>, Jose Polo<sup>1,2</sup>, Jasmine Plummer<sup>6,7</sup>, Alex Swarbrick<sup>3,4,&</sup>, Luciano G Martelotto<sup>1,2,&,#</sup>\n",
        "\n",
        "\n",
        "1.\tACE – Adelaide Centre for Epigenetics, University of Adelaide, South Australia, Australia. \n",
        "2.\tSAiGENCI – South Australian immunoGENomics Cancer Institute, University of Adelaide, South Australia, Australia. \n",
        "3.\tCancer Ecosystems Program, Garvan Institute of Medical Research, Darlinghurst, NSW 2010, Australia\n",
        "4.\tSt Vincent’s Clinical School, Faculty of Medicine and Health, UNSW Sydney, Kensington, NSW 2052, Australia.\n",
        "5.\tSolid Tumour Program, South Australian Health and Medical Research Institute, Adelaide, South Australia, Australia\n",
        "6.\tDepartment of Biomedical Sciences, Center for Bioinformatics and Functional Genomics, Cedars-Sinai Medical Center, Los Angeles, CA, 90048, USA\n",
        "7.\tApplied Genomics, Computation and Translational Core, Cedars Sinai Medical Center, Los Angeles, CA, 90048, USA\n",
        "\n",
        "& Joint senior authors\n",
        "## Correspondence to:\n",
        "A/Prof. Luciano Martelotto, luciano.martelotto@adelaide.edu.au"
      ],
      "metadata": {
        "id": "y0Hfvix6UZ8e"
      }
    },
    {
      "cell_type": "markdown",
      "metadata": {
        "id": "c6cyWp6_ws-y"
      },
      "source": [
        "#Colab"
      ]
    },
    {
      "cell_type": "code",
      "execution_count": null,
      "metadata": {
        "id": "7QY6_2j_yTSD"
      },
      "outputs": [],
      "source": [
        "# restart after installing\n",
        "\n",
        "#for python 3.7\n",
        "!pip install scanpy leidenalg pandas==1.1.5 umap-learn==0.5.3 plotnine==0.8.0 anndata==0.7.8 panel\n"
      ]
    },
    {
      "cell_type": "code",
      "source": [
        "!pip install scanpy leidenalg"
      ],
      "metadata": {
        "colab": {
          "base_uri": "https://localhost:8080/",
          "height": 1000
        },
        "id": "B0JO59mHuPoI",
        "outputId": "27b5efcd-7e4c-4724-f064-e6475d6f8f73"
      },
      "execution_count": 1,
      "outputs": [
        {
          "output_type": "stream",
          "name": "stdout",
          "text": [
            "Looking in indexes: https://pypi.org/simple, https://us-python.pkg.dev/colab-wheels/public/simple/\n",
            "Collecting scanpy\n",
            "  Downloading scanpy-1.9.1-py3-none-any.whl (2.0 MB)\n",
            "\u001b[K     |████████████████████████████████| 2.0 MB 27.8 MB/s \n",
            "\u001b[?25hCollecting leidenalg\n",
            "  Downloading leidenalg-0.8.10-cp37-cp37m-manylinux_2_17_x86_64.manylinux2014_x86_64.whl (1.3 MB)\n",
            "\u001b[K     |████████████████████████████████| 1.3 MB 44.5 MB/s \n",
            "\u001b[?25hRequirement already satisfied: scipy>=1.4 in /usr/local/lib/python3.7/dist-packages (from scanpy) (1.7.3)\n",
            "Requirement already satisfied: importlib_metadata>=0.7 in /usr/local/lib/python3.7/dist-packages (from scanpy) (4.12.0)\n",
            "Requirement already satisfied: statsmodels>=0.10.0rc2 in /usr/local/lib/python3.7/dist-packages (from scanpy) (0.12.2)\n",
            "Requirement already satisfied: h5py>=3 in /usr/local/lib/python3.7/dist-packages (from scanpy) (3.1.0)\n",
            "Collecting session-info\n",
            "  Downloading session_info-1.0.0.tar.gz (24 kB)\n",
            "Requirement already satisfied: joblib in /usr/local/lib/python3.7/dist-packages (from scanpy) (1.1.0)\n",
            "Requirement already satisfied: scikit-learn>=0.22 in /usr/local/lib/python3.7/dist-packages (from scanpy) (1.0.2)\n",
            "Requirement already satisfied: packaging in /usr/local/lib/python3.7/dist-packages (from scanpy) (21.3)\n",
            "Requirement already satisfied: numba>=0.41.0 in /usr/local/lib/python3.7/dist-packages (from scanpy) (0.56.0)\n",
            "Requirement already satisfied: pandas>=1.0 in /usr/local/lib/python3.7/dist-packages (from scanpy) (1.3.5)\n",
            "Requirement already satisfied: networkx>=2.3 in /usr/local/lib/python3.7/dist-packages (from scanpy) (2.6.3)\n",
            "Collecting umap-learn>=0.3.10\n",
            "  Downloading umap-learn-0.5.3.tar.gz (88 kB)\n",
            "\u001b[K     |████████████████████████████████| 88 kB 5.1 MB/s \n",
            "\u001b[?25hRequirement already satisfied: patsy in /usr/local/lib/python3.7/dist-packages (from scanpy) (0.5.2)\n",
            "Requirement already satisfied: natsort in /usr/local/lib/python3.7/dist-packages (from scanpy) (5.5.0)\n",
            "Requirement already satisfied: numpy>=1.17.0 in /usr/local/lib/python3.7/dist-packages (from scanpy) (1.21.6)\n",
            "Requirement already satisfied: tqdm in /usr/local/lib/python3.7/dist-packages (from scanpy) (4.64.0)\n",
            "Requirement already satisfied: seaborn in /usr/local/lib/python3.7/dist-packages (from scanpy) (0.11.2)\n",
            "Collecting anndata>=0.7.4\n",
            "  Downloading anndata-0.8.0-py3-none-any.whl (96 kB)\n",
            "\u001b[K     |████████████████████████████████| 96 kB 2.6 MB/s \n",
            "\u001b[?25hCollecting matplotlib>=3.4\n",
            "  Downloading matplotlib-3.5.3-cp37-cp37m-manylinux_2_5_x86_64.manylinux1_x86_64.whl (11.2 MB)\n",
            "\u001b[K     |████████████████████████████████| 11.2 MB 39.6 MB/s \n",
            "\u001b[?25hRequirement already satisfied: typing_extensions in /usr/local/lib/python3.7/dist-packages (from anndata>=0.7.4->scanpy) (4.1.1)\n",
            "Requirement already satisfied: cached-property in /usr/local/lib/python3.7/dist-packages (from h5py>=3->scanpy) (1.5.2)\n",
            "Requirement already satisfied: zipp>=0.5 in /usr/local/lib/python3.7/dist-packages (from importlib_metadata>=0.7->scanpy) (3.8.1)\n",
            "Requirement already satisfied: pyparsing>=2.2.1 in /usr/local/lib/python3.7/dist-packages (from matplotlib>=3.4->scanpy) (3.0.9)\n",
            "Collecting fonttools>=4.22.0\n",
            "  Downloading fonttools-4.37.0-py3-none-any.whl (956 kB)\n",
            "\u001b[K     |████████████████████████████████| 956 kB 63.5 MB/s \n",
            "\u001b[?25hRequirement already satisfied: cycler>=0.10 in /usr/local/lib/python3.7/dist-packages (from matplotlib>=3.4->scanpy) (0.11.0)\n",
            "Requirement already satisfied: pillow>=6.2.0 in /usr/local/lib/python3.7/dist-packages (from matplotlib>=3.4->scanpy) (7.1.2)\n",
            "Requirement already satisfied: kiwisolver>=1.0.1 in /usr/local/lib/python3.7/dist-packages (from matplotlib>=3.4->scanpy) (1.4.4)\n",
            "Requirement already satisfied: python-dateutil>=2.7 in /usr/local/lib/python3.7/dist-packages (from matplotlib>=3.4->scanpy) (2.8.2)\n",
            "Requirement already satisfied: setuptools in /usr/local/lib/python3.7/dist-packages (from numba>=0.41.0->scanpy) (57.4.0)\n",
            "Requirement already satisfied: llvmlite<0.40,>=0.39.0dev0 in /usr/local/lib/python3.7/dist-packages (from numba>=0.41.0->scanpy) (0.39.0)\n",
            "Requirement already satisfied: pytz>=2017.3 in /usr/local/lib/python3.7/dist-packages (from pandas>=1.0->scanpy) (2022.2.1)\n",
            "Requirement already satisfied: six>=1.5 in /usr/local/lib/python3.7/dist-packages (from python-dateutil>=2.7->matplotlib>=3.4->scanpy) (1.15.0)\n",
            "Requirement already satisfied: threadpoolctl>=2.0.0 in /usr/local/lib/python3.7/dist-packages (from scikit-learn>=0.22->scanpy) (3.1.0)\n",
            "Collecting pynndescent>=0.5\n",
            "  Downloading pynndescent-0.5.7.tar.gz (1.1 MB)\n",
            "\u001b[K     |████████████████████████████████| 1.1 MB 8.6 MB/s \n",
            "\u001b[?25hCollecting igraph<0.10,>=0.9.0\n",
            "  Downloading igraph-0.9.11-cp37-cp37m-manylinux_2_17_x86_64.manylinux2014_x86_64.whl (3.1 MB)\n",
            "\u001b[K     |████████████████████████████████| 3.1 MB 37.4 MB/s \n",
            "\u001b[?25hCollecting texttable>=1.6.2\n",
            "  Downloading texttable-1.6.4-py2.py3-none-any.whl (10 kB)\n",
            "Collecting stdlib_list\n",
            "  Downloading stdlib_list-0.8.0-py3-none-any.whl (63 kB)\n",
            "\u001b[K     |████████████████████████████████| 63 kB 2.2 MB/s \n",
            "\u001b[?25hBuilding wheels for collected packages: umap-learn, pynndescent, session-info\n",
            "  Building wheel for umap-learn (setup.py) ... \u001b[?25l\u001b[?25hdone\n",
            "  Created wheel for umap-learn: filename=umap_learn-0.5.3-py3-none-any.whl size=82829 sha256=738a28e4b508c1b78dd708520e50085a2993956150e0483baaadb9618c73be09\n",
            "  Stored in directory: /root/.cache/pip/wheels/b3/52/a5/1fd9e3e76a7ab34f134c07469cd6f16e27ef3a37aeff1fe821\n",
            "  Building wheel for pynndescent (setup.py) ... \u001b[?25l\u001b[?25hdone\n",
            "  Created wheel for pynndescent: filename=pynndescent-0.5.7-py3-none-any.whl size=54286 sha256=593a25cf92cf554c15f0e0c0a63837f9faf27f4063210e270a23f80528944423\n",
            "  Stored in directory: /root/.cache/pip/wheels/7f/2a/f8/7bd5dcec71bd5c669f6f574db3113513696b98f3f9b51f496c\n",
            "  Building wheel for session-info (setup.py) ... \u001b[?25l\u001b[?25hdone\n",
            "  Created wheel for session-info: filename=session_info-1.0.0-py3-none-any.whl size=8048 sha256=11ae955553e607254fac27046b0c68398ab2dae37a4466609f97a9297d6dc558\n",
            "  Stored in directory: /root/.cache/pip/wheels/bd/ad/14/6a42359351a18337a8683854cfbba99dd782271f2d1767f87f\n",
            "Successfully built umap-learn pynndescent session-info\n",
            "Installing collected packages: fonttools, texttable, stdlib-list, pynndescent, matplotlib, umap-learn, session-info, igraph, anndata, scanpy, leidenalg\n",
            "  Attempting uninstall: matplotlib\n",
            "    Found existing installation: matplotlib 3.2.2\n",
            "    Uninstalling matplotlib-3.2.2:\n",
            "      Successfully uninstalled matplotlib-3.2.2\n",
            "Successfully installed anndata-0.8.0 fonttools-4.37.0 igraph-0.9.11 leidenalg-0.8.10 matplotlib-3.5.3 pynndescent-0.5.7 scanpy-1.9.1 session-info-1.0.0 stdlib-list-0.8.0 texttable-1.6.4 umap-learn-0.5.3\n"
          ]
        },
        {
          "output_type": "display_data",
          "data": {
            "application/vnd.colab-display-data+json": {
              "pip_warning": {
                "packages": [
                  "matplotlib",
                  "mpl_toolkits"
                ]
              }
            }
          },
          "metadata": {}
        }
      ]
    },
    {
      "cell_type": "code",
      "source": [
        "import scanpy as sc\n",
        "import numpy as np\n",
        "import re\n",
        "import os\n",
        "import pandas as pd\n",
        "import seaborn as sb\n",
        "import matplotlib\n",
        "import scipy.sparse as sp\n",
        "from scipy.sparse import issparse\n",
        "\n",
        "import matplotlib as mpl\n",
        "from scipy import stats as scistats\n",
        "import matplotlib.pyplot as pl\n",
        "import scanpy.external as sce\n",
        "from matplotlib import colors\n",
        "from pathlib import Path\n",
        "\n",
        "\n",
        "sc._settings.ScanpyConfig.n_jobs=4\n",
        "\n",
        "\n",
        "\n"
      ],
      "metadata": {
        "id": "vDMo_HyZuRgj"
      },
      "execution_count": 1,
      "outputs": []
    },
    {
      "cell_type": "markdown",
      "source": [
        "# Downloading data"
      ],
      "metadata": {
        "id": "iG3SY2r9u5xk"
      }
    },
    {
      "cell_type": "markdown",
      "source": [
        "## Fresh LnCaP"
      ],
      "metadata": {
        "id": "zFr_UaSSu-z8"
      }
    },
    {
      "cell_type": "code",
      "source": [
        "!wget -v -O Fresh.h5ad https://universityofadelaide.box.com/v/LnCaP-Fresh-filtered"
      ],
      "metadata": {
        "colab": {
          "base_uri": "https://localhost:8080/"
        },
        "id": "LvfFnfWOu9_q",
        "outputId": "6937437d-9168-4bab-899b-12dfb6af1de5"
      },
      "execution_count": 4,
      "outputs": [
        {
          "output_type": "stream",
          "name": "stdout",
          "text": [
            "--2022-08-24 07:30:52--  https://universityofadelaide.box.com/v/LnCaP-Fresh-filtered\n",
            "Resolving universityofadelaide.box.com (universityofadelaide.box.com)... 185.235.236.197\n",
            "Connecting to universityofadelaide.box.com (universityofadelaide.box.com)|185.235.236.197|:443... connected.\n",
            "HTTP request sent, awaiting response... 301 Moved Permanently\n",
            "Location: https://universityofadelaide.app.box.com/v/LnCaP-Fresh-filtered [following]\n",
            "--2022-08-24 07:30:53--  https://universityofadelaide.app.box.com/v/LnCaP-Fresh-filtered\n",
            "Resolving universityofadelaide.app.box.com (universityofadelaide.app.box.com)... 74.112.186.144\n",
            "Connecting to universityofadelaide.app.box.com (universityofadelaide.app.box.com)|74.112.186.144|:443... connected.\n",
            "HTTP request sent, awaiting response... 302 Found\n",
            "Location: /login?redirect_url=https%3A%2F%2Funiversityofadelaide.app.box.com%2Fv%2FLnCaP-Fresh-filtered [following]\n",
            "--2022-08-24 07:30:53--  https://universityofadelaide.app.box.com/login?redirect_url=https%3A%2F%2Funiversityofadelaide.app.box.com%2Fv%2FLnCaP-Fresh-filtered\n",
            "Reusing existing connection to universityofadelaide.app.box.com:443.\n",
            "HTTP request sent, awaiting response... 301 Moved Permanently\n",
            "Location: https://universityofadelaide.account.box.com/login?redirect_url=https%3A%2F%2Funiversityofadelaide.app.box.com%2Fv%2FLnCaP-Fresh-filtered [following]\n",
            "--2022-08-24 07:30:53--  https://universityofadelaide.account.box.com/login?redirect_url=https%3A%2F%2Funiversityofadelaide.app.box.com%2Fv%2FLnCaP-Fresh-filtered\n",
            "Resolving universityofadelaide.account.box.com (universityofadelaide.account.box.com)... 107.152.26.201\n",
            "Connecting to universityofadelaide.account.box.com (universityofadelaide.account.box.com)|107.152.26.201|:443... connected.\n",
            "HTTP request sent, awaiting response... 200 OK\n",
            "Length: unspecified [text/html]\n",
            "Saving to: ‘Fresh.h5ad’\n",
            "\n",
            "Fresh.h5ad              [ <=>                ]  15.46K  --.-KB/s    in 0.06s   \n",
            "\n",
            "2022-08-24 07:30:54 (240 KB/s) - ‘Fresh.h5ad’ saved [15826]\n",
            "\n"
          ]
        }
      ]
    },
    {
      "cell_type": "code",
      "source": [
        "!wget https://universityofadelaide.app.box.com/file/1000527797140?s=2ywzhgpn96o6aceezxbrxzoji0kk6emv"
      ],
      "metadata": {
        "colab": {
          "base_uri": "https://localhost:8080/"
        },
        "id": "U7cxR6nfytT2",
        "outputId": "6b7c1235-4189-4f84-fe4b-c8c47c7e5cba"
      },
      "execution_count": 19,
      "outputs": [
        {
          "output_type": "stream",
          "name": "stdout",
          "text": [
            "--2022-08-24 07:48:27--  https://universityofadelaide.app.box.com/file/1000527797140?s=2ywzhgpn96o6aceezxbrxzoji0kk6emv\n",
            "Resolving universityofadelaide.app.box.com (universityofadelaide.app.box.com)... 74.112.186.144\n",
            "Connecting to universityofadelaide.app.box.com (universityofadelaide.app.box.com)|74.112.186.144|:443... connected.\n",
            "HTTP request sent, awaiting response... 302 Found\n",
            "Location: https://universityofadelaide.box.com/s/2ywzhgpn96o6aceezxbrxzoji0kk6emv [following]\n",
            "--2022-08-24 07:48:27--  https://universityofadelaide.box.com/s/2ywzhgpn96o6aceezxbrxzoji0kk6emv\n",
            "Resolving universityofadelaide.box.com (universityofadelaide.box.com)... 107.152.29.197\n",
            "Connecting to universityofadelaide.box.com (universityofadelaide.box.com)|107.152.29.197|:443... connected.\n",
            "HTTP request sent, awaiting response... 301 Moved Permanently\n",
            "Location: https://universityofadelaide.app.box.com/s/2ywzhgpn96o6aceezxbrxzoji0kk6emv [following]\n",
            "--2022-08-24 07:48:27--  https://universityofadelaide.app.box.com/s/2ywzhgpn96o6aceezxbrxzoji0kk6emv\n",
            "Connecting to universityofadelaide.app.box.com (universityofadelaide.app.box.com)|74.112.186.144|:443... connected.\n",
            "HTTP request sent, awaiting response... 200 OK\n",
            "Length: unspecified [text/html]\n",
            "Saving to: ‘1000527797140?s=2ywzhgpn96o6aceezxbrxzoji0kk6emv’\n",
            "\n",
            "1000527797140?s=2yw     [  <=>               ]  12.96K  31.5KB/s    in 0.4s    \n",
            "\n",
            "2022-08-24 07:48:28 (31.5 KB/s) - ‘1000527797140?s=2ywzhgpn96o6aceezxbrxzoji0kk6emv’ saved [13271]\n",
            "\n"
          ]
        }
      ]
    },
    {
      "cell_type": "code",
      "source": [
        "wget -v -O myfile.tgz -L https://ibm.box.com/shared/static/xxxxx.tgz"
      ],
      "metadata": {
        "id": "kkSWWMQ5v-NC"
      },
      "execution_count": null,
      "outputs": []
    },
    {
      "cell_type": "code",
      "source": [
        "!curl -L  https://universityofadelaide.box.com/s/2ywzhgpn96o6aceezxbrxzoji0kk6emv --output Fresh2.h5ad"
      ],
      "metadata": {
        "colab": {
          "base_uri": "https://localhost:8080/"
        },
        "id": "14B3Bsepw_op",
        "outputId": "09844512-a32b-4723-bf1b-1510b167d496"
      },
      "execution_count": 7,
      "outputs": [
        {
          "output_type": "stream",
          "name": "stdout",
          "text": [
            "  % Total    % Received % Xferd  Average Speed   Time    Time     Time  Current\n",
            "                                 Dload  Upload   Total   Spent    Left  Speed\n",
            "  0     0    0     0    0     0      0      0 --:--:-- --:--:-- --:--:--     0\n",
            "100 13276    0 13276    0     0  12802      0 --:--:--  0:00:01 --:--:--     0\n"
          ]
        }
      ]
    },
    {
      "cell_type": "code",
      "source": [
        ""
      ],
      "metadata": {
        "id": "bHjbVDToxGcA"
      },
      "execution_count": null,
      "outputs": []
    },
    {
      "cell_type": "markdown",
      "source": [
        "![image.png]()"
      ],
      "metadata": {
        "id": "MQoYnncpUNwA"
      }
    },
    {
      "cell_type": "code",
      "source": [
        ""
      ],
      "metadata": {
        "id": "MCAgIFgNUWt6"
      },
      "execution_count": null,
      "outputs": []
    }
  ]
}